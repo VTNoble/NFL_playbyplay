{
 "cells": [
  {
   "cell_type": "markdown",
   "id": "c895f6da",
   "metadata": {},
   "source": [
    "# NFL Play-by-Play Data Analysis\n",
    "\n",
    "### Assist from https://towardsdatascience.com/analyzing-and-plotting-nfl-data-with-nflfastpy-and-plotly-a170a09cad6"
   ]
  },
  {
   "cell_type": "code",
   "execution_count": 1,
   "id": "5f3fbfdb",
   "metadata": {},
   "outputs": [],
   "source": [
    "import nfl_data_py as nfl\n",
    "import pandas as pd\n",
    "import plotly.graph_objects as go"
   ]
  },
  {
   "cell_type": "code",
   "execution_count": 2,
   "id": "f0ce8fe0",
   "metadata": {},
   "outputs": [
    {
     "name": "stdout",
     "output_type": "stream",
     "text": [
      "2021 done.\n",
      "Downcasting floats.\n"
     ]
    }
   ],
   "source": [
    "df_2021 = nfl.import_pbp_data([2021])"
   ]
  },
  {
   "cell_type": "code",
   "execution_count": 3,
   "id": "418fec51",
   "metadata": {},
   "outputs": [],
   "source": [
    "cols = list(nfl.see_pbp_cols())"
   ]
  },
  {
   "cell_type": "code",
   "execution_count": 4,
   "id": "6c58f9b8",
   "metadata": {},
   "outputs": [
    {
     "data": {
      "text/plain": [
       "['play_id',\n",
       " 'game_id',\n",
       " 'old_game_id',\n",
       " 'home_team',\n",
       " 'away_team',\n",
       " 'season_type',\n",
       " 'week',\n",
       " 'posteam',\n",
       " 'posteam_type',\n",
       " 'defteam',\n",
       " 'side_of_field',\n",
       " 'yardline_100',\n",
       " 'game_date',\n",
       " 'quarter_seconds_remaining',\n",
       " 'half_seconds_remaining',\n",
       " 'game_seconds_remaining',\n",
       " 'game_half',\n",
       " 'quarter_end',\n",
       " 'drive',\n",
       " 'sp',\n",
       " 'qtr',\n",
       " 'down',\n",
       " 'goal_to_go',\n",
       " 'time',\n",
       " 'yrdln',\n",
       " 'ydstogo',\n",
       " 'ydsnet',\n",
       " 'desc',\n",
       " 'play_type',\n",
       " 'yards_gained',\n",
       " 'shotgun',\n",
       " 'no_huddle',\n",
       " 'qb_dropback',\n",
       " 'qb_kneel',\n",
       " 'qb_spike',\n",
       " 'qb_scramble',\n",
       " 'pass_length',\n",
       " 'pass_location',\n",
       " 'air_yards',\n",
       " 'yards_after_catch',\n",
       " 'run_location',\n",
       " 'run_gap',\n",
       " 'field_goal_result',\n",
       " 'kick_distance',\n",
       " 'extra_point_result',\n",
       " 'two_point_conv_result',\n",
       " 'home_timeouts_remaining',\n",
       " 'away_timeouts_remaining',\n",
       " 'timeout',\n",
       " 'timeout_team',\n",
       " 'td_team',\n",
       " 'td_player_name',\n",
       " 'td_player_id',\n",
       " 'posteam_timeouts_remaining',\n",
       " 'defteam_timeouts_remaining',\n",
       " 'total_home_score',\n",
       " 'total_away_score',\n",
       " 'posteam_score',\n",
       " 'defteam_score',\n",
       " 'score_differential',\n",
       " 'posteam_score_post',\n",
       " 'defteam_score_post',\n",
       " 'score_differential_post',\n",
       " 'no_score_prob',\n",
       " 'opp_fg_prob',\n",
       " 'opp_safety_prob',\n",
       " 'opp_td_prob',\n",
       " 'fg_prob',\n",
       " 'safety_prob',\n",
       " 'td_prob',\n",
       " 'extra_point_prob',\n",
       " 'two_point_conversion_prob',\n",
       " 'ep',\n",
       " 'epa',\n",
       " 'total_home_epa',\n",
       " 'total_away_epa',\n",
       " 'total_home_rush_epa',\n",
       " 'total_away_rush_epa',\n",
       " 'total_home_pass_epa',\n",
       " 'total_away_pass_epa',\n",
       " 'air_epa',\n",
       " 'yac_epa',\n",
       " 'comp_air_epa',\n",
       " 'comp_yac_epa',\n",
       " 'total_home_comp_air_epa',\n",
       " 'total_away_comp_air_epa',\n",
       " 'total_home_comp_yac_epa',\n",
       " 'total_away_comp_yac_epa',\n",
       " 'total_home_raw_air_epa',\n",
       " 'total_away_raw_air_epa',\n",
       " 'total_home_raw_yac_epa',\n",
       " 'total_away_raw_yac_epa',\n",
       " 'wp',\n",
       " 'def_wp',\n",
       " 'home_wp',\n",
       " 'away_wp',\n",
       " 'wpa',\n",
       " 'vegas_wpa',\n",
       " 'vegas_home_wpa',\n",
       " 'home_wp_post',\n",
       " 'away_wp_post',\n",
       " 'vegas_wp',\n",
       " 'vegas_home_wp',\n",
       " 'total_home_rush_wpa',\n",
       " 'total_away_rush_wpa',\n",
       " 'total_home_pass_wpa',\n",
       " 'total_away_pass_wpa',\n",
       " 'air_wpa',\n",
       " 'yac_wpa',\n",
       " 'comp_air_wpa',\n",
       " 'comp_yac_wpa',\n",
       " 'total_home_comp_air_wpa',\n",
       " 'total_away_comp_air_wpa',\n",
       " 'total_home_comp_yac_wpa',\n",
       " 'total_away_comp_yac_wpa',\n",
       " 'total_home_raw_air_wpa',\n",
       " 'total_away_raw_air_wpa',\n",
       " 'total_home_raw_yac_wpa',\n",
       " 'total_away_raw_yac_wpa',\n",
       " 'punt_blocked',\n",
       " 'first_down_rush',\n",
       " 'first_down_pass',\n",
       " 'first_down_penalty',\n",
       " 'third_down_converted',\n",
       " 'third_down_failed',\n",
       " 'fourth_down_converted',\n",
       " 'fourth_down_failed',\n",
       " 'incomplete_pass',\n",
       " 'touchback',\n",
       " 'interception',\n",
       " 'punt_inside_twenty',\n",
       " 'punt_in_endzone',\n",
       " 'punt_out_of_bounds',\n",
       " 'punt_downed',\n",
       " 'punt_fair_catch',\n",
       " 'kickoff_inside_twenty',\n",
       " 'kickoff_in_endzone',\n",
       " 'kickoff_out_of_bounds',\n",
       " 'kickoff_downed',\n",
       " 'kickoff_fair_catch',\n",
       " 'fumble_forced',\n",
       " 'fumble_not_forced',\n",
       " 'fumble_out_of_bounds',\n",
       " 'solo_tackle',\n",
       " 'safety',\n",
       " 'penalty',\n",
       " 'tackled_for_loss',\n",
       " 'fumble_lost',\n",
       " 'own_kickoff_recovery',\n",
       " 'own_kickoff_recovery_td',\n",
       " 'qb_hit',\n",
       " 'rush_attempt',\n",
       " 'pass_attempt',\n",
       " 'sack',\n",
       " 'touchdown',\n",
       " 'pass_touchdown',\n",
       " 'rush_touchdown',\n",
       " 'return_touchdown',\n",
       " 'extra_point_attempt',\n",
       " 'two_point_attempt',\n",
       " 'field_goal_attempt',\n",
       " 'kickoff_attempt',\n",
       " 'punt_attempt',\n",
       " 'fumble',\n",
       " 'complete_pass',\n",
       " 'assist_tackle',\n",
       " 'lateral_reception',\n",
       " 'lateral_rush',\n",
       " 'lateral_return',\n",
       " 'lateral_recovery',\n",
       " 'passer_player_id',\n",
       " 'passer_player_name',\n",
       " 'passing_yards',\n",
       " 'receiver_player_id',\n",
       " 'receiver_player_name',\n",
       " 'receiving_yards',\n",
       " 'rusher_player_id',\n",
       " 'rusher_player_name',\n",
       " 'rushing_yards',\n",
       " 'lateral_receiver_player_id',\n",
       " 'lateral_receiver_player_name',\n",
       " 'lateral_receiving_yards',\n",
       " 'lateral_rusher_player_id',\n",
       " 'lateral_rusher_player_name',\n",
       " 'lateral_rushing_yards',\n",
       " 'lateral_sack_player_id',\n",
       " 'lateral_sack_player_name',\n",
       " 'interception_player_id',\n",
       " 'interception_player_name',\n",
       " 'lateral_interception_player_id',\n",
       " 'lateral_interception_player_name',\n",
       " 'punt_returner_player_id',\n",
       " 'punt_returner_player_name',\n",
       " 'lateral_punt_returner_player_id',\n",
       " 'lateral_punt_returner_player_name',\n",
       " 'kickoff_returner_player_name',\n",
       " 'kickoff_returner_player_id',\n",
       " 'lateral_kickoff_returner_player_id',\n",
       " 'lateral_kickoff_returner_player_name',\n",
       " 'punter_player_id',\n",
       " 'punter_player_name',\n",
       " 'kicker_player_name',\n",
       " 'kicker_player_id',\n",
       " 'own_kickoff_recovery_player_id',\n",
       " 'own_kickoff_recovery_player_name',\n",
       " 'blocked_player_id',\n",
       " 'blocked_player_name',\n",
       " 'tackle_for_loss_1_player_id',\n",
       " 'tackle_for_loss_1_player_name',\n",
       " 'tackle_for_loss_2_player_id',\n",
       " 'tackle_for_loss_2_player_name',\n",
       " 'qb_hit_1_player_id',\n",
       " 'qb_hit_1_player_name',\n",
       " 'qb_hit_2_player_id',\n",
       " 'qb_hit_2_player_name',\n",
       " 'forced_fumble_player_1_team',\n",
       " 'forced_fumble_player_1_player_id',\n",
       " 'forced_fumble_player_1_player_name',\n",
       " 'forced_fumble_player_2_team',\n",
       " 'forced_fumble_player_2_player_id',\n",
       " 'forced_fumble_player_2_player_name',\n",
       " 'solo_tackle_1_team',\n",
       " 'solo_tackle_2_team',\n",
       " 'solo_tackle_1_player_id',\n",
       " 'solo_tackle_2_player_id',\n",
       " 'solo_tackle_1_player_name',\n",
       " 'solo_tackle_2_player_name',\n",
       " 'assist_tackle_1_player_id',\n",
       " 'assist_tackle_1_player_name',\n",
       " 'assist_tackle_1_team',\n",
       " 'assist_tackle_2_player_id',\n",
       " 'assist_tackle_2_player_name',\n",
       " 'assist_tackle_2_team',\n",
       " 'assist_tackle_3_player_id',\n",
       " 'assist_tackle_3_player_name',\n",
       " 'assist_tackle_3_team',\n",
       " 'assist_tackle_4_player_id',\n",
       " 'assist_tackle_4_player_name',\n",
       " 'assist_tackle_4_team',\n",
       " 'tackle_with_assist',\n",
       " 'tackle_with_assist_1_player_id',\n",
       " 'tackle_with_assist_1_player_name',\n",
       " 'tackle_with_assist_1_team',\n",
       " 'tackle_with_assist_2_player_id',\n",
       " 'tackle_with_assist_2_player_name',\n",
       " 'tackle_with_assist_2_team',\n",
       " 'pass_defense_1_player_id',\n",
       " 'pass_defense_1_player_name',\n",
       " 'pass_defense_2_player_id',\n",
       " 'pass_defense_2_player_name',\n",
       " 'fumbled_1_team',\n",
       " 'fumbled_1_player_id',\n",
       " 'fumbled_1_player_name',\n",
       " 'fumbled_2_player_id',\n",
       " 'fumbled_2_player_name',\n",
       " 'fumbled_2_team',\n",
       " 'fumble_recovery_1_team',\n",
       " 'fumble_recovery_1_yards',\n",
       " 'fumble_recovery_1_player_id',\n",
       " 'fumble_recovery_1_player_name',\n",
       " 'fumble_recovery_2_team',\n",
       " 'fumble_recovery_2_yards',\n",
       " 'fumble_recovery_2_player_id',\n",
       " 'fumble_recovery_2_player_name',\n",
       " 'sack_player_id',\n",
       " 'sack_player_name',\n",
       " 'half_sack_1_player_id',\n",
       " 'half_sack_1_player_name',\n",
       " 'half_sack_2_player_id',\n",
       " 'half_sack_2_player_name',\n",
       " 'return_team',\n",
       " 'return_yards',\n",
       " 'penalty_team',\n",
       " 'penalty_player_id',\n",
       " 'penalty_player_name',\n",
       " 'penalty_yards',\n",
       " 'replay_or_challenge',\n",
       " 'replay_or_challenge_result',\n",
       " 'penalty_type',\n",
       " 'defensive_two_point_attempt',\n",
       " 'defensive_two_point_conv',\n",
       " 'defensive_extra_point_attempt',\n",
       " 'defensive_extra_point_conv',\n",
       " 'safety_player_name',\n",
       " 'safety_player_id',\n",
       " 'season',\n",
       " 'cp',\n",
       " 'cpoe',\n",
       " 'series',\n",
       " 'series_success',\n",
       " 'series_result',\n",
       " 'order_sequence',\n",
       " 'start_time',\n",
       " 'time_of_day',\n",
       " 'stadium',\n",
       " 'weather',\n",
       " 'nfl_api_id',\n",
       " 'play_clock',\n",
       " 'play_deleted',\n",
       " 'play_type_nfl',\n",
       " 'special_teams_play',\n",
       " 'st_play_type',\n",
       " 'end_clock_time',\n",
       " 'end_yard_line',\n",
       " 'fixed_drive',\n",
       " 'fixed_drive_result',\n",
       " 'drive_real_start_time',\n",
       " 'drive_play_count',\n",
       " 'drive_time_of_possession',\n",
       " 'drive_first_downs',\n",
       " 'drive_inside20',\n",
       " 'drive_ended_with_score',\n",
       " 'drive_quarter_start',\n",
       " 'drive_quarter_end',\n",
       " 'drive_yards_penalized',\n",
       " 'drive_start_transition',\n",
       " 'drive_end_transition',\n",
       " 'drive_game_clock_start',\n",
       " 'drive_game_clock_end',\n",
       " 'drive_start_yard_line',\n",
       " 'drive_end_yard_line',\n",
       " 'drive_play_id_started',\n",
       " 'drive_play_id_ended',\n",
       " 'away_score',\n",
       " 'home_score',\n",
       " 'location',\n",
       " 'result',\n",
       " 'total',\n",
       " 'spread_line',\n",
       " 'total_line',\n",
       " 'div_game',\n",
       " 'roof',\n",
       " 'surface',\n",
       " 'temp',\n",
       " 'wind',\n",
       " 'home_coach',\n",
       " 'away_coach',\n",
       " 'stadium_id',\n",
       " 'game_stadium',\n",
       " 'aborted_play',\n",
       " 'success',\n",
       " 'passer',\n",
       " 'passer_jersey_number',\n",
       " 'rusher',\n",
       " 'rusher_jersey_number',\n",
       " 'receiver',\n",
       " 'receiver_jersey_number',\n",
       " 'pass',\n",
       " 'rush',\n",
       " 'first_down',\n",
       " 'special',\n",
       " 'play',\n",
       " 'passer_id',\n",
       " 'rusher_id',\n",
       " 'receiver_id',\n",
       " 'name',\n",
       " 'jersey_number',\n",
       " 'id',\n",
       " 'fantasy_player_name',\n",
       " 'fantasy_player_id',\n",
       " 'fantasy',\n",
       " 'fantasy_id',\n",
       " 'out_of_bounds',\n",
       " 'home_opening_kickoff',\n",
       " 'qb_epa',\n",
       " 'xyac_epa',\n",
       " 'xyac_mean_yardage',\n",
       " 'xyac_median_yardage',\n",
       " 'xyac_success',\n",
       " 'xyac_fd',\n",
       " 'xpass',\n",
       " 'pass_oe']"
      ]
     },
     "execution_count": 4,
     "metadata": {},
     "output_type": "execute_result"
    }
   ],
   "source": [
    "cols"
   ]
  },
  {
   "cell_type": "code",
   "execution_count": 5,
   "id": "a869a8fb",
   "metadata": {},
   "outputs": [],
   "source": [
    "# import rosters for future join\n",
    "rosters = nfl.import_rosters([2021])"
   ]
  },
  {
   "cell_type": "code",
   "execution_count": 6,
   "id": "4e33596c",
   "metadata": {},
   "outputs": [],
   "source": [
    "# import teams (with colors) for future join\n",
    "teams = nfl.import_team_desc()"
   ]
  },
  {
   "cell_type": "code",
   "execution_count": 7,
   "id": "b82eb49f",
   "metadata": {},
   "outputs": [],
   "source": [
    "# filter to regular season\n",
    "df_2021 = df_2021[df_2021[\"season_type\"] == \"REG\"]\n",
    "\n",
    "# remove two point attempts\n",
    "df_2021 = df_2021[df_2021[\"two_point_attempt\"] == False]\n",
    "\n",
    "# filter to pass plays\n",
    "df_2021 = df_2021[df_2021[\"play_type\"] == \"pass\"]"
   ]
  },
  {
   "cell_type": "code",
   "execution_count": 8,
   "id": "b7150636",
   "metadata": {},
   "outputs": [
    {
     "data": {
      "text/html": [
       "<div>\n",
       "<style scoped>\n",
       "    .dataframe tbody tr th:only-of-type {\n",
       "        vertical-align: middle;\n",
       "    }\n",
       "\n",
       "    .dataframe tbody tr th {\n",
       "        vertical-align: top;\n",
       "    }\n",
       "\n",
       "    .dataframe thead th {\n",
       "        text-align: right;\n",
       "    }\n",
       "</style>\n",
       "<table border=\"1\" class=\"dataframe\">\n",
       "  <thead>\n",
       "    <tr style=\"text-align: right;\">\n",
       "      <th></th>\n",
       "      <th>play_id</th>\n",
       "      <th>game_id</th>\n",
       "      <th>old_game_id</th>\n",
       "      <th>home_team</th>\n",
       "      <th>away_team</th>\n",
       "      <th>season_type</th>\n",
       "      <th>week</th>\n",
       "      <th>posteam</th>\n",
       "      <th>posteam_type</th>\n",
       "      <th>defteam</th>\n",
       "      <th>...</th>\n",
       "      <th>out_of_bounds</th>\n",
       "      <th>home_opening_kickoff</th>\n",
       "      <th>qb_epa</th>\n",
       "      <th>xyac_epa</th>\n",
       "      <th>xyac_mean_yardage</th>\n",
       "      <th>xyac_median_yardage</th>\n",
       "      <th>xyac_success</th>\n",
       "      <th>xyac_fd</th>\n",
       "      <th>xpass</th>\n",
       "      <th>pass_oe</th>\n",
       "    </tr>\n",
       "  </thead>\n",
       "  <tbody>\n",
       "    <tr>\n",
       "      <th>3</th>\n",
       "      <td>76.0</td>\n",
       "      <td>2021_01_ARI_TEN</td>\n",
       "      <td>2021091207</td>\n",
       "      <td>TEN</td>\n",
       "      <td>ARI</td>\n",
       "      <td>REG</td>\n",
       "      <td>1</td>\n",
       "      <td>TEN</td>\n",
       "      <td>home</td>\n",
       "      <td>ARI</td>\n",
       "      <td>...</td>\n",
       "      <td>0.0</td>\n",
       "      <td>1.0</td>\n",
       "      <td>0.032412</td>\n",
       "      <td>1.165133</td>\n",
       "      <td>5.803177</td>\n",
       "      <td>4.0</td>\n",
       "      <td>0.896654</td>\n",
       "      <td>0.125098</td>\n",
       "      <td>0.697346</td>\n",
       "      <td>30.265415</td>\n",
       "    </tr>\n",
       "    <tr>\n",
       "      <th>4</th>\n",
       "      <td>100.0</td>\n",
       "      <td>2021_01_ARI_TEN</td>\n",
       "      <td>2021091207</td>\n",
       "      <td>TEN</td>\n",
       "      <td>ARI</td>\n",
       "      <td>REG</td>\n",
       "      <td>1</td>\n",
       "      <td>TEN</td>\n",
       "      <td>home</td>\n",
       "      <td>ARI</td>\n",
       "      <td>...</td>\n",
       "      <td>0.0</td>\n",
       "      <td>1.0</td>\n",
       "      <td>-1.532898</td>\n",
       "      <td>0.256036</td>\n",
       "      <td>4.147637</td>\n",
       "      <td>2.0</td>\n",
       "      <td>0.965009</td>\n",
       "      <td>0.965009</td>\n",
       "      <td>0.978253</td>\n",
       "      <td>2.174652</td>\n",
       "    </tr>\n",
       "    <tr>\n",
       "      <th>6</th>\n",
       "      <td>152.0</td>\n",
       "      <td>2021_01_ARI_TEN</td>\n",
       "      <td>2021091207</td>\n",
       "      <td>TEN</td>\n",
       "      <td>ARI</td>\n",
       "      <td>REG</td>\n",
       "      <td>1</td>\n",
       "      <td>ARI</td>\n",
       "      <td>away</td>\n",
       "      <td>TEN</td>\n",
       "      <td>...</td>\n",
       "      <td>1.0</td>\n",
       "      <td>1.0</td>\n",
       "      <td>2.692890</td>\n",
       "      <td>0.567838</td>\n",
       "      <td>7.420427</td>\n",
       "      <td>4.0</td>\n",
       "      <td>1.000000</td>\n",
       "      <td>1.000000</td>\n",
       "      <td>0.458989</td>\n",
       "      <td>54.101131</td>\n",
       "    </tr>\n",
       "    <tr>\n",
       "      <th>8</th>\n",
       "      <td>218.0</td>\n",
       "      <td>2021_01_ARI_TEN</td>\n",
       "      <td>2021091207</td>\n",
       "      <td>TEN</td>\n",
       "      <td>ARI</td>\n",
       "      <td>REG</td>\n",
       "      <td>1</td>\n",
       "      <td>ARI</td>\n",
       "      <td>away</td>\n",
       "      <td>TEN</td>\n",
       "      <td>...</td>\n",
       "      <td>1.0</td>\n",
       "      <td>1.0</td>\n",
       "      <td>-0.511090</td>\n",
       "      <td>1.036891</td>\n",
       "      <td>10.339405</td>\n",
       "      <td>9.0</td>\n",
       "      <td>0.478471</td>\n",
       "      <td>0.079696</td>\n",
       "      <td>0.684949</td>\n",
       "      <td>31.505138</td>\n",
       "    </tr>\n",
       "    <tr>\n",
       "      <th>9</th>\n",
       "      <td>253.0</td>\n",
       "      <td>2021_01_ARI_TEN</td>\n",
       "      <td>2021091207</td>\n",
       "      <td>TEN</td>\n",
       "      <td>ARI</td>\n",
       "      <td>REG</td>\n",
       "      <td>1</td>\n",
       "      <td>ARI</td>\n",
       "      <td>away</td>\n",
       "      <td>TEN</td>\n",
       "      <td>...</td>\n",
       "      <td>1.0</td>\n",
       "      <td>1.0</td>\n",
       "      <td>2.182015</td>\n",
       "      <td>0.517965</td>\n",
       "      <td>3.045047</td>\n",
       "      <td>1.0</td>\n",
       "      <td>1.000000</td>\n",
       "      <td>0.998799</td>\n",
       "      <td>0.775463</td>\n",
       "      <td>22.453720</td>\n",
       "    </tr>\n",
       "  </tbody>\n",
       "</table>\n",
       "<p>5 rows × 372 columns</p>\n",
       "</div>"
      ],
      "text/plain": [
       "   play_id          game_id old_game_id home_team away_team season_type  week  \\\n",
       "3     76.0  2021_01_ARI_TEN  2021091207       TEN       ARI         REG     1   \n",
       "4    100.0  2021_01_ARI_TEN  2021091207       TEN       ARI         REG     1   \n",
       "6    152.0  2021_01_ARI_TEN  2021091207       TEN       ARI         REG     1   \n",
       "8    218.0  2021_01_ARI_TEN  2021091207       TEN       ARI         REG     1   \n",
       "9    253.0  2021_01_ARI_TEN  2021091207       TEN       ARI         REG     1   \n",
       "\n",
       "  posteam posteam_type defteam  ... out_of_bounds  home_opening_kickoff  \\\n",
       "3     TEN         home     ARI  ...           0.0                   1.0   \n",
       "4     TEN         home     ARI  ...           0.0                   1.0   \n",
       "6     ARI         away     TEN  ...           1.0                   1.0   \n",
       "8     ARI         away     TEN  ...           1.0                   1.0   \n",
       "9     ARI         away     TEN  ...           1.0                   1.0   \n",
       "\n",
       "     qb_epa  xyac_epa  xyac_mean_yardage  xyac_median_yardage xyac_success  \\\n",
       "3  0.032412  1.165133           5.803177                  4.0     0.896654   \n",
       "4 -1.532898  0.256036           4.147637                  2.0     0.965009   \n",
       "6  2.692890  0.567838           7.420427                  4.0     1.000000   \n",
       "8 -0.511090  1.036891          10.339405                  9.0     0.478471   \n",
       "9  2.182015  0.517965           3.045047                  1.0     1.000000   \n",
       "\n",
       "    xyac_fd     xpass    pass_oe  \n",
       "3  0.125098  0.697346  30.265415  \n",
       "4  0.965009  0.978253   2.174652  \n",
       "6  1.000000  0.458989  54.101131  \n",
       "8  0.079696  0.684949  31.505138  \n",
       "9  0.998799  0.775463  22.453720  \n",
       "\n",
       "[5 rows x 372 columns]"
      ]
     },
     "execution_count": 8,
     "metadata": {},
     "output_type": "execute_result"
    }
   ],
   "source": [
    "df_2021.head()"
   ]
  },
  {
   "cell_type": "code",
   "execution_count": 9,
   "id": "db5f4acb",
   "metadata": {},
   "outputs": [],
   "source": [
    "# join with the roster table to get player names\n",
    "df_2021 = df_2021.merge(rosters[[\"player_name\", \"player_id\"]], left_on=\"receiver_player_id\", right_on=\"player_id\")"
   ]
  },
  {
   "cell_type": "code",
   "execution_count": 10,
   "id": "f2112480",
   "metadata": {},
   "outputs": [
    {
     "data": {
      "text/plain": [
       "array(['Derrick Henry', 'Chester Rogers', 'DeAndre Hopkins',\n",
       "       'Chase Edmonds', 'A.J. Green', 'Christian Kirk', 'Rondale Moore',\n",
       "       'Sam Cooper', 'Mark Vital', 'Demetrius Harris', 'Jeremy McNichols',\n",
       "       'Amani Hooker', 'A.J. Brown', 'Anthony Firkser', 'Julio Jones',\n",
       "       'Geoff Swaim', 'Nick Westbrook-Ikhine', 'Maxx Williams',\n",
       "       'Darren Waller', 'Alec Ingold', 'Hunter Renfrow', 'Josh Jacobs',\n",
       "       \"Ty'Son Williams\", 'Sammy Watkins', 'Mark Andrews',\n",
       "       'Marquise Brown', 'Devin Duvernay', 'Josh Oliver', 'Kenyan Drake',\n",
       "       'Zay Jones', 'Bryan Edwards', 'Patrick Ricard', 'Willie Snead',\n",
       "       'Darnell Mooney', 'Marquise Goodwin', 'Tyler Higbee',\n",
       "       'Van Jefferson', 'Allen Robinson', 'Cole Kmet', 'Damien Williams',\n",
       "       'Cooper Kupp', 'DeSean Jackson', 'Damiere Byrd',\n",
       "       'Darrell Henderson', 'Robert Woods', 'David Montgomery',\n",
       "       'Jimmy Graham', 'Nick Chubb', 'Austin Hooper', 'Andy Janovich',\n",
       "       'Anthony Schwartz', 'David Njoku', 'Travis Kelce',\n",
       "       'Clyde Edwards-Helaire', 'Tyreek Hill', 'Demarcus Robinson',\n",
       "       'Harrison Bryant', 'Mecole Hardman', 'Byron Pringle',\n",
       "       'Mike Remmers', 'Jarvis Landry', 'Blake Bell', 'Kareem Hunt',\n",
       "       'Donovan Peoples-Jones', 'Chris Godwin', 'Amari Cooper',\n",
       "       'Dalton Schultz', 'CeeDee Lamb', 'Mike Evans', 'Rob Gronkowski',\n",
       "       'Tony Pollard', 'Michael Gallup', 'Blake Jarwin',\n",
       "       'Leonard Fournette', 'Cedrick Wilson', 'Ezekiel Elliott',\n",
       "       'Giovani Bernard', 'Tyler Johnson', 'Darius Slayton',\n",
       "       'Kadarius Toney', 'Sterling Shepard', 'Noah Fant',\n",
       "       'Courtland Sutton', 'Jerry Jeudy', 'Eric Saubert', 'Tim Patrick',\n",
       "       'Melvin Gordon', 'K.J. Hamler', 'Kenny Golladay', 'Saquon Barkley',\n",
       "       'Devontae Booker', 'Javonte Williams', 'Albert Okwuegbunam',\n",
       "       'Elijhaa Penny', 'Kyle Rudolph', 'Gary Brightwell', 'C.J. Board',\n",
       "       'Marquez Callaway', 'Adam Trautman', 'Davante Adams',\n",
       "       'Aaron Jones', 'Marquez Valdes-Scantling', 'Robert Tonyan',\n",
       "       'Alvin Kamara', 'Deonte Harris', 'Tony Jones', 'Juwan Johnson',\n",
       "       'Ty Montgomery', 'Allen Lazard', 'Marcedes Lewis', 'Chris Hogan',\n",
       "       'A.J. Dillon', 'Amari Rodgers', 'Malik Taylor', 'Randall Cobb',\n",
       "       'Brandin Cooks', 'Nico Collins', 'D.J. Chark', 'Laviska Shenault',\n",
       "       'Pharaoh Brown', 'Danny Amendola', 'Phillip Lindsay',\n",
       "       'Marvin Jones', \"James O'Shaughnessy\", 'Chris Conley',\n",
       "       'David Johnson', 'Chris Manhertz', 'Rex Burkhead', 'Mark Ingram',\n",
       "       'Tyron Johnson', 'Jordan Akins', 'James Robinson', 'Carlos Hyde',\n",
       "       'Jalen Guyton', 'Jared Cook', 'Mike Williams', 'Keenan Allen',\n",
       "       'Antonio Gibson', 'Dyami Brown', 'Justin Jackson',\n",
       "       'Adam Humphries', 'K.J. Hill', 'J.D. McKissic', 'Stephen Anderson',\n",
       "       'Josh Palmer', 'Logan Thomas', 'Terry McLaurin', 'Cam Sims',\n",
       "       'Donald Parham', 'James White', 'Jaylen Waddle', 'Durham Smythe',\n",
       "       'Salvon Ahmed', 'Nelson Agholor', 'Jakobi Meyers',\n",
       "       'Rhamondre Stevenson', 'Mike Gesicki', 'Jonnu Smith',\n",
       "       'DeVante Parker', 'Damien Harris', 'Myles Gaskin', 'Albert Wilson',\n",
       "       'Hunter Henry', 'Kendrick Bourne', 'Dalvin Cook', 'Tyler Conklin',\n",
       "       'Adam Thielen', 'Justin Jefferson', 'Dede Westbrook', 'Joe Mixon',\n",
       "       'Tyler Boyd', 'C.J. Uzomah', 'Samaje Perine', 'Tee Higgins',\n",
       "       'Alexander Mattison', 'K.J. Osborn', \"Ja'Marr Chase\",\n",
       "       'Ameer Abdullah', 'Mike Thomas', 'Christopher Herndon', 'C.J. Ham',\n",
       "       'Ryan Griffin', 'Michael Carter', 'Christian McCaffrey',\n",
       "       'Terrace Marshall', 'Corey Davis', 'Ty Johnson', 'D.J. Moore',\n",
       "       'Dan Arnold', 'Elijah Moore', 'Ian Thomas', 'Jeff Smith',\n",
       "       'Tyler Kroft', 'Robby Anderson', 'Braxton Berrios',\n",
       "       'Chuba Hubbard', 'Denzel Mims', 'Calvin Ridley',\n",
       "       'Cordarrelle Patterson', 'Kyle Pitts', 'Hayden Hurst',\n",
       "       'Russell Gage', 'Mike Davis', 'Quez Watkins', 'DeVonta Smith',\n",
       "       'Keith Smith', 'Dallas Goedert', 'Zach Ertz', 'Miles Sanders',\n",
       "       'Jalen Reagor', 'Kenneth Gainwell', 'Cole Beasley', 'Stefon Diggs',\n",
       "       'Diontae Johnson', 'Dawson Knox', 'Emmanuel Sanders',\n",
       "       'Chase Claypool', 'JuJu Smith-Schuster', 'James Washington',\n",
       "       'Najee Harris', 'Devin Singletary', 'Gabriel Davis', 'Eric Ebron',\n",
       "       'Pat Freiermuth', 'Zach Gentry', 'Jack Doyle', 'Mike Strachan',\n",
       "       'Zach Pascal', 'Nyheim Hines', 'Jonathan Taylor', 'Tyler Lockett',\n",
       "       'Gerald Everett', 'Will Dissly', 'Parris Campbell',\n",
       "       'Michael Pittman', 'Chris Carson', 'Freddie Swain', 'Mo Alie-Cox',\n",
       "       \"D'Wayne Eskridge\", 'DK Metcalf', 'DeeJay Dallas',\n",
       "       'T.J. Hockenson', 'Jamaal Williams', 'Amon-Ra St. Brown',\n",
       "       \"D'Andre Swift\", 'George Kittle', 'Mohamed Sanu',\n",
       "       'Trent Sherfield', 'Deebo Samuel', 'Darren Fells', 'Kyle Juszczyk',\n",
       "       'Kalif Raymond', 'Jason Cabinda', 'Quintez Cephus',\n",
       "       'Jamycal Hasty', 'Trinity Benson', 'Olamide Zaccheaus',\n",
       "       'Lee Smith', 'Ronald Jones', 'Tajae Sharpe', 'O.J. Howard',\n",
       "       'Christian Blake', 'Cameron Brate', 'Parker Hesse',\n",
       "       'Isaiah McKenzie', 'Zack Moss', 'Jakeem Grant', 'Preston Williams',\n",
       "       'Cethan Carter', 'Jake Kumerow', 'Chris Evans', 'Austin Ekeler',\n",
       "       'Larry Rountree', 'Laquon Treadwell', 'Kendall Hinton',\n",
       "       'Luke Farrell', 'Equanimeous St. Brown', 'Rashard Higgins',\n",
       "       'Demetric Felton', 'Andre Roberts', 'Joe Fortson',\n",
       "       'Jerick McKinnon', 'Michael Burton', 'Ashton Dulin', 'Marlon Mack',\n",
       "       'Foster Moreau', 'Derek Carrier', 'Brandon Zylstra',\n",
       "       \"Lil'Jordan Humphrey\", 'Kaden Smith', 'Ricky Seals-Jones',\n",
       "       'Brandon Aiyuk', 'Elijah Mitchell', 'Jalen Hurts',\n",
       "       'Jauan Jennings', 'Tommy Hudson', 'Travis Homer', 'MyCole Pruitt',\n",
       "       'Jacob Hollister', 'James Conner', 'Phillip Dorsett',\n",
       "       'Evan Engram', 'Collin Johnson', 'James Proche', 'KhaDarel Hodge',\n",
       "       'Anthony Miller', 'Royce Freeman', 'Alex Erickson',\n",
       "       'Tommy Tremble', 'Odell Beckham', 'Derek Watt', 'Auden Tate',\n",
       "       'Ray-Ray McCloud', 'Cody White', 'Aaron Rodgers', 'Trey Sermon',\n",
       "       'Josiah Deguara', 'Cameron Batson', 'Racey McMath', 'Marcus Kemp',\n",
       "       'Gabe Nabers', 'Darrel Williams', 'Noah Gray', 'Malcolm Brown',\n",
       "       'Peyton Barber', 'Will Fuller', 'Kenny Stills', 'J.J. Taylor',\n",
       "       'Brandon Bolden', 'Diontae Spencer', 'Keelan Cole', 'Noah Brown',\n",
       "       'Greg Ward', 'Boston Scott', 'Penny Hart', 'Sony Michel',\n",
       "       'Scott Miller', 'Jaelon Darden', 'Tommy Sweeney', 'Reggie Gilliam',\n",
       "       'Taylor Heinicke', 'Johnny Mundt', \"Le'Veon Bell\", 'Rodney Smith',\n",
       "       'Adam Shaheen', 'Kylen Granson', 'Tavon Austin', 'Trenton Irwin',\n",
       "       'Jamal Agnew', 'Tevaughn Campbell', 'Taysom Hill', 'John Ross',\n",
       "       'Dwayne Washington', 'Benny Snell', 'Ross Dwelley', 'Alex Collins',\n",
       "       'Codey McElroy', \"N'Keal Harry\", 'Josh Reynolds', 'Tevin Coleman',\n",
       "       'Jamison Crowder', 'Trevon Wesco', 'Curtis Samuel',\n",
       "       'Wayne Gallman', 'Jaret Patterson', 'DeAndre Carter',\n",
       "       'Josh Gordon', 'Jesper Horsted', 'Jalen Richard', 'Kalen Ballage',\n",
       "       'David Moore', 'Ben Ellefson', 'Kylin Hill', 'Drew Sample',\n",
       "       'Latavius Murray', 'Devonta Freeman', 'Colby Parkinson',\n",
       "       'Mack Hollins', 'Isaiah Ford', 'Chris Moore', 'Antony Auclair',\n",
       "       'Dax Milne', 'Travis Benjamin', 'Charlie Woerner',\n",
       "       'Marcus Johnson', 'Dare Ogunbowale', 'Darrell Daniels',\n",
       "       \"D'Ernest Johnson\", 'Johnny Stanton', 'Tom Kennedy',\n",
       "       'Malik Turner', 'Khalil Herbert', 'T.Y. Hilton', 'John Bates',\n",
       "       'Dante Pettis', 'Rashod Bateman', 'Miles Boykin', 'Mike Boone',\n",
       "       'Hunter Long', 'Shi Smith', 'David Sills', 'Keith Kirkwood',\n",
       "       'Colin Thompson', 'Daniel Jones', 'Jesse James', 'Deon Yelder',\n",
       "       'Ryan Nall', 'John Brown', 'Tyrie Cleveland', 'Bobby Price',\n",
       "       'Geronimo Allison', 'Keke Coutee', 'Darrynton Evans',\n",
       "       'Derrick Gore', \"Tre'Quan Smith\", 'Devine Ozigbo', 'Kevin White',\n",
       "       'Jakob Johnson', 'Gunner Olszewski', 'Luke Stocker',\n",
       "       'Ihmir Smith-Marsette', 'Juwann Winfree', 'Antoine Wesley',\n",
       "       'Brevin Jordan', 'Scottie Phillips', 'Ben Skowronek',\n",
       "       'Patrick Laird', 'Jermar Jefferson', 'Godwin Igwebuike',\n",
       "       'Jack Stoll', 'Garrett Griffin', 'Alex Armah', 'Cyril Grayson',\n",
       "       'Kevin Rader', 'Sean McKeon', 'Dominique Dafney', 'Kirk Merritt',\n",
       "       'Joshua Kelley', 'Eric Tomlinson', 'Danny Pinter', 'Dezmon Patmon',\n",
       "       'Adrian Peterson', 'Corey Clement', 'Frank Darby', 'Matt Breida',\n",
       "       'Eno Benjamin', 'Brock Wright', 'Kendall Blanton',\n",
       "       \"D'Onta Foreman\", 'Dez Fitzpatrick', 'Tyler Davis', 'Nick Boyle',\n",
       "       'Stanley Morgan', \"Ja'Marcus Bradley\", 'Dontrell Hilliard',\n",
       "       'Nick Bawden', 'Qadree Ollison', 'Tyree Jackson',\n",
       "       'J.J. Arcega-Whiteside', 'Nick Vannett', 'Andrew Thomas',\n",
       "       'Breshad Perriman', 'Chris Myarick', \"Tre' McKitty\",\n",
       "       'Jeffery Wilson', 'Trent Williams', 'Adam Prentice',\n",
       "       'Isaiah Coulter', 'Tylan Wallace', 'Darius Bradwell',\n",
       "       'Daniel Helm', 'Austin Walter', 'Pharoh Cooper',\n",
       "       'Anthony McFarland', 'Cody Hollister', 'Rodney Adams',\n",
       "       'Davion Davis', 'Jaylen Samuels', 'Jaydon Mickens', 'Kene Nwangwu',\n",
       "       'Kenny Yeboah', 'Rashaad Penny', 'Wendell Smallwood',\n",
       "       'Jonathan Williams', 'Shane Zylstra', 'Taylor Decker',\n",
       "       'Craig Reynolds', 'Trey Ragas', 'D.J. Montgomery', 'Vyncint Smith',\n",
       "       'Easop Winston', 'Keion Crossen', 'Nick Bellore', 'Jonathan Ward',\n",
       "       'Andy Isabella', 'Giovanni Ricci', 'Jeremy Sprinkle',\n",
       "       'Dazz Newsome', \"Ke'Shawn Vaughn\", 'Zach Wilson', 'Duke Johnson',\n",
       "       'Christian Wilkins', 'Brycen Hopkins', 'Marvin Hall',\n",
       "       'Conor McDermott', 'Jason Moore', 'Ethan Wolf', 'Tommylee Lewis',\n",
       "       'Jordan Howard', 'Lane Johnson', 'Khari Blasingame',\n",
       "       'Reggie Bonnafon', 'Stephen Sullivan', 'Terence Steele',\n",
       "       'Greg Dortch', 'Dion Dawkins', 'Drew Lock', 'Seth Williams',\n",
       "       'Matt Nelson', 'Kristian Wilkerson', 'Ryquell Armstead',\n",
       "       'Garrett Bradbury', 'Daniel Brown', 'C.J. Saunders',\n",
       "       'Mitchell Wilcox', 'Trayveon Williams', 'Trent Taylor',\n",
       "       'Richard Rodgers', 'Jason Huntley', 'Patrick Taylor',\n",
       "       'Mekhi Sargent', 'Tarik Black', 'Cam Akers'], dtype=object)"
      ]
     },
     "execution_count": 10,
     "metadata": {},
     "output_type": "execute_result"
    }
   ],
   "source": [
    "df_2021[\"player_name\"].unique()"
   ]
  },
  {
   "cell_type": "code",
   "execution_count": 11,
   "id": "71e38ffe",
   "metadata": {},
   "outputs": [],
   "source": [
    "# join with team table to get team colors\n",
    "df_2021 = df_2021.merge(teams[[\"team_abbr\", \"team_color\"]], left_on=\"posteam\", right_on=\"team_abbr\")"
   ]
  },
  {
   "cell_type": "code",
   "execution_count": 12,
   "id": "9e053017",
   "metadata": {},
   "outputs": [],
   "source": [
    "# get total yards and touchdowns by week\n",
    "df_agg = (\n",
    "    df_2021.groupby([\"player_name\", \"team_abbr\", \"team_color\", \"week\"], as_index=False)\n",
    "    .agg({\"receiving_yards\": \"sum\", \"touchdown\": \"sum\"})\n",
    ")"
   ]
  },
  {
   "cell_type": "code",
   "execution_count": 13,
   "id": "6a7f97dd",
   "metadata": {},
   "outputs": [
    {
     "data": {
      "text/html": [
       "<div>\n",
       "<style scoped>\n",
       "    .dataframe tbody tr th:only-of-type {\n",
       "        vertical-align: middle;\n",
       "    }\n",
       "\n",
       "    .dataframe tbody tr th {\n",
       "        vertical-align: top;\n",
       "    }\n",
       "\n",
       "    .dataframe thead th {\n",
       "        text-align: right;\n",
       "    }\n",
       "</style>\n",
       "<table border=\"1\" class=\"dataframe\">\n",
       "  <thead>\n",
       "    <tr style=\"text-align: right;\">\n",
       "      <th></th>\n",
       "      <th>player_name</th>\n",
       "      <th>team_abbr</th>\n",
       "      <th>team_color</th>\n",
       "      <th>week</th>\n",
       "      <th>receiving_yards</th>\n",
       "      <th>touchdown</th>\n",
       "    </tr>\n",
       "  </thead>\n",
       "  <tbody>\n",
       "    <tr>\n",
       "      <th>4877</th>\n",
       "      <td>Stefon Diggs</td>\n",
       "      <td>BUF</td>\n",
       "      <td>#00338D</td>\n",
       "      <td>1</td>\n",
       "      <td>69.0</td>\n",
       "      <td>0.0</td>\n",
       "    </tr>\n",
       "    <tr>\n",
       "      <th>4878</th>\n",
       "      <td>Stefon Diggs</td>\n",
       "      <td>BUF</td>\n",
       "      <td>#00338D</td>\n",
       "      <td>2</td>\n",
       "      <td>60.0</td>\n",
       "      <td>1.0</td>\n",
       "    </tr>\n",
       "    <tr>\n",
       "      <th>4879</th>\n",
       "      <td>Stefon Diggs</td>\n",
       "      <td>BUF</td>\n",
       "      <td>#00338D</td>\n",
       "      <td>3</td>\n",
       "      <td>62.0</td>\n",
       "      <td>0.0</td>\n",
       "    </tr>\n",
       "    <tr>\n",
       "      <th>4880</th>\n",
       "      <td>Stefon Diggs</td>\n",
       "      <td>BUF</td>\n",
       "      <td>#00338D</td>\n",
       "      <td>4</td>\n",
       "      <td>114.0</td>\n",
       "      <td>0.0</td>\n",
       "    </tr>\n",
       "    <tr>\n",
       "      <th>4881</th>\n",
       "      <td>Stefon Diggs</td>\n",
       "      <td>BUF</td>\n",
       "      <td>#00338D</td>\n",
       "      <td>5</td>\n",
       "      <td>69.0</td>\n",
       "      <td>0.0</td>\n",
       "    </tr>\n",
       "    <tr>\n",
       "      <th>4882</th>\n",
       "      <td>Stefon Diggs</td>\n",
       "      <td>BUF</td>\n",
       "      <td>#00338D</td>\n",
       "      <td>6</td>\n",
       "      <td>89.0</td>\n",
       "      <td>1.0</td>\n",
       "    </tr>\n",
       "    <tr>\n",
       "      <th>4883</th>\n",
       "      <td>Stefon Diggs</td>\n",
       "      <td>BUF</td>\n",
       "      <td>#00338D</td>\n",
       "      <td>8</td>\n",
       "      <td>40.0</td>\n",
       "      <td>1.0</td>\n",
       "    </tr>\n",
       "    <tr>\n",
       "      <th>4884</th>\n",
       "      <td>Stefon Diggs</td>\n",
       "      <td>BUF</td>\n",
       "      <td>#00338D</td>\n",
       "      <td>9</td>\n",
       "      <td>85.0</td>\n",
       "      <td>0.0</td>\n",
       "    </tr>\n",
       "    <tr>\n",
       "      <th>4885</th>\n",
       "      <td>Stefon Diggs</td>\n",
       "      <td>BUF</td>\n",
       "      <td>#00338D</td>\n",
       "      <td>10</td>\n",
       "      <td>162.0</td>\n",
       "      <td>1.0</td>\n",
       "    </tr>\n",
       "    <tr>\n",
       "      <th>4886</th>\n",
       "      <td>Stefon Diggs</td>\n",
       "      <td>BUF</td>\n",
       "      <td>#00338D</td>\n",
       "      <td>11</td>\n",
       "      <td>23.0</td>\n",
       "      <td>2.0</td>\n",
       "    </tr>\n",
       "    <tr>\n",
       "      <th>4887</th>\n",
       "      <td>Stefon Diggs</td>\n",
       "      <td>BUF</td>\n",
       "      <td>#00338D</td>\n",
       "      <td>12</td>\n",
       "      <td>74.0</td>\n",
       "      <td>1.0</td>\n",
       "    </tr>\n",
       "    <tr>\n",
       "      <th>4888</th>\n",
       "      <td>Stefon Diggs</td>\n",
       "      <td>BUF</td>\n",
       "      <td>#00338D</td>\n",
       "      <td>13</td>\n",
       "      <td>51.0</td>\n",
       "      <td>0.0</td>\n",
       "    </tr>\n",
       "    <tr>\n",
       "      <th>4889</th>\n",
       "      <td>Stefon Diggs</td>\n",
       "      <td>BUF</td>\n",
       "      <td>#00338D</td>\n",
       "      <td>14</td>\n",
       "      <td>74.0</td>\n",
       "      <td>0.0</td>\n",
       "    </tr>\n",
       "    <tr>\n",
       "      <th>4890</th>\n",
       "      <td>Stefon Diggs</td>\n",
       "      <td>BUF</td>\n",
       "      <td>#00338D</td>\n",
       "      <td>15</td>\n",
       "      <td>35.0</td>\n",
       "      <td>1.0</td>\n",
       "    </tr>\n",
       "    <tr>\n",
       "      <th>4891</th>\n",
       "      <td>Stefon Diggs</td>\n",
       "      <td>BUF</td>\n",
       "      <td>#00338D</td>\n",
       "      <td>16</td>\n",
       "      <td>85.0</td>\n",
       "      <td>1.0</td>\n",
       "    </tr>\n",
       "    <tr>\n",
       "      <th>4892</th>\n",
       "      <td>Stefon Diggs</td>\n",
       "      <td>BUF</td>\n",
       "      <td>#00338D</td>\n",
       "      <td>17</td>\n",
       "      <td>52.0</td>\n",
       "      <td>0.0</td>\n",
       "    </tr>\n",
       "    <tr>\n",
       "      <th>4893</th>\n",
       "      <td>Stefon Diggs</td>\n",
       "      <td>BUF</td>\n",
       "      <td>#00338D</td>\n",
       "      <td>18</td>\n",
       "      <td>81.0</td>\n",
       "      <td>1.0</td>\n",
       "    </tr>\n",
       "  </tbody>\n",
       "</table>\n",
       "</div>"
      ],
      "text/plain": [
       "       player_name team_abbr team_color  week  receiving_yards  touchdown\n",
       "4877  Stefon Diggs       BUF    #00338D     1             69.0        0.0\n",
       "4878  Stefon Diggs       BUF    #00338D     2             60.0        1.0\n",
       "4879  Stefon Diggs       BUF    #00338D     3             62.0        0.0\n",
       "4880  Stefon Diggs       BUF    #00338D     4            114.0        0.0\n",
       "4881  Stefon Diggs       BUF    #00338D     5             69.0        0.0\n",
       "4882  Stefon Diggs       BUF    #00338D     6             89.0        1.0\n",
       "4883  Stefon Diggs       BUF    #00338D     8             40.0        1.0\n",
       "4884  Stefon Diggs       BUF    #00338D     9             85.0        0.0\n",
       "4885  Stefon Diggs       BUF    #00338D    10            162.0        1.0\n",
       "4886  Stefon Diggs       BUF    #00338D    11             23.0        2.0\n",
       "4887  Stefon Diggs       BUF    #00338D    12             74.0        1.0\n",
       "4888  Stefon Diggs       BUF    #00338D    13             51.0        0.0\n",
       "4889  Stefon Diggs       BUF    #00338D    14             74.0        0.0\n",
       "4890  Stefon Diggs       BUF    #00338D    15             35.0        1.0\n",
       "4891  Stefon Diggs       BUF    #00338D    16             85.0        1.0\n",
       "4892  Stefon Diggs       BUF    #00338D    17             52.0        0.0\n",
       "4893  Stefon Diggs       BUF    #00338D    18             81.0        1.0"
      ]
     },
     "execution_count": 13,
     "metadata": {},
     "output_type": "execute_result"
    }
   ],
   "source": [
    "# look at Stefon Diggs only\n",
    "df_agg[df_agg[\"player_name\"] == \"Stefon Diggs\"]"
   ]
  },
  {
   "cell_type": "code",
   "execution_count": 17,
   "id": "7ce05871",
   "metadata": {},
   "outputs": [
    {
     "data": {
      "application/vnd.plotly.v1+json": {
       "config": {
        "plotlyServerURL": "https://plot.ly"
       },
       "data": [
        {
         "hovertemplate": "<b>A.J. Brown</b><br>%{y} yds through week %{x}<extra></extra>",
         "line": {
          "color": "#002244"
         },
         "mode": "markers+lines",
         "name": "A.J. Brown",
         "type": "scatter",
         "x": [
          1,
          2,
          3,
          5,
          6,
          7,
          8,
          9,
          10,
          11,
          16,
          17,
          18
         ],
         "y": [
          49,
          92,
          92,
          130,
          221,
          354,
          509,
          551,
          567,
          615,
          760,
          801,
          869
         ]
        },
        {
         "hovertemplate": "<b>A.J. Green</b><br>%{y} yds through week %{x}<extra></extra>",
         "line": {
          "color": "#97233F"
         },
         "mode": "markers+lines",
         "name": "A.J. Green",
         "type": "scatter",
         "x": [
          1,
          2,
          3,
          4,
          5,
          6,
          7,
          8,
          10,
          11,
          13,
          14,
          15,
          16,
          17,
          18
         ],
         "y": [
          25,
          69,
          181,
          248,
          261,
          340,
          406,
          456,
          460,
          538,
          552,
          654,
          718,
          751,
          825,
          848
         ]
        },
        {
         "hovertemplate": "<b>Amari Cooper</b><br>%{y} yds through week %{x}<extra></extra>",
         "line": {
          "color": "#002244"
         },
         "mode": "markers+lines",
         "name": "Amari Cooper",
         "type": "scatter",
         "x": [
          1,
          2,
          3,
          4,
          5,
          6,
          8,
          9,
          10,
          13,
          14,
          15,
          16,
          17,
          18
         ],
         "y": [
          139,
          163,
          189,
          258,
          318,
          373,
          495,
          532,
          583,
          624,
          675,
          683,
          768,
          786,
          865
         ]
        },
        {
         "hovertemplate": "<b>Amon-Ra St. Brown</b><br>%{y} yds through week %{x}<extra></extra>",
         "line": {
          "color": "#0076B6"
         },
         "mode": "markers+lines",
         "name": "Amon-Ra St. Brown",
         "type": "scatter",
         "x": [
          1,
          2,
          3,
          4,
          5,
          6,
          8,
          10,
          11,
          12,
          13,
          14,
          15,
          16,
          17,
          18
         ],
         "y": [
          23,
          41,
          43,
          113,
          178,
          204,
          250,
          311,
          329,
          352,
          438,
          511,
          601,
          692,
          803,
          912
         ]
        },
        {
         "hovertemplate": "<b>Brandin Cooks</b><br>%{y} yds through week %{x}<extra></extra>",
         "line": {
          "color": "#03202F"
         },
         "mode": "markers+lines",
         "name": "Brandin Cooks",
         "type": "scatter",
         "x": [
          1,
          2,
          3,
          4,
          5,
          6,
          7,
          8,
          9,
          11,
          12,
          13,
          14,
          15,
          17,
          18
         ],
         "y": [
          132,
          210,
          322,
          369,
          392,
          481,
          502,
          585,
          639,
          657,
          702,
          740,
          841,
          943,
          1009,
          1035
         ]
        },
        {
         "hovertemplate": "<b>Brandon Aiyuk</b><br>%{y} yds through week %{x}<extra></extra>",
         "line": {
          "color": "#AA0000"
         },
         "mode": "markers+lines",
         "name": "Brandon Aiyuk",
         "type": "scatter",
         "x": [
          2,
          3,
          4,
          5,
          7,
          8,
          9,
          10,
          11,
          12,
          13,
          14,
          15,
          16,
          17,
          18
         ],
         "y": [
          6,
          43,
          58,
          90,
          96,
          141,
          230,
          256,
          341,
          432,
          487,
          549,
          585,
          625,
          719,
          826
         ]
        },
        {
         "hovertemplate": "<b>CeeDee Lamb</b><br>%{y} yds through week %{x}<extra></extra>",
         "line": {
          "color": "#002244"
         },
         "mode": "markers+lines",
         "name": "CeeDee Lamb",
         "type": "scatter",
         "x": [
          1,
          2,
          3,
          4,
          5,
          6,
          8,
          9,
          10,
          11,
          13,
          14,
          15,
          16,
          17,
          18
         ],
         "y": [
          104,
          185,
          251,
          264,
          348,
          497,
          609,
          632,
          726,
          740,
          829,
          890,
          940,
          1006,
          1057,
          1102
         ]
        },
        {
         "hovertemplate": "<b>Chase Claypool</b><br>%{y} yds through week %{x}<extra></extra>",
         "line": {
          "color": "#000000"
         },
         "mode": "markers+lines",
         "name": "Chase Claypool",
         "type": "scatter",
         "x": [
          1,
          2,
          3,
          5,
          6,
          8,
          9,
          11,
          12,
          13,
          14,
          15,
          16,
          17,
          18
         ],
         "y": [
          45,
          115,
          211,
          341,
          358,
          403,
          433,
          526,
          608,
          660,
          753,
          753,
          794,
          811,
          848
         ]
        },
        {
         "hovertemplate": "<b>Chris Godwin</b><br>%{y} yds through week %{x}<extra></extra>",
         "line": {
          "color": "#A71930"
         },
         "mode": "markers+lines",
         "name": "Chris Godwin",
         "type": "scatter",
         "x": [
          1,
          2,
          3,
          4,
          5,
          6,
          7,
          8,
          10,
          11,
          12,
          13,
          14,
          15
         ],
         "y": [
          105,
          167,
          241,
          296,
          366,
          409,
          520,
          660,
          717,
          782,
          806,
          949,
          1054,
          1103
         ]
        },
        {
         "hovertemplate": "<b>Christian Kirk</b><br>%{y} yds through week %{x}<extra></extra>",
         "line": {
          "color": "#97233F"
         },
         "mode": "markers+lines",
         "name": "Christian Kirk",
         "type": "scatter",
         "x": [
          1,
          2,
          3,
          4,
          5,
          6,
          7,
          8,
          9,
          10,
          11,
          13,
          14,
          15,
          16,
          17,
          18
         ],
         "y": [
          70,
          135,
          239,
          244,
          283,
          358,
          408,
          454,
          545,
          603,
          628,
          632,
          718,
          812,
          860,
          939,
          982
         ]
        },
        {
         "hovertemplate": "<b>Cooper Kupp</b><br>%{y} yds through week %{x}<extra></extra>",
         "line": {
          "color": "#003594"
         },
         "mode": "markers+lines",
         "name": "Cooper Kupp",
         "type": "scatter",
         "x": [
          1,
          2,
          3,
          4,
          5,
          6,
          7,
          8,
          9,
          10,
          12,
          13,
          14,
          15,
          16,
          17,
          18
         ],
         "y": [
          108,
          271,
          367,
          431,
          523,
          653,
          809,
          924,
          1019,
          1141,
          1237,
          1366,
          1489,
          1625,
          1734,
          1829,
          1947
         ]
        },
        {
         "hovertemplate": "<b>D.J. Moore</b><br>%{y} yds through week %{x}<extra></extra>",
         "line": {
          "color": "#0085CA"
         },
         "mode": "markers+lines",
         "name": "D.J. Moore",
         "type": "scatter",
         "x": [
          1,
          2,
          3,
          4,
          5,
          6,
          7,
          8,
          9,
          10,
          11,
          12,
          14,
          15,
          16,
          17,
          18
         ],
         "y": [
          80,
          159,
          285,
          398,
          440,
          513,
          586,
          645,
          677,
          701,
          751,
          854,
          938,
          986,
          1041,
          1070,
          1157
         ]
        },
        {
         "hovertemplate": "<b>DK Metcalf</b><br>%{y} yds through week %{x}<extra></extra>",
         "line": {
          "color": "#002244"
         },
         "mode": "markers+lines",
         "name": "DK Metcalf",
         "type": "scatter",
         "x": [
          1,
          2,
          3,
          4,
          5,
          6,
          7,
          8,
          10,
          11,
          12,
          13,
          14,
          15,
          16,
          17,
          18
         ],
         "y": [
          60,
          113,
          220,
          285,
          383,
          441,
          537,
          580,
          606,
          637,
          650,
          710,
          753,
          805,
          846,
          909,
          967
         ]
        },
        {
         "hovertemplate": "<b>Dallas Goedert</b><br>%{y} yds through week %{x}<extra></extra>",
         "line": {
          "color": "#004C54"
         },
         "mode": "markers+lines",
         "name": "Dallas Goedert",
         "type": "scatter",
         "x": [
          1,
          2,
          3,
          4,
          5,
          7,
          8,
          9,
          10,
          11,
          12,
          13,
          15,
          16,
          17
         ],
         "y": [
          42,
          66,
          132,
          188,
          216,
          286,
          358,
          401,
          429,
          491,
          491,
          596,
          731,
          759,
          830
         ]
        },
        {
         "hovertemplate": "<b>Dalton Schultz</b><br>%{y} yds through week %{x}<extra></extra>",
         "line": {
          "color": "#002244"
         },
         "mode": "markers+lines",
         "name": "Dalton Schultz",
         "type": "scatter",
         "x": [
          1,
          2,
          3,
          4,
          5,
          6,
          8,
          9,
          10,
          11,
          12,
          13,
          14,
          15,
          16,
          17,
          18
         ],
         "y": [
          45,
          63,
          143,
          201,
          280,
          359,
          370,
          424,
          438,
          491,
          537,
          580,
          584,
          651,
          733,
          787,
          808
         ]
        },
        {
         "hovertemplate": "<b>Darnell Mooney</b><br>%{y} yds through week %{x}<extra></extra>",
         "line": {
          "color": "#0B162A"
         },
         "mode": "markers+lines",
         "name": "Darnell Mooney",
         "type": "scatter",
         "x": [
          1,
          2,
          3,
          4,
          5,
          6,
          7,
          8,
          9,
          11,
          12,
          13,
          14,
          15,
          16,
          17,
          18
         ],
         "y": [
          26,
          92,
          101,
          226,
          261,
          306,
          345,
          409,
          450,
          571,
          694,
          721,
          740,
          803,
          860,
          929,
          1055
         ]
        },
        {
         "hovertemplate": "<b>Davante Adams</b><br>%{y} yds through week %{x}<extra></extra>",
         "line": {
          "color": "#203731"
         },
         "mode": "markers+lines",
         "name": "Davante Adams",
         "type": "scatter",
         "x": [
          1,
          2,
          3,
          4,
          5,
          6,
          7,
          9,
          10,
          11,
          12,
          14,
          15,
          16,
          17,
          18
         ],
         "y": [
          56,
          177,
          309,
          373,
          579,
          668,
          744,
          786,
          864,
          979,
          1083,
          1204,
          1248,
          1362,
          1498,
          1553
         ]
        },
        {
         "hovertemplate": "<b>DeVonta Smith</b><br>%{y} yds through week %{x}<extra></extra>",
         "line": {
          "color": "#004C54"
         },
         "mode": "markers+lines",
         "name": "DeVonta Smith",
         "type": "scatter",
         "x": [
          1,
          2,
          3,
          4,
          5,
          6,
          7,
          8,
          9,
          10,
          11,
          12,
          13,
          15,
          16,
          17,
          18
         ],
         "y": [
          71,
          87,
          115,
          237,
          314,
          345,
          406,
          421,
          537,
          603,
          664,
          686,
          701,
          741,
          821,
          875,
          916
         ]
        },
        {
         "hovertemplate": "<b>Deebo Samuel</b><br>%{y} yds through week %{x}<extra></extra>",
         "line": {
          "color": "#AA0000"
         },
         "mode": "markers+lines",
         "name": "Deebo Samuel",
         "type": "scatter",
         "x": [
          1,
          2,
          3,
          4,
          5,
          7,
          8,
          9,
          10,
          11,
          12,
          14,
          15,
          16,
          17,
          18
         ],
         "y": [
          189,
          282,
          334,
          490,
          548,
          648,
          819,
          882,
          979,
          994,
          1006,
          1028,
          1088,
          1247,
          1310,
          1397
         ]
        },
        {
         "hovertemplate": "<b>Diontae Johnson</b><br>%{y} yds through week %{x}<extra></extra>",
         "line": {
          "color": "#000000"
         },
         "mode": "markers+lines",
         "name": "Diontae Johnson",
         "type": "scatter",
         "x": [
          1,
          2,
          4,
          5,
          6,
          8,
          9,
          10,
          11,
          12,
          13,
          14,
          15,
          16,
          17,
          18
         ],
         "y": [
          36,
          141,
          233,
          305,
          376,
          474,
          530,
          613,
          714,
          809,
          914,
          990,
          1028,
          1079,
          1110,
          1161
         ]
        },
        {
         "hovertemplate": "<b>George Kittle</b><br>%{y} yds through week %{x}<extra></extra>",
         "line": {
          "color": "#AA0000"
         },
         "mode": "markers+lines",
         "name": "George Kittle",
         "type": "scatter",
         "x": [
          1,
          2,
          3,
          4,
          9,
          10,
          11,
          12,
          13,
          14,
          15,
          16,
          17,
          18
         ],
         "y": [
          78,
          95,
          187,
          227,
          328,
          378,
          412,
          425,
          606,
          757,
          850,
          871,
          900,
          910
         ]
        },
        {
         "hovertemplate": "<b>Hunter Renfrow</b><br>%{y} yds through week %{x}<extra></extra>",
         "line": {
          "color": "#000000"
         },
         "mode": "markers+lines",
         "name": "Hunter Renfrow",
         "type": "scatter",
         "x": [
          1,
          2,
          3,
          4,
          5,
          6,
          7,
          9,
          10,
          11,
          12,
          13,
          14,
          15,
          16,
          17,
          18
         ],
         "y": [
          70,
          127,
          204,
          249,
          305,
          341,
          399,
          448,
          494,
          524,
          658,
          760,
          877,
          909,
          949,
          1025,
          1038
         ]
        },
        {
         "hovertemplate": "<b>Ja'Marr Chase</b><br>%{y} yds through week %{x}<extra></extra>",
         "line": {
          "color": "#FB4F14"
         },
         "mode": "markers+lines",
         "name": "Ja'Marr Chase",
         "type": "scatter",
         "x": [
          1,
          2,
          3,
          4,
          5,
          6,
          7,
          8,
          9,
          11,
          12,
          13,
          14,
          15,
          16,
          17,
          18
         ],
         "y": [
          101,
          155,
          220,
          297,
          456,
          553,
          754,
          786,
          835,
          867,
          906,
          958,
          1035,
          1038,
          1163,
          1429,
          1455
         ]
        },
        {
         "hovertemplate": "<b>Jakobi Meyers</b><br>%{y} yds through week %{x}<extra></extra>",
         "line": {
          "color": "#002244"
         },
         "mode": "markers+lines",
         "name": "Jakobi Meyers",
         "type": "scatter",
         "x": [
          1,
          2,
          3,
          4,
          5,
          6,
          7,
          8,
          9,
          10,
          11,
          12,
          15,
          16,
          17,
          18
         ],
         "y": [
          44,
          82,
          176,
          246,
          302,
          346,
          390,
          426,
          434,
          483,
          522,
          620,
          664,
          723,
          796,
          866
         ]
        },
        {
         "hovertemplate": "<b>Jaylen Waddle</b><br>%{y} yds through week %{x}<extra></extra>",
         "line": {
          "color": "#008E97"
         },
         "mode": "markers+lines",
         "name": "Jaylen Waddle",
         "type": "scatter",
         "x": [
          1,
          2,
          3,
          4,
          5,
          6,
          7,
          8,
          9,
          10,
          11,
          12,
          13,
          16,
          17,
          18
         ],
         "y": [
          61,
          109,
          167,
          200,
          231,
          301,
          384,
          413,
          496,
          557,
          622,
          759,
          849,
          941,
          988,
          1015
         ]
        },
        {
         "hovertemplate": "<b>Justin Jefferson</b><br>%{y} yds through week %{x}<extra></extra>",
         "line": {
          "color": "#4F2683"
         },
         "mode": "markers+lines",
         "name": "Justin Jefferson",
         "type": "scatter",
         "x": [
          1,
          2,
          3,
          4,
          5,
          6,
          8,
          9,
          10,
          11,
          12,
          13,
          14,
          15,
          16,
          17,
          18
         ],
         "y": [
          71,
          136,
          254,
          338,
          462,
          542,
          563,
          632,
          775,
          944,
          1027,
          1209,
          1288,
          1335,
          1451,
          1509,
          1616
         ]
        },
        {
         "hovertemplate": "<b>Keenan Allen</b><br>%{y} yds through week %{x}<extra></extra>",
         "line": {
          "color": "#007BC7"
         },
         "mode": "markers+lines",
         "name": "Keenan Allen",
         "type": "scatter",
         "x": [
          1,
          2,
          3,
          4,
          5,
          6,
          8,
          9,
          10,
          11,
          12,
          13,
          15,
          16,
          17,
          18
         ],
         "y": [
          100,
          208,
          258,
          294,
          369,
          419,
          496,
          600,
          698,
          810,
          895,
          929,
          1007,
          1042,
          1086,
          1138
         ]
        },
        {
         "hovertemplate": "<b>Kyle Pitts</b><br>%{y} yds through week %{x}<extra></extra>",
         "line": {
          "color": "#A71930"
         },
         "mode": "markers+lines",
         "name": "Kyle Pitts",
         "type": "scatter",
         "x": [
          1,
          2,
          3,
          4,
          5,
          7,
          8,
          9,
          10,
          11,
          12,
          13,
          14,
          15,
          16,
          17,
          18
         ],
         "y": [
          31,
          104,
          139,
          189,
          308,
          471,
          484,
          546,
          606,
          635,
          661,
          709,
          770,
          847,
          949,
          1018,
          1026
         ]
        },
        {
         "hovertemplate": "<b>Mark Andrews</b><br>%{y} yds through week %{x}<extra></extra>",
         "line": {
          "color": "#241773"
         },
         "mode": "markers+lines",
         "name": "Mark Andrews",
         "type": "scatter",
         "x": [
          1,
          2,
          3,
          4,
          5,
          6,
          7,
          9,
          10,
          11,
          12,
          13,
          14,
          15,
          16,
          17,
          18
         ],
         "y": [
          20,
          77,
          186,
          253,
          400,
          468,
          516,
          560,
          623,
          696,
          761,
          811,
          926,
          1062,
          1187,
          1276,
          1361
         ]
        },
        {
         "hovertemplate": "<b>Marquise Brown</b><br>%{y} yds through week %{x}<extra></extra>",
         "line": {
          "color": "#241773"
         },
         "mode": "markers+lines",
         "name": "Marquise Brown",
         "type": "scatter",
         "x": [
          1,
          2,
          3,
          4,
          5,
          6,
          7,
          9,
          10,
          12,
          13,
          14,
          15,
          16,
          17,
          18
         ],
         "y": [
          69,
          182,
          235,
          326,
          451,
          486,
          566,
          682,
          719,
          770,
          825,
          866,
          909,
          953,
          981,
          1008
         ]
        },
        {
         "hovertemplate": "<b>Marvin Jones</b><br>%{y} yds through week %{x}<extra></extra>",
         "line": {
          "color": "#006778"
         },
         "mode": "markers+lines",
         "name": "Marvin Jones",
         "type": "scatter",
         "x": [
          1,
          2,
          3,
          4,
          5,
          6,
          8,
          9,
          10,
          11,
          12,
          13,
          14,
          15,
          16,
          17,
          18
         ],
         "y": [
          77,
          132,
          194,
          218,
          243,
          343,
          378,
          399,
          434,
          486,
          529,
          540,
          610,
          624,
          698,
          744,
          832
         ]
        },
        {
         "hovertemplate": "<b>Michael Pittman</b><br>%{y} yds through week %{x}<extra></extra>",
         "line": {
          "color": "#002C5F"
         },
         "mode": "markers+lines",
         "name": "Michael Pittman",
         "type": "scatter",
         "x": [
          1,
          2,
          3,
          4,
          5,
          6,
          7,
          8,
          9,
          10,
          11,
          12,
          13,
          15,
          16,
          17,
          18
         ],
         "y": [
          29,
          152,
          220,
          279,
          368,
          403,
          508,
          594,
          658,
          729,
          752,
          805,
          882,
          889,
          971,
          1018,
          1082
         ]
        },
        {
         "hovertemplate": "<b>Mike Evans</b><br>%{y} yds through week %{x}<extra></extra>",
         "line": {
          "color": "#A71930"
         },
         "mode": "markers+lines",
         "name": "Mike Evans",
         "type": "scatter",
         "x": [
          1,
          2,
          3,
          4,
          5,
          6,
          7,
          8,
          10,
          11,
          12,
          13,
          14,
          15,
          17,
          18
         ],
         "y": [
          24,
          99,
          205,
          280,
          393,
          420,
          496,
          544,
          606,
          679,
          695,
          794,
          885,
          899,
          946,
          1035
         ]
        },
        {
         "hovertemplate": "<b>Mike Williams</b><br>%{y} yds through week %{x}<extra></extra>",
         "line": {
          "color": "#007BC7"
         },
         "mode": "markers+lines",
         "name": "Mike Williams",
         "type": "scatter",
         "x": [
          1,
          2,
          3,
          4,
          5,
          6,
          8,
          9,
          10,
          11,
          12,
          13,
          14,
          15,
          17,
          18
         ],
         "y": [
          82,
          173,
          295,
          306,
          471,
          498,
          517,
          575,
          608,
          705,
          744,
          854,
          915,
          964,
          1027,
          1146
         ]
        },
        {
         "hovertemplate": "<b>Rob Gronkowski</b><br>%{y} yds through week %{x}<extra></extra>",
         "line": {
          "color": "#A71930"
         },
         "mode": "markers+lines",
         "name": "Rob Gronkowski",
         "type": "scatter",
         "x": [
          1,
          2,
          3,
          8,
          11,
          12,
          13,
          14,
          15,
          16,
          17,
          18
         ],
         "y": [
          90,
          129,
          184,
          184,
          255,
          378,
          436,
          498,
          527,
          550,
          665,
          802
         ]
        },
        {
         "hovertemplate": "<b>Stefon Diggs</b><br>%{y} yds through week %{x}<extra></extra>",
         "line": {
          "color": "#00338D"
         },
         "mode": "markers+lines",
         "name": "Stefon Diggs",
         "type": "scatter",
         "x": [
          1,
          2,
          3,
          4,
          5,
          6,
          8,
          9,
          10,
          11,
          12,
          13,
          14,
          15,
          16,
          17,
          18
         ],
         "y": [
          69,
          129,
          191,
          305,
          374,
          463,
          503,
          588,
          750,
          773,
          847,
          898,
          972,
          1007,
          1092,
          1144,
          1225
         ]
        },
        {
         "hovertemplate": "<b>Tee Higgins</b><br>%{y} yds through week %{x}<extra></extra>",
         "line": {
          "color": "#FB4F14"
         },
         "mode": "markers+lines",
         "name": "Tee Higgins",
         "type": "scatter",
         "x": [
          1,
          2,
          5,
          6,
          7,
          8,
          9,
          11,
          12,
          13,
          14,
          15,
          16,
          17
         ],
         "y": [
          58,
          118,
          150,
          194,
          256,
          353,
          431,
          446,
          560,
          698,
          812,
          835,
          1029,
          1091
         ]
        },
        {
         "hovertemplate": "<b>Terry McLaurin</b><br>%{y} yds through week %{x}<extra></extra>",
         "line": {
          "color": "#5A1414"
         },
         "mode": "markers+lines",
         "name": "Terry McLaurin",
         "type": "scatter",
         "x": [
          1,
          2,
          3,
          4,
          5,
          6,
          7,
          8,
          10,
          11,
          12,
          13,
          14,
          15,
          16,
          17,
          18
         ],
         "y": [
          62,
          169,
          231,
          354,
          400,
          428,
          550,
          573,
          632,
          735,
          786,
          808,
          808,
          859,
          899,
          960,
          1053
         ]
        },
        {
         "hovertemplate": "<b>Travis Kelce</b><br>%{y} yds through week %{x}<extra></extra>",
         "line": {
          "color": "#E31837"
         },
         "mode": "markers+lines",
         "name": "Travis Kelce",
         "type": "scatter",
         "x": [
          1,
          2,
          3,
          4,
          5,
          6,
          7,
          8,
          9,
          10,
          11,
          13,
          14,
          15,
          17,
          18
         ],
         "y": [
          76,
          185,
          289,
          312,
          369,
          468,
          533,
          560,
          628,
          747,
          821,
          848,
          875,
          1066,
          1091,
          1125
         ]
        },
        {
         "hovertemplate": "<b>Tyler Boyd</b><br>%{y} yds through week %{x}<extra></extra>",
         "line": {
          "color": "#FB4F14"
         },
         "mode": "markers+lines",
         "name": "Tyler Boyd",
         "type": "scatter",
         "x": [
          1,
          2,
          3,
          4,
          5,
          6,
          7,
          8,
          9,
          11,
          12,
          13,
          14,
          15,
          16,
          17
         ],
         "y": [
          32,
          105,
          141,
          259,
          283,
          290,
          329,
          398,
          409,
          458,
          471,
          556,
          611,
          707,
          792,
          828
         ]
        },
        {
         "hovertemplate": "<b>Tyler Lockett</b><br>%{y} yds through week %{x}<extra></extra>",
         "line": {
          "color": "#002244"
         },
         "mode": "markers+lines",
         "name": "Tyler Lockett",
         "type": "scatter",
         "x": [
          1,
          2,
          3,
          4,
          5,
          6,
          7,
          8,
          10,
          11,
          12,
          13,
          14,
          16,
          17,
          18
         ],
         "y": [
          100,
          278,
          309,
          333,
          390,
          425,
          437,
          579,
          602,
          717,
          813,
          881,
          1023,
          1053,
          1077,
          1175
         ]
        },
        {
         "hovertemplate": "<b>Tyreek Hill</b><br>%{y} yds through week %{x}<extra></extra>",
         "line": {
          "color": "#E31837"
         },
         "mode": "markers+lines",
         "name": "Tyreek Hill",
         "type": "scatter",
         "x": [
          1,
          2,
          3,
          4,
          5,
          6,
          7,
          8,
          9,
          10,
          11,
          13,
          14,
          15,
          16,
          17,
          18
         ],
         "y": [
          197,
          211,
          267,
          453,
          516,
          592,
          641,
          735,
          772,
          855,
          932,
          954,
          1030,
          1178,
          1197,
          1237,
          1239
         ]
        },
        {
         "hovertemplate": "<b>Van Jefferson</b><br>%{y} yds through week %{x}<extra></extra>",
         "line": {
          "color": "#003594"
         },
         "mode": "markers+lines",
         "name": "Van Jefferson",
         "type": "scatter",
         "x": [
          1,
          2,
          3,
          4,
          5,
          6,
          7,
          8,
          9,
          10,
          12,
          13,
          14,
          15,
          16,
          17,
          18
         ],
         "y": [
          80,
          94,
          136,
          226,
          242,
          261,
          304,
          392,
          433,
          487,
          580,
          621,
          679,
          702,
          708,
          771,
          802
         ]
        }
       ],
       "layout": {
        "font": {
         "family": "Averta, sans-serif"
        },
        "height": 1000,
        "hoverlabel": {
         "font": {
          "family": "Averta, sans-serif",
          "size": 16
         }
        },
        "legend": {
         "font": {
          "size": 16
         }
        },
        "template": {
         "data": {
          "bar": [
           {
            "error_x": {
             "color": "#2a3f5f"
            },
            "error_y": {
             "color": "#2a3f5f"
            },
            "marker": {
             "line": {
              "color": "#E5ECF6",
              "width": 0.5
             },
             "pattern": {
              "fillmode": "overlay",
              "size": 10,
              "solidity": 0.2
             }
            },
            "type": "bar"
           }
          ],
          "barpolar": [
           {
            "marker": {
             "line": {
              "color": "#E5ECF6",
              "width": 0.5
             },
             "pattern": {
              "fillmode": "overlay",
              "size": 10,
              "solidity": 0.2
             }
            },
            "type": "barpolar"
           }
          ],
          "carpet": [
           {
            "aaxis": {
             "endlinecolor": "#2a3f5f",
             "gridcolor": "white",
             "linecolor": "white",
             "minorgridcolor": "white",
             "startlinecolor": "#2a3f5f"
            },
            "baxis": {
             "endlinecolor": "#2a3f5f",
             "gridcolor": "white",
             "linecolor": "white",
             "minorgridcolor": "white",
             "startlinecolor": "#2a3f5f"
            },
            "type": "carpet"
           }
          ],
          "choropleth": [
           {
            "colorbar": {
             "outlinewidth": 0,
             "ticks": ""
            },
            "type": "choropleth"
           }
          ],
          "contour": [
           {
            "colorbar": {
             "outlinewidth": 0,
             "ticks": ""
            },
            "colorscale": [
             [
              0,
              "#0d0887"
             ],
             [
              0.1111111111111111,
              "#46039f"
             ],
             [
              0.2222222222222222,
              "#7201a8"
             ],
             [
              0.3333333333333333,
              "#9c179e"
             ],
             [
              0.4444444444444444,
              "#bd3786"
             ],
             [
              0.5555555555555556,
              "#d8576b"
             ],
             [
              0.6666666666666666,
              "#ed7953"
             ],
             [
              0.7777777777777778,
              "#fb9f3a"
             ],
             [
              0.8888888888888888,
              "#fdca26"
             ],
             [
              1,
              "#f0f921"
             ]
            ],
            "type": "contour"
           }
          ],
          "contourcarpet": [
           {
            "colorbar": {
             "outlinewidth": 0,
             "ticks": ""
            },
            "type": "contourcarpet"
           }
          ],
          "heatmap": [
           {
            "colorbar": {
             "outlinewidth": 0,
             "ticks": ""
            },
            "colorscale": [
             [
              0,
              "#0d0887"
             ],
             [
              0.1111111111111111,
              "#46039f"
             ],
             [
              0.2222222222222222,
              "#7201a8"
             ],
             [
              0.3333333333333333,
              "#9c179e"
             ],
             [
              0.4444444444444444,
              "#bd3786"
             ],
             [
              0.5555555555555556,
              "#d8576b"
             ],
             [
              0.6666666666666666,
              "#ed7953"
             ],
             [
              0.7777777777777778,
              "#fb9f3a"
             ],
             [
              0.8888888888888888,
              "#fdca26"
             ],
             [
              1,
              "#f0f921"
             ]
            ],
            "type": "heatmap"
           }
          ],
          "heatmapgl": [
           {
            "colorbar": {
             "outlinewidth": 0,
             "ticks": ""
            },
            "colorscale": [
             [
              0,
              "#0d0887"
             ],
             [
              0.1111111111111111,
              "#46039f"
             ],
             [
              0.2222222222222222,
              "#7201a8"
             ],
             [
              0.3333333333333333,
              "#9c179e"
             ],
             [
              0.4444444444444444,
              "#bd3786"
             ],
             [
              0.5555555555555556,
              "#d8576b"
             ],
             [
              0.6666666666666666,
              "#ed7953"
             ],
             [
              0.7777777777777778,
              "#fb9f3a"
             ],
             [
              0.8888888888888888,
              "#fdca26"
             ],
             [
              1,
              "#f0f921"
             ]
            ],
            "type": "heatmapgl"
           }
          ],
          "histogram": [
           {
            "marker": {
             "pattern": {
              "fillmode": "overlay",
              "size": 10,
              "solidity": 0.2
             }
            },
            "type": "histogram"
           }
          ],
          "histogram2d": [
           {
            "colorbar": {
             "outlinewidth": 0,
             "ticks": ""
            },
            "colorscale": [
             [
              0,
              "#0d0887"
             ],
             [
              0.1111111111111111,
              "#46039f"
             ],
             [
              0.2222222222222222,
              "#7201a8"
             ],
             [
              0.3333333333333333,
              "#9c179e"
             ],
             [
              0.4444444444444444,
              "#bd3786"
             ],
             [
              0.5555555555555556,
              "#d8576b"
             ],
             [
              0.6666666666666666,
              "#ed7953"
             ],
             [
              0.7777777777777778,
              "#fb9f3a"
             ],
             [
              0.8888888888888888,
              "#fdca26"
             ],
             [
              1,
              "#f0f921"
             ]
            ],
            "type": "histogram2d"
           }
          ],
          "histogram2dcontour": [
           {
            "colorbar": {
             "outlinewidth": 0,
             "ticks": ""
            },
            "colorscale": [
             [
              0,
              "#0d0887"
             ],
             [
              0.1111111111111111,
              "#46039f"
             ],
             [
              0.2222222222222222,
              "#7201a8"
             ],
             [
              0.3333333333333333,
              "#9c179e"
             ],
             [
              0.4444444444444444,
              "#bd3786"
             ],
             [
              0.5555555555555556,
              "#d8576b"
             ],
             [
              0.6666666666666666,
              "#ed7953"
             ],
             [
              0.7777777777777778,
              "#fb9f3a"
             ],
             [
              0.8888888888888888,
              "#fdca26"
             ],
             [
              1,
              "#f0f921"
             ]
            ],
            "type": "histogram2dcontour"
           }
          ],
          "mesh3d": [
           {
            "colorbar": {
             "outlinewidth": 0,
             "ticks": ""
            },
            "type": "mesh3d"
           }
          ],
          "parcoords": [
           {
            "line": {
             "colorbar": {
              "outlinewidth": 0,
              "ticks": ""
             }
            },
            "type": "parcoords"
           }
          ],
          "pie": [
           {
            "automargin": true,
            "type": "pie"
           }
          ],
          "scatter": [
           {
            "fillpattern": {
             "fillmode": "overlay",
             "size": 10,
             "solidity": 0.2
            },
            "type": "scatter"
           }
          ],
          "scatter3d": [
           {
            "line": {
             "colorbar": {
              "outlinewidth": 0,
              "ticks": ""
             }
            },
            "marker": {
             "colorbar": {
              "outlinewidth": 0,
              "ticks": ""
             }
            },
            "type": "scatter3d"
           }
          ],
          "scattercarpet": [
           {
            "marker": {
             "colorbar": {
              "outlinewidth": 0,
              "ticks": ""
             }
            },
            "type": "scattercarpet"
           }
          ],
          "scattergeo": [
           {
            "marker": {
             "colorbar": {
              "outlinewidth": 0,
              "ticks": ""
             }
            },
            "type": "scattergeo"
           }
          ],
          "scattergl": [
           {
            "marker": {
             "colorbar": {
              "outlinewidth": 0,
              "ticks": ""
             }
            },
            "type": "scattergl"
           }
          ],
          "scattermapbox": [
           {
            "marker": {
             "colorbar": {
              "outlinewidth": 0,
              "ticks": ""
             }
            },
            "type": "scattermapbox"
           }
          ],
          "scatterpolar": [
           {
            "marker": {
             "colorbar": {
              "outlinewidth": 0,
              "ticks": ""
             }
            },
            "type": "scatterpolar"
           }
          ],
          "scatterpolargl": [
           {
            "marker": {
             "colorbar": {
              "outlinewidth": 0,
              "ticks": ""
             }
            },
            "type": "scatterpolargl"
           }
          ],
          "scatterternary": [
           {
            "marker": {
             "colorbar": {
              "outlinewidth": 0,
              "ticks": ""
             }
            },
            "type": "scatterternary"
           }
          ],
          "surface": [
           {
            "colorbar": {
             "outlinewidth": 0,
             "ticks": ""
            },
            "colorscale": [
             [
              0,
              "#0d0887"
             ],
             [
              0.1111111111111111,
              "#46039f"
             ],
             [
              0.2222222222222222,
              "#7201a8"
             ],
             [
              0.3333333333333333,
              "#9c179e"
             ],
             [
              0.4444444444444444,
              "#bd3786"
             ],
             [
              0.5555555555555556,
              "#d8576b"
             ],
             [
              0.6666666666666666,
              "#ed7953"
             ],
             [
              0.7777777777777778,
              "#fb9f3a"
             ],
             [
              0.8888888888888888,
              "#fdca26"
             ],
             [
              1,
              "#f0f921"
             ]
            ],
            "type": "surface"
           }
          ],
          "table": [
           {
            "cells": {
             "fill": {
              "color": "#EBF0F8"
             },
             "line": {
              "color": "white"
             }
            },
            "header": {
             "fill": {
              "color": "#C8D4E3"
             },
             "line": {
              "color": "white"
             }
            },
            "type": "table"
           }
          ]
         },
         "layout": {
          "annotationdefaults": {
           "arrowcolor": "#2a3f5f",
           "arrowhead": 0,
           "arrowwidth": 1
          },
          "autotypenumbers": "strict",
          "coloraxis": {
           "colorbar": {
            "outlinewidth": 0,
            "ticks": ""
           }
          },
          "colorscale": {
           "diverging": [
            [
             0,
             "#8e0152"
            ],
            [
             0.1,
             "#c51b7d"
            ],
            [
             0.2,
             "#de77ae"
            ],
            [
             0.3,
             "#f1b6da"
            ],
            [
             0.4,
             "#fde0ef"
            ],
            [
             0.5,
             "#f7f7f7"
            ],
            [
             0.6,
             "#e6f5d0"
            ],
            [
             0.7,
             "#b8e186"
            ],
            [
             0.8,
             "#7fbc41"
            ],
            [
             0.9,
             "#4d9221"
            ],
            [
             1,
             "#276419"
            ]
           ],
           "sequential": [
            [
             0,
             "#0d0887"
            ],
            [
             0.1111111111111111,
             "#46039f"
            ],
            [
             0.2222222222222222,
             "#7201a8"
            ],
            [
             0.3333333333333333,
             "#9c179e"
            ],
            [
             0.4444444444444444,
             "#bd3786"
            ],
            [
             0.5555555555555556,
             "#d8576b"
            ],
            [
             0.6666666666666666,
             "#ed7953"
            ],
            [
             0.7777777777777778,
             "#fb9f3a"
            ],
            [
             0.8888888888888888,
             "#fdca26"
            ],
            [
             1,
             "#f0f921"
            ]
           ],
           "sequentialminus": [
            [
             0,
             "#0d0887"
            ],
            [
             0.1111111111111111,
             "#46039f"
            ],
            [
             0.2222222222222222,
             "#7201a8"
            ],
            [
             0.3333333333333333,
             "#9c179e"
            ],
            [
             0.4444444444444444,
             "#bd3786"
            ],
            [
             0.5555555555555556,
             "#d8576b"
            ],
            [
             0.6666666666666666,
             "#ed7953"
            ],
            [
             0.7777777777777778,
             "#fb9f3a"
            ],
            [
             0.8888888888888888,
             "#fdca26"
            ],
            [
             1,
             "#f0f921"
            ]
           ]
          },
          "colorway": [
           "#636efa",
           "#EF553B",
           "#00cc96",
           "#ab63fa",
           "#FFA15A",
           "#19d3f3",
           "#FF6692",
           "#B6E880",
           "#FF97FF",
           "#FECB52"
          ],
          "font": {
           "color": "#2a3f5f"
          },
          "geo": {
           "bgcolor": "white",
           "lakecolor": "white",
           "landcolor": "#E5ECF6",
           "showlakes": true,
           "showland": true,
           "subunitcolor": "white"
          },
          "hoverlabel": {
           "align": "left"
          },
          "hovermode": "closest",
          "mapbox": {
           "style": "light"
          },
          "paper_bgcolor": "white",
          "plot_bgcolor": "#E5ECF6",
          "polar": {
           "angularaxis": {
            "gridcolor": "white",
            "linecolor": "white",
            "ticks": ""
           },
           "bgcolor": "#E5ECF6",
           "radialaxis": {
            "gridcolor": "white",
            "linecolor": "white",
            "ticks": ""
           }
          },
          "scene": {
           "xaxis": {
            "backgroundcolor": "#E5ECF6",
            "gridcolor": "white",
            "gridwidth": 2,
            "linecolor": "white",
            "showbackground": true,
            "ticks": "",
            "zerolinecolor": "white"
           },
           "yaxis": {
            "backgroundcolor": "#E5ECF6",
            "gridcolor": "white",
            "gridwidth": 2,
            "linecolor": "white",
            "showbackground": true,
            "ticks": "",
            "zerolinecolor": "white"
           },
           "zaxis": {
            "backgroundcolor": "#E5ECF6",
            "gridcolor": "white",
            "gridwidth": 2,
            "linecolor": "white",
            "showbackground": true,
            "ticks": "",
            "zerolinecolor": "white"
           }
          },
          "shapedefaults": {
           "line": {
            "color": "#2a3f5f"
           }
          },
          "ternary": {
           "aaxis": {
            "gridcolor": "white",
            "linecolor": "white",
            "ticks": ""
           },
           "baxis": {
            "gridcolor": "white",
            "linecolor": "white",
            "ticks": ""
           },
           "bgcolor": "#E5ECF6",
           "caxis": {
            "gridcolor": "white",
            "linecolor": "white",
            "ticks": ""
           }
          },
          "title": {
           "x": 0.05
          },
          "xaxis": {
           "automargin": true,
           "gridcolor": "white",
           "linecolor": "white",
           "ticks": "",
           "title": {
            "standoff": 15
           },
           "zerolinecolor": "white",
           "zerolinewidth": 2
          },
          "yaxis": {
           "automargin": true,
           "gridcolor": "white",
           "linecolor": "white",
           "ticks": "",
           "title": {
            "standoff": 15
           },
           "zerolinecolor": "white",
           "zerolinewidth": 2
          }
         }
        },
        "width": 1000,
        "xaxis": {
         "tickfont": {
          "size": 16
         },
         "title": {
          "font": {
           "size": 18
          },
          "text": "Week"
         }
        },
        "yaxis": {
         "tickfont": {
          "size": 16
         },
         "title": {
          "font": {
           "size": 18
          },
          "text": "Receiving Yards"
         }
        }
       }
      },
      "text/html": [
       "<div>                            <div id=\"0c28affd-d969-46bd-8180-26ce80e2fb65\" class=\"plotly-graph-div\" style=\"height:1000px; width:1000px;\"></div>            <script type=\"text/javascript\">                require([\"plotly\"], function(Plotly) {                    window.PLOTLYENV=window.PLOTLYENV || {};                                    if (document.getElementById(\"0c28affd-d969-46bd-8180-26ce80e2fb65\")) {                    Plotly.newPlot(                        \"0c28affd-d969-46bd-8180-26ce80e2fb65\",                        [{\"hovertemplate\":\"<b>A.J. Brown</b><br>%{y} yds through week %{x}<extra></extra>\",\"line\":{\"color\":\"#002244\"},\"mode\":\"markers+lines\",\"name\":\"A.J. Brown\",\"x\":[1,2,3,5,6,7,8,9,10,11,16,17,18],\"y\":[49.0,92.0,92.0,130.0,221.0,354.0,509.0,551.0,567.0,615.0,760.0,801.0,869.0],\"type\":\"scatter\"},{\"hovertemplate\":\"<b>A.J. Green</b><br>%{y} yds through week %{x}<extra></extra>\",\"line\":{\"color\":\"#97233F\"},\"mode\":\"markers+lines\",\"name\":\"A.J. Green\",\"x\":[1,2,3,4,5,6,7,8,10,11,13,14,15,16,17,18],\"y\":[25.0,69.0,181.0,248.0,261.0,340.0,406.0,456.0,460.0,538.0,552.0,654.0,718.0,751.0,825.0,848.0],\"type\":\"scatter\"},{\"hovertemplate\":\"<b>Amari Cooper</b><br>%{y} yds through week %{x}<extra></extra>\",\"line\":{\"color\":\"#002244\"},\"mode\":\"markers+lines\",\"name\":\"Amari Cooper\",\"x\":[1,2,3,4,5,6,8,9,10,13,14,15,16,17,18],\"y\":[139.0,163.0,189.0,258.0,318.0,373.0,495.0,532.0,583.0,624.0,675.0,683.0,768.0,786.0,865.0],\"type\":\"scatter\"},{\"hovertemplate\":\"<b>Amon-Ra St. Brown</b><br>%{y} yds through week %{x}<extra></extra>\",\"line\":{\"color\":\"#0076B6\"},\"mode\":\"markers+lines\",\"name\":\"Amon-Ra St. Brown\",\"x\":[1,2,3,4,5,6,8,10,11,12,13,14,15,16,17,18],\"y\":[23.0,41.0,43.0,113.0,178.0,204.0,250.0,311.0,329.0,352.0,438.0,511.0,601.0,692.0,803.0,912.0],\"type\":\"scatter\"},{\"hovertemplate\":\"<b>Brandin Cooks</b><br>%{y} yds through week %{x}<extra></extra>\",\"line\":{\"color\":\"#03202F\"},\"mode\":\"markers+lines\",\"name\":\"Brandin Cooks\",\"x\":[1,2,3,4,5,6,7,8,9,11,12,13,14,15,17,18],\"y\":[132.0,210.0,322.0,369.0,392.0,481.0,502.0,585.0,639.0,657.0,702.0,740.0,841.0,943.0,1009.0,1035.0],\"type\":\"scatter\"},{\"hovertemplate\":\"<b>Brandon Aiyuk</b><br>%{y} yds through week %{x}<extra></extra>\",\"line\":{\"color\":\"#AA0000\"},\"mode\":\"markers+lines\",\"name\":\"Brandon Aiyuk\",\"x\":[2,3,4,5,7,8,9,10,11,12,13,14,15,16,17,18],\"y\":[6.0,43.0,58.0,90.0,96.0,141.0,230.0,256.0,341.0,432.0,487.0,549.0,585.0,625.0,719.0,826.0],\"type\":\"scatter\"},{\"hovertemplate\":\"<b>CeeDee Lamb</b><br>%{y} yds through week %{x}<extra></extra>\",\"line\":{\"color\":\"#002244\"},\"mode\":\"markers+lines\",\"name\":\"CeeDee Lamb\",\"x\":[1,2,3,4,5,6,8,9,10,11,13,14,15,16,17,18],\"y\":[104.0,185.0,251.0,264.0,348.0,497.0,609.0,632.0,726.0,740.0,829.0,890.0,940.0,1006.0,1057.0,1102.0],\"type\":\"scatter\"},{\"hovertemplate\":\"<b>Chase Claypool</b><br>%{y} yds through week %{x}<extra></extra>\",\"line\":{\"color\":\"#000000\"},\"mode\":\"markers+lines\",\"name\":\"Chase Claypool\",\"x\":[1,2,3,5,6,8,9,11,12,13,14,15,16,17,18],\"y\":[45.0,115.0,211.0,341.0,358.0,403.0,433.0,526.0,608.0,660.0,753.0,753.0,794.0,811.0,848.0],\"type\":\"scatter\"},{\"hovertemplate\":\"<b>Chris Godwin</b><br>%{y} yds through week %{x}<extra></extra>\",\"line\":{\"color\":\"#A71930\"},\"mode\":\"markers+lines\",\"name\":\"Chris Godwin\",\"x\":[1,2,3,4,5,6,7,8,10,11,12,13,14,15],\"y\":[105.0,167.0,241.0,296.0,366.0,409.0,520.0,660.0,717.0,782.0,806.0,949.0,1054.0,1103.0],\"type\":\"scatter\"},{\"hovertemplate\":\"<b>Christian Kirk</b><br>%{y} yds through week %{x}<extra></extra>\",\"line\":{\"color\":\"#97233F\"},\"mode\":\"markers+lines\",\"name\":\"Christian Kirk\",\"x\":[1,2,3,4,5,6,7,8,9,10,11,13,14,15,16,17,18],\"y\":[70.0,135.0,239.0,244.0,283.0,358.0,408.0,454.0,545.0,603.0,628.0,632.0,718.0,812.0,860.0,939.0,982.0],\"type\":\"scatter\"},{\"hovertemplate\":\"<b>Cooper Kupp</b><br>%{y} yds through week %{x}<extra></extra>\",\"line\":{\"color\":\"#003594\"},\"mode\":\"markers+lines\",\"name\":\"Cooper Kupp\",\"x\":[1,2,3,4,5,6,7,8,9,10,12,13,14,15,16,17,18],\"y\":[108.0,271.0,367.0,431.0,523.0,653.0,809.0,924.0,1019.0,1141.0,1237.0,1366.0,1489.0,1625.0,1734.0,1829.0,1947.0],\"type\":\"scatter\"},{\"hovertemplate\":\"<b>D.J. Moore</b><br>%{y} yds through week %{x}<extra></extra>\",\"line\":{\"color\":\"#0085CA\"},\"mode\":\"markers+lines\",\"name\":\"D.J. Moore\",\"x\":[1,2,3,4,5,6,7,8,9,10,11,12,14,15,16,17,18],\"y\":[80.0,159.0,285.0,398.0,440.0,513.0,586.0,645.0,677.0,701.0,751.0,854.0,938.0,986.0,1041.0,1070.0,1157.0],\"type\":\"scatter\"},{\"hovertemplate\":\"<b>DK Metcalf</b><br>%{y} yds through week %{x}<extra></extra>\",\"line\":{\"color\":\"#002244\"},\"mode\":\"markers+lines\",\"name\":\"DK Metcalf\",\"x\":[1,2,3,4,5,6,7,8,10,11,12,13,14,15,16,17,18],\"y\":[60.0,113.0,220.0,285.0,383.0,441.0,537.0,580.0,606.0,637.0,650.0,710.0,753.0,805.0,846.0,909.0,967.0],\"type\":\"scatter\"},{\"hovertemplate\":\"<b>Dallas Goedert</b><br>%{y} yds through week %{x}<extra></extra>\",\"line\":{\"color\":\"#004C54\"},\"mode\":\"markers+lines\",\"name\":\"Dallas Goedert\",\"x\":[1,2,3,4,5,7,8,9,10,11,12,13,15,16,17],\"y\":[42.0,66.0,132.0,188.0,216.0,286.0,358.0,401.0,429.0,491.0,491.0,596.0,731.0,759.0,830.0],\"type\":\"scatter\"},{\"hovertemplate\":\"<b>Dalton Schultz</b><br>%{y} yds through week %{x}<extra></extra>\",\"line\":{\"color\":\"#002244\"},\"mode\":\"markers+lines\",\"name\":\"Dalton Schultz\",\"x\":[1,2,3,4,5,6,8,9,10,11,12,13,14,15,16,17,18],\"y\":[45.0,63.0,143.0,201.0,280.0,359.0,370.0,424.0,438.0,491.0,537.0,580.0,584.0,651.0,733.0,787.0,808.0],\"type\":\"scatter\"},{\"hovertemplate\":\"<b>Darnell Mooney</b><br>%{y} yds through week %{x}<extra></extra>\",\"line\":{\"color\":\"#0B162A\"},\"mode\":\"markers+lines\",\"name\":\"Darnell Mooney\",\"x\":[1,2,3,4,5,6,7,8,9,11,12,13,14,15,16,17,18],\"y\":[26.0,92.0,101.0,226.0,261.0,306.0,345.0,409.0,450.0,571.0,694.0,721.0,740.0,803.0,860.0,929.0,1055.0],\"type\":\"scatter\"},{\"hovertemplate\":\"<b>Davante Adams</b><br>%{y} yds through week %{x}<extra></extra>\",\"line\":{\"color\":\"#203731\"},\"mode\":\"markers+lines\",\"name\":\"Davante Adams\",\"x\":[1,2,3,4,5,6,7,9,10,11,12,14,15,16,17,18],\"y\":[56.0,177.0,309.0,373.0,579.0,668.0,744.0,786.0,864.0,979.0,1083.0,1204.0,1248.0,1362.0,1498.0,1553.0],\"type\":\"scatter\"},{\"hovertemplate\":\"<b>DeVonta Smith</b><br>%{y} yds through week %{x}<extra></extra>\",\"line\":{\"color\":\"#004C54\"},\"mode\":\"markers+lines\",\"name\":\"DeVonta Smith\",\"x\":[1,2,3,4,5,6,7,8,9,10,11,12,13,15,16,17,18],\"y\":[71.0,87.0,115.0,237.0,314.0,345.0,406.0,421.0,537.0,603.0,664.0,686.0,701.0,741.0,821.0,875.0,916.0],\"type\":\"scatter\"},{\"hovertemplate\":\"<b>Deebo Samuel</b><br>%{y} yds through week %{x}<extra></extra>\",\"line\":{\"color\":\"#AA0000\"},\"mode\":\"markers+lines\",\"name\":\"Deebo Samuel\",\"x\":[1,2,3,4,5,7,8,9,10,11,12,14,15,16,17,18],\"y\":[189.0,282.0,334.0,490.0,548.0,648.0,819.0,882.0,979.0,994.0,1006.0,1028.0,1088.0,1247.0,1310.0,1397.0],\"type\":\"scatter\"},{\"hovertemplate\":\"<b>Diontae Johnson</b><br>%{y} yds through week %{x}<extra></extra>\",\"line\":{\"color\":\"#000000\"},\"mode\":\"markers+lines\",\"name\":\"Diontae Johnson\",\"x\":[1,2,4,5,6,8,9,10,11,12,13,14,15,16,17,18],\"y\":[36.0,141.0,233.0,305.0,376.0,474.0,530.0,613.0,714.0,809.0,914.0,990.0,1028.0,1079.0,1110.0,1161.0],\"type\":\"scatter\"},{\"hovertemplate\":\"<b>George Kittle</b><br>%{y} yds through week %{x}<extra></extra>\",\"line\":{\"color\":\"#AA0000\"},\"mode\":\"markers+lines\",\"name\":\"George Kittle\",\"x\":[1,2,3,4,9,10,11,12,13,14,15,16,17,18],\"y\":[78.0,95.0,187.0,227.0,328.0,378.0,412.0,425.0,606.0,757.0,850.0,871.0,900.0,910.0],\"type\":\"scatter\"},{\"hovertemplate\":\"<b>Hunter Renfrow</b><br>%{y} yds through week %{x}<extra></extra>\",\"line\":{\"color\":\"#000000\"},\"mode\":\"markers+lines\",\"name\":\"Hunter Renfrow\",\"x\":[1,2,3,4,5,6,7,9,10,11,12,13,14,15,16,17,18],\"y\":[70.0,127.0,204.0,249.0,305.0,341.0,399.0,448.0,494.0,524.0,658.0,760.0,877.0,909.0,949.0,1025.0,1038.0],\"type\":\"scatter\"},{\"hovertemplate\":\"<b>Ja'Marr Chase</b><br>%{y} yds through week %{x}<extra></extra>\",\"line\":{\"color\":\"#FB4F14\"},\"mode\":\"markers+lines\",\"name\":\"Ja'Marr Chase\",\"x\":[1,2,3,4,5,6,7,8,9,11,12,13,14,15,16,17,18],\"y\":[101.0,155.0,220.0,297.0,456.0,553.0,754.0,786.0,835.0,867.0,906.0,958.0,1035.0,1038.0,1163.0,1429.0,1455.0],\"type\":\"scatter\"},{\"hovertemplate\":\"<b>Jakobi Meyers</b><br>%{y} yds through week %{x}<extra></extra>\",\"line\":{\"color\":\"#002244\"},\"mode\":\"markers+lines\",\"name\":\"Jakobi Meyers\",\"x\":[1,2,3,4,5,6,7,8,9,10,11,12,15,16,17,18],\"y\":[44.0,82.0,176.0,246.0,302.0,346.0,390.0,426.0,434.0,483.0,522.0,620.0,664.0,723.0,796.0,866.0],\"type\":\"scatter\"},{\"hovertemplate\":\"<b>Jaylen Waddle</b><br>%{y} yds through week %{x}<extra></extra>\",\"line\":{\"color\":\"#008E97\"},\"mode\":\"markers+lines\",\"name\":\"Jaylen Waddle\",\"x\":[1,2,3,4,5,6,7,8,9,10,11,12,13,16,17,18],\"y\":[61.0,109.0,167.0,200.0,231.0,301.0,384.0,413.0,496.0,557.0,622.0,759.0,849.0,941.0,988.0,1015.0],\"type\":\"scatter\"},{\"hovertemplate\":\"<b>Justin Jefferson</b><br>%{y} yds through week %{x}<extra></extra>\",\"line\":{\"color\":\"#4F2683\"},\"mode\":\"markers+lines\",\"name\":\"Justin Jefferson\",\"x\":[1,2,3,4,5,6,8,9,10,11,12,13,14,15,16,17,18],\"y\":[71.0,136.0,254.0,338.0,462.0,542.0,563.0,632.0,775.0,944.0,1027.0,1209.0,1288.0,1335.0,1451.0,1509.0,1616.0],\"type\":\"scatter\"},{\"hovertemplate\":\"<b>Keenan Allen</b><br>%{y} yds through week %{x}<extra></extra>\",\"line\":{\"color\":\"#007BC7\"},\"mode\":\"markers+lines\",\"name\":\"Keenan Allen\",\"x\":[1,2,3,4,5,6,8,9,10,11,12,13,15,16,17,18],\"y\":[100.0,208.0,258.0,294.0,369.0,419.0,496.0,600.0,698.0,810.0,895.0,929.0,1007.0,1042.0,1086.0,1138.0],\"type\":\"scatter\"},{\"hovertemplate\":\"<b>Kyle Pitts</b><br>%{y} yds through week %{x}<extra></extra>\",\"line\":{\"color\":\"#A71930\"},\"mode\":\"markers+lines\",\"name\":\"Kyle Pitts\",\"x\":[1,2,3,4,5,7,8,9,10,11,12,13,14,15,16,17,18],\"y\":[31.0,104.0,139.0,189.0,308.0,471.0,484.0,546.0,606.0,635.0,661.0,709.0,770.0,847.0,949.0,1018.0,1026.0],\"type\":\"scatter\"},{\"hovertemplate\":\"<b>Mark Andrews</b><br>%{y} yds through week %{x}<extra></extra>\",\"line\":{\"color\":\"#241773\"},\"mode\":\"markers+lines\",\"name\":\"Mark Andrews\",\"x\":[1,2,3,4,5,6,7,9,10,11,12,13,14,15,16,17,18],\"y\":[20.0,77.0,186.0,253.0,400.0,468.0,516.0,560.0,623.0,696.0,761.0,811.0,926.0,1062.0,1187.0,1276.0,1361.0],\"type\":\"scatter\"},{\"hovertemplate\":\"<b>Marquise Brown</b><br>%{y} yds through week %{x}<extra></extra>\",\"line\":{\"color\":\"#241773\"},\"mode\":\"markers+lines\",\"name\":\"Marquise Brown\",\"x\":[1,2,3,4,5,6,7,9,10,12,13,14,15,16,17,18],\"y\":[69.0,182.0,235.0,326.0,451.0,486.0,566.0,682.0,719.0,770.0,825.0,866.0,909.0,953.0,981.0,1008.0],\"type\":\"scatter\"},{\"hovertemplate\":\"<b>Marvin Jones</b><br>%{y} yds through week %{x}<extra></extra>\",\"line\":{\"color\":\"#006778\"},\"mode\":\"markers+lines\",\"name\":\"Marvin Jones\",\"x\":[1,2,3,4,5,6,8,9,10,11,12,13,14,15,16,17,18],\"y\":[77.0,132.0,194.0,218.0,243.0,343.0,378.0,399.0,434.0,486.0,529.0,540.0,610.0,624.0,698.0,744.0,832.0],\"type\":\"scatter\"},{\"hovertemplate\":\"<b>Michael Pittman</b><br>%{y} yds through week %{x}<extra></extra>\",\"line\":{\"color\":\"#002C5F\"},\"mode\":\"markers+lines\",\"name\":\"Michael Pittman\",\"x\":[1,2,3,4,5,6,7,8,9,10,11,12,13,15,16,17,18],\"y\":[29.0,152.0,220.0,279.0,368.0,403.0,508.0,594.0,658.0,729.0,752.0,805.0,882.0,889.0,971.0,1018.0,1082.0],\"type\":\"scatter\"},{\"hovertemplate\":\"<b>Mike Evans</b><br>%{y} yds through week %{x}<extra></extra>\",\"line\":{\"color\":\"#A71930\"},\"mode\":\"markers+lines\",\"name\":\"Mike Evans\",\"x\":[1,2,3,4,5,6,7,8,10,11,12,13,14,15,17,18],\"y\":[24.0,99.0,205.0,280.0,393.0,420.0,496.0,544.0,606.0,679.0,695.0,794.0,885.0,899.0,946.0,1035.0],\"type\":\"scatter\"},{\"hovertemplate\":\"<b>Mike Williams</b><br>%{y} yds through week %{x}<extra></extra>\",\"line\":{\"color\":\"#007BC7\"},\"mode\":\"markers+lines\",\"name\":\"Mike Williams\",\"x\":[1,2,3,4,5,6,8,9,10,11,12,13,14,15,17,18],\"y\":[82.0,173.0,295.0,306.0,471.0,498.0,517.0,575.0,608.0,705.0,744.0,854.0,915.0,964.0,1027.0,1146.0],\"type\":\"scatter\"},{\"hovertemplate\":\"<b>Rob Gronkowski</b><br>%{y} yds through week %{x}<extra></extra>\",\"line\":{\"color\":\"#A71930\"},\"mode\":\"markers+lines\",\"name\":\"Rob Gronkowski\",\"x\":[1,2,3,8,11,12,13,14,15,16,17,18],\"y\":[90.0,129.0,184.0,184.0,255.0,378.0,436.0,498.0,527.0,550.0,665.0,802.0],\"type\":\"scatter\"},{\"hovertemplate\":\"<b>Stefon Diggs</b><br>%{y} yds through week %{x}<extra></extra>\",\"line\":{\"color\":\"#00338D\"},\"mode\":\"markers+lines\",\"name\":\"Stefon Diggs\",\"x\":[1,2,3,4,5,6,8,9,10,11,12,13,14,15,16,17,18],\"y\":[69.0,129.0,191.0,305.0,374.0,463.0,503.0,588.0,750.0,773.0,847.0,898.0,972.0,1007.0,1092.0,1144.0,1225.0],\"type\":\"scatter\"},{\"hovertemplate\":\"<b>Tee Higgins</b><br>%{y} yds through week %{x}<extra></extra>\",\"line\":{\"color\":\"#FB4F14\"},\"mode\":\"markers+lines\",\"name\":\"Tee Higgins\",\"x\":[1,2,5,6,7,8,9,11,12,13,14,15,16,17],\"y\":[58.0,118.0,150.0,194.0,256.0,353.0,431.0,446.0,560.0,698.0,812.0,835.0,1029.0,1091.0],\"type\":\"scatter\"},{\"hovertemplate\":\"<b>Terry McLaurin</b><br>%{y} yds through week %{x}<extra></extra>\",\"line\":{\"color\":\"#5A1414\"},\"mode\":\"markers+lines\",\"name\":\"Terry McLaurin\",\"x\":[1,2,3,4,5,6,7,8,10,11,12,13,14,15,16,17,18],\"y\":[62.0,169.0,231.0,354.0,400.0,428.0,550.0,573.0,632.0,735.0,786.0,808.0,808.0,859.0,899.0,960.0,1053.0],\"type\":\"scatter\"},{\"hovertemplate\":\"<b>Travis Kelce</b><br>%{y} yds through week %{x}<extra></extra>\",\"line\":{\"color\":\"#E31837\"},\"mode\":\"markers+lines\",\"name\":\"Travis Kelce\",\"x\":[1,2,3,4,5,6,7,8,9,10,11,13,14,15,17,18],\"y\":[76.0,185.0,289.0,312.0,369.0,468.0,533.0,560.0,628.0,747.0,821.0,848.0,875.0,1066.0,1091.0,1125.0],\"type\":\"scatter\"},{\"hovertemplate\":\"<b>Tyler Boyd</b><br>%{y} yds through week %{x}<extra></extra>\",\"line\":{\"color\":\"#FB4F14\"},\"mode\":\"markers+lines\",\"name\":\"Tyler Boyd\",\"x\":[1,2,3,4,5,6,7,8,9,11,12,13,14,15,16,17],\"y\":[32.0,105.0,141.0,259.0,283.0,290.0,329.0,398.0,409.0,458.0,471.0,556.0,611.0,707.0,792.0,828.0],\"type\":\"scatter\"},{\"hovertemplate\":\"<b>Tyler Lockett</b><br>%{y} yds through week %{x}<extra></extra>\",\"line\":{\"color\":\"#002244\"},\"mode\":\"markers+lines\",\"name\":\"Tyler Lockett\",\"x\":[1,2,3,4,5,6,7,8,10,11,12,13,14,16,17,18],\"y\":[100.0,278.0,309.0,333.0,390.0,425.0,437.0,579.0,602.0,717.0,813.0,881.0,1023.0,1053.0,1077.0,1175.0],\"type\":\"scatter\"},{\"hovertemplate\":\"<b>Tyreek Hill</b><br>%{y} yds through week %{x}<extra></extra>\",\"line\":{\"color\":\"#E31837\"},\"mode\":\"markers+lines\",\"name\":\"Tyreek Hill\",\"x\":[1,2,3,4,5,6,7,8,9,10,11,13,14,15,16,17,18],\"y\":[197.0,211.0,267.0,453.0,516.0,592.0,641.0,735.0,772.0,855.0,932.0,954.0,1030.0,1178.0,1197.0,1237.0,1239.0],\"type\":\"scatter\"},{\"hovertemplate\":\"<b>Van Jefferson</b><br>%{y} yds through week %{x}<extra></extra>\",\"line\":{\"color\":\"#003594\"},\"mode\":\"markers+lines\",\"name\":\"Van Jefferson\",\"x\":[1,2,3,4,5,6,7,8,9,10,12,13,14,15,16,17,18],\"y\":[80.0,94.0,136.0,226.0,242.0,261.0,304.0,392.0,433.0,487.0,580.0,621.0,679.0,702.0,708.0,771.0,802.0],\"type\":\"scatter\"}],                        {\"template\":{\"data\":{\"histogram2dcontour\":[{\"type\":\"histogram2dcontour\",\"colorbar\":{\"outlinewidth\":0,\"ticks\":\"\"},\"colorscale\":[[0.0,\"#0d0887\"],[0.1111111111111111,\"#46039f\"],[0.2222222222222222,\"#7201a8\"],[0.3333333333333333,\"#9c179e\"],[0.4444444444444444,\"#bd3786\"],[0.5555555555555556,\"#d8576b\"],[0.6666666666666666,\"#ed7953\"],[0.7777777777777778,\"#fb9f3a\"],[0.8888888888888888,\"#fdca26\"],[1.0,\"#f0f921\"]]}],\"choropleth\":[{\"type\":\"choropleth\",\"colorbar\":{\"outlinewidth\":0,\"ticks\":\"\"}}],\"histogram2d\":[{\"type\":\"histogram2d\",\"colorbar\":{\"outlinewidth\":0,\"ticks\":\"\"},\"colorscale\":[[0.0,\"#0d0887\"],[0.1111111111111111,\"#46039f\"],[0.2222222222222222,\"#7201a8\"],[0.3333333333333333,\"#9c179e\"],[0.4444444444444444,\"#bd3786\"],[0.5555555555555556,\"#d8576b\"],[0.6666666666666666,\"#ed7953\"],[0.7777777777777778,\"#fb9f3a\"],[0.8888888888888888,\"#fdca26\"],[1.0,\"#f0f921\"]]}],\"heatmap\":[{\"type\":\"heatmap\",\"colorbar\":{\"outlinewidth\":0,\"ticks\":\"\"},\"colorscale\":[[0.0,\"#0d0887\"],[0.1111111111111111,\"#46039f\"],[0.2222222222222222,\"#7201a8\"],[0.3333333333333333,\"#9c179e\"],[0.4444444444444444,\"#bd3786\"],[0.5555555555555556,\"#d8576b\"],[0.6666666666666666,\"#ed7953\"],[0.7777777777777778,\"#fb9f3a\"],[0.8888888888888888,\"#fdca26\"],[1.0,\"#f0f921\"]]}],\"heatmapgl\":[{\"type\":\"heatmapgl\",\"colorbar\":{\"outlinewidth\":0,\"ticks\":\"\"},\"colorscale\":[[0.0,\"#0d0887\"],[0.1111111111111111,\"#46039f\"],[0.2222222222222222,\"#7201a8\"],[0.3333333333333333,\"#9c179e\"],[0.4444444444444444,\"#bd3786\"],[0.5555555555555556,\"#d8576b\"],[0.6666666666666666,\"#ed7953\"],[0.7777777777777778,\"#fb9f3a\"],[0.8888888888888888,\"#fdca26\"],[1.0,\"#f0f921\"]]}],\"contourcarpet\":[{\"type\":\"contourcarpet\",\"colorbar\":{\"outlinewidth\":0,\"ticks\":\"\"}}],\"contour\":[{\"type\":\"contour\",\"colorbar\":{\"outlinewidth\":0,\"ticks\":\"\"},\"colorscale\":[[0.0,\"#0d0887\"],[0.1111111111111111,\"#46039f\"],[0.2222222222222222,\"#7201a8\"],[0.3333333333333333,\"#9c179e\"],[0.4444444444444444,\"#bd3786\"],[0.5555555555555556,\"#d8576b\"],[0.6666666666666666,\"#ed7953\"],[0.7777777777777778,\"#fb9f3a\"],[0.8888888888888888,\"#fdca26\"],[1.0,\"#f0f921\"]]}],\"surface\":[{\"type\":\"surface\",\"colorbar\":{\"outlinewidth\":0,\"ticks\":\"\"},\"colorscale\":[[0.0,\"#0d0887\"],[0.1111111111111111,\"#46039f\"],[0.2222222222222222,\"#7201a8\"],[0.3333333333333333,\"#9c179e\"],[0.4444444444444444,\"#bd3786\"],[0.5555555555555556,\"#d8576b\"],[0.6666666666666666,\"#ed7953\"],[0.7777777777777778,\"#fb9f3a\"],[0.8888888888888888,\"#fdca26\"],[1.0,\"#f0f921\"]]}],\"mesh3d\":[{\"type\":\"mesh3d\",\"colorbar\":{\"outlinewidth\":0,\"ticks\":\"\"}}],\"scatter\":[{\"fillpattern\":{\"fillmode\":\"overlay\",\"size\":10,\"solidity\":0.2},\"type\":\"scatter\"}],\"parcoords\":[{\"type\":\"parcoords\",\"line\":{\"colorbar\":{\"outlinewidth\":0,\"ticks\":\"\"}}}],\"scatterpolargl\":[{\"type\":\"scatterpolargl\",\"marker\":{\"colorbar\":{\"outlinewidth\":0,\"ticks\":\"\"}}}],\"bar\":[{\"error_x\":{\"color\":\"#2a3f5f\"},\"error_y\":{\"color\":\"#2a3f5f\"},\"marker\":{\"line\":{\"color\":\"#E5ECF6\",\"width\":0.5},\"pattern\":{\"fillmode\":\"overlay\",\"size\":10,\"solidity\":0.2}},\"type\":\"bar\"}],\"scattergeo\":[{\"type\":\"scattergeo\",\"marker\":{\"colorbar\":{\"outlinewidth\":0,\"ticks\":\"\"}}}],\"scatterpolar\":[{\"type\":\"scatterpolar\",\"marker\":{\"colorbar\":{\"outlinewidth\":0,\"ticks\":\"\"}}}],\"histogram\":[{\"marker\":{\"pattern\":{\"fillmode\":\"overlay\",\"size\":10,\"solidity\":0.2}},\"type\":\"histogram\"}],\"scattergl\":[{\"type\":\"scattergl\",\"marker\":{\"colorbar\":{\"outlinewidth\":0,\"ticks\":\"\"}}}],\"scatter3d\":[{\"type\":\"scatter3d\",\"line\":{\"colorbar\":{\"outlinewidth\":0,\"ticks\":\"\"}},\"marker\":{\"colorbar\":{\"outlinewidth\":0,\"ticks\":\"\"}}}],\"scattermapbox\":[{\"type\":\"scattermapbox\",\"marker\":{\"colorbar\":{\"outlinewidth\":0,\"ticks\":\"\"}}}],\"scatterternary\":[{\"type\":\"scatterternary\",\"marker\":{\"colorbar\":{\"outlinewidth\":0,\"ticks\":\"\"}}}],\"scattercarpet\":[{\"type\":\"scattercarpet\",\"marker\":{\"colorbar\":{\"outlinewidth\":0,\"ticks\":\"\"}}}],\"carpet\":[{\"aaxis\":{\"endlinecolor\":\"#2a3f5f\",\"gridcolor\":\"white\",\"linecolor\":\"white\",\"minorgridcolor\":\"white\",\"startlinecolor\":\"#2a3f5f\"},\"baxis\":{\"endlinecolor\":\"#2a3f5f\",\"gridcolor\":\"white\",\"linecolor\":\"white\",\"minorgridcolor\":\"white\",\"startlinecolor\":\"#2a3f5f\"},\"type\":\"carpet\"}],\"table\":[{\"cells\":{\"fill\":{\"color\":\"#EBF0F8\"},\"line\":{\"color\":\"white\"}},\"header\":{\"fill\":{\"color\":\"#C8D4E3\"},\"line\":{\"color\":\"white\"}},\"type\":\"table\"}],\"barpolar\":[{\"marker\":{\"line\":{\"color\":\"#E5ECF6\",\"width\":0.5},\"pattern\":{\"fillmode\":\"overlay\",\"size\":10,\"solidity\":0.2}},\"type\":\"barpolar\"}],\"pie\":[{\"automargin\":true,\"type\":\"pie\"}]},\"layout\":{\"autotypenumbers\":\"strict\",\"colorway\":[\"#636efa\",\"#EF553B\",\"#00cc96\",\"#ab63fa\",\"#FFA15A\",\"#19d3f3\",\"#FF6692\",\"#B6E880\",\"#FF97FF\",\"#FECB52\"],\"font\":{\"color\":\"#2a3f5f\"},\"hovermode\":\"closest\",\"hoverlabel\":{\"align\":\"left\"},\"paper_bgcolor\":\"white\",\"plot_bgcolor\":\"#E5ECF6\",\"polar\":{\"bgcolor\":\"#E5ECF6\",\"angularaxis\":{\"gridcolor\":\"white\",\"linecolor\":\"white\",\"ticks\":\"\"},\"radialaxis\":{\"gridcolor\":\"white\",\"linecolor\":\"white\",\"ticks\":\"\"}},\"ternary\":{\"bgcolor\":\"#E5ECF6\",\"aaxis\":{\"gridcolor\":\"white\",\"linecolor\":\"white\",\"ticks\":\"\"},\"baxis\":{\"gridcolor\":\"white\",\"linecolor\":\"white\",\"ticks\":\"\"},\"caxis\":{\"gridcolor\":\"white\",\"linecolor\":\"white\",\"ticks\":\"\"}},\"coloraxis\":{\"colorbar\":{\"outlinewidth\":0,\"ticks\":\"\"}},\"colorscale\":{\"sequential\":[[0.0,\"#0d0887\"],[0.1111111111111111,\"#46039f\"],[0.2222222222222222,\"#7201a8\"],[0.3333333333333333,\"#9c179e\"],[0.4444444444444444,\"#bd3786\"],[0.5555555555555556,\"#d8576b\"],[0.6666666666666666,\"#ed7953\"],[0.7777777777777778,\"#fb9f3a\"],[0.8888888888888888,\"#fdca26\"],[1.0,\"#f0f921\"]],\"sequentialminus\":[[0.0,\"#0d0887\"],[0.1111111111111111,\"#46039f\"],[0.2222222222222222,\"#7201a8\"],[0.3333333333333333,\"#9c179e\"],[0.4444444444444444,\"#bd3786\"],[0.5555555555555556,\"#d8576b\"],[0.6666666666666666,\"#ed7953\"],[0.7777777777777778,\"#fb9f3a\"],[0.8888888888888888,\"#fdca26\"],[1.0,\"#f0f921\"]],\"diverging\":[[0,\"#8e0152\"],[0.1,\"#c51b7d\"],[0.2,\"#de77ae\"],[0.3,\"#f1b6da\"],[0.4,\"#fde0ef\"],[0.5,\"#f7f7f7\"],[0.6,\"#e6f5d0\"],[0.7,\"#b8e186\"],[0.8,\"#7fbc41\"],[0.9,\"#4d9221\"],[1,\"#276419\"]]},\"xaxis\":{\"gridcolor\":\"white\",\"linecolor\":\"white\",\"ticks\":\"\",\"title\":{\"standoff\":15},\"zerolinecolor\":\"white\",\"automargin\":true,\"zerolinewidth\":2},\"yaxis\":{\"gridcolor\":\"white\",\"linecolor\":\"white\",\"ticks\":\"\",\"title\":{\"standoff\":15},\"zerolinecolor\":\"white\",\"automargin\":true,\"zerolinewidth\":2},\"scene\":{\"xaxis\":{\"backgroundcolor\":\"#E5ECF6\",\"gridcolor\":\"white\",\"linecolor\":\"white\",\"showbackground\":true,\"ticks\":\"\",\"zerolinecolor\":\"white\",\"gridwidth\":2},\"yaxis\":{\"backgroundcolor\":\"#E5ECF6\",\"gridcolor\":\"white\",\"linecolor\":\"white\",\"showbackground\":true,\"ticks\":\"\",\"zerolinecolor\":\"white\",\"gridwidth\":2},\"zaxis\":{\"backgroundcolor\":\"#E5ECF6\",\"gridcolor\":\"white\",\"linecolor\":\"white\",\"showbackground\":true,\"ticks\":\"\",\"zerolinecolor\":\"white\",\"gridwidth\":2}},\"shapedefaults\":{\"line\":{\"color\":\"#2a3f5f\"}},\"annotationdefaults\":{\"arrowcolor\":\"#2a3f5f\",\"arrowhead\":0,\"arrowwidth\":1},\"geo\":{\"bgcolor\":\"white\",\"landcolor\":\"#E5ECF6\",\"subunitcolor\":\"white\",\"showland\":true,\"showlakes\":true,\"lakecolor\":\"white\"},\"title\":{\"x\":0.05},\"mapbox\":{\"style\":\"light\"}}},\"font\":{\"family\":\"Averta, sans-serif\"},\"hoverlabel\":{\"font\":{\"family\":\"Averta, sans-serif\",\"size\":16}},\"xaxis\":{\"title\":{\"font\":{\"size\":18},\"text\":\"Week\"},\"tickfont\":{\"size\":16}},\"yaxis\":{\"title\":{\"font\":{\"size\":18},\"text\":\"Receiving Yards\"},\"tickfont\":{\"size\":16}},\"legend\":{\"font\":{\"size\":16}},\"height\":1000,\"width\":1000},                        {\"responsive\": true}                    ).then(function(){\n",
       "                            \n",
       "var gd = document.getElementById('0c28affd-d969-46bd-8180-26ce80e2fb65');\n",
       "var x = new MutationObserver(function (mutations, observer) {{\n",
       "        var display = window.getComputedStyle(gd).display;\n",
       "        if (!display || display === 'none') {{\n",
       "            console.log([gd, 'removed!']);\n",
       "            Plotly.purge(gd);\n",
       "            observer.disconnect();\n",
       "        }}\n",
       "}});\n",
       "\n",
       "// Listen for the removal of the full notebook cells\n",
       "var notebookContainer = gd.closest('#notebook-container');\n",
       "if (notebookContainer) {{\n",
       "    x.observe(notebookContainer, {childList: true});\n",
       "}}\n",
       "\n",
       "// Listen for the clearing of the current output cell\n",
       "var outputEl = gd.closest('.output');\n",
       "if (outputEl) {{\n",
       "    x.observe(outputEl, {childList: true});\n",
       "}}\n",
       "\n",
       "                        })                };                });            </script>        </div>"
      ]
     },
     "metadata": {},
     "output_type": "display_data"
    }
   ],
   "source": [
    "fig = go.Figure()\n",
    "for name, values in df_agg.groupby(\"player_name\"):\n",
    "    if values[\"receiving_yards\"].sum() > 800:\n",
    "        fig.add_trace(\n",
    "            go.Scatter(\n",
    "                x=values[\"week\"], \n",
    "                y=values[\"receiving_yards\"].cumsum(), \n",
    "                name=name, \n",
    "                mode=\"markers+lines\", \n",
    "                line_color=values.iloc[0].team_color,\n",
    "                hovertemplate=f\"<b>{name}</b><br>%{{y}} yds through week %{{x}}<extra></extra>\"\n",
    "            )\n",
    "        )\n",
    "    \n",
    "fig.update_layout(\n",
    "    font_family=\"Averta, sans-serif\",\n",
    "    hoverlabel_font_family=\"Averta, sans-serif\",\n",
    "    xaxis_title_text=\"Week\",\n",
    "    xaxis_title_font_size=18,\n",
    "    xaxis_tickfont_size=16,\n",
    "    yaxis_title_text=\"Receiving Yards\",\n",
    "    yaxis_title_font_size=18,\n",
    "    yaxis_tickfont_size=16,\n",
    "    hoverlabel_font_size=16,\n",
    "    legend_font_size=16,\n",
    "    height=1000,\n",
    "    width=1000\n",
    ")\n",
    "    \n",
    "fig.show()"
   ]
  },
  {
   "cell_type": "code",
   "execution_count": 21,
   "id": "55501f3b",
   "metadata": {},
   "outputs": [
    {
     "data": {
      "application/vnd.plotly.v1+json": {
       "config": {
        "plotlyServerURL": "https://plot.ly"
       },
       "data": [
        {
         "hovertemplate": "<b>Adam Thielen</b><br>%{y} rec TDs through week %{x}<extra></extra>",
         "line": {
          "color": "#4F2683"
         },
         "mode": "markers+lines",
         "name": "Adam Thielen",
         "type": "scatter",
         "x": [
          1,
          2,
          3,
          4,
          5,
          6,
          8,
          9,
          10,
          11,
          12,
          13,
          16
         ],
         "y": [
          2,
          3,
          4,
          4,
          4,
          5,
          6,
          7,
          7,
          8,
          10,
          10,
          10
         ]
        },
        {
         "hovertemplate": "<b>Allen Lazard</b><br>%{y} rec TDs through week %{x}<extra></extra>",
         "line": {
          "color": "#203731"
         },
         "mode": "markers+lines",
         "name": "Allen Lazard",
         "type": "scatter",
         "x": [
          1,
          3,
          4,
          5,
          6,
          7,
          9,
          10,
          12,
          14,
          15,
          16,
          17,
          18
         ],
         "y": [
          0,
          0,
          0,
          0,
          1,
          2,
          3,
          3,
          3,
          4,
          4,
          5,
          6,
          8
         ]
        },
        {
         "hovertemplate": "<b>Amari Cooper</b><br>%{y} rec TDs through week %{x}<extra></extra>",
         "line": {
          "color": "#002244"
         },
         "mode": "markers+lines",
         "name": "Amari Cooper",
         "type": "scatter",
         "x": [
          1,
          2,
          3,
          4,
          5,
          6,
          8,
          9,
          10,
          13,
          14,
          15,
          16,
          17,
          18
         ],
         "y": [
          2,
          2,
          2,
          3,
          4,
          4,
          5,
          5,
          5,
          5,
          6,
          6,
          7,
          8,
          8
         ]
        },
        {
         "hovertemplate": "<b>Austin Ekeler</b><br>%{y} rec TDs through week %{x}<extra></extra>",
         "line": {
          "color": "#007BC7"
         },
         "mode": "markers+lines",
         "name": "Austin Ekeler",
         "type": "scatter",
         "x": [
          2,
          3,
          4,
          5,
          6,
          8,
          9,
          10,
          11,
          12,
          13,
          14,
          15,
          17,
          18
         ],
         "y": [
          0,
          1,
          2,
          3,
          3,
          3,
          3,
          4,
          6,
          8,
          8,
          8,
          8,
          8,
          9
         ]
        },
        {
         "hovertemplate": "<b>Cooper Kupp</b><br>%{y} rec TDs through week %{x}<extra></extra>",
         "line": {
          "color": "#003594"
         },
         "mode": "markers+lines",
         "name": "Cooper Kupp",
         "type": "scatter",
         "x": [
          1,
          2,
          3,
          4,
          5,
          6,
          7,
          8,
          9,
          10,
          12,
          13,
          14,
          15,
          16,
          17,
          18
         ],
         "y": [
          1,
          3,
          5,
          5,
          5,
          7,
          9,
          10,
          10,
          10,
          11,
          12,
          13,
          15,
          15,
          16,
          17
         ]
        },
        {
         "hovertemplate": "<b>DK Metcalf</b><br>%{y} rec TDs through week %{x}<extra></extra>",
         "line": {
          "color": "#002244"
         },
         "mode": "markers+lines",
         "name": "DK Metcalf",
         "type": "scatter",
         "x": [
          1,
          2,
          3,
          4,
          5,
          6,
          7,
          8,
          10,
          11,
          12,
          13,
          14,
          15,
          16,
          17,
          18
         ],
         "y": [
          1,
          1,
          2,
          3,
          5,
          5,
          6,
          8,
          8,
          8,
          8,
          8,
          8,
          8,
          9,
          12,
          12
         ]
        },
        {
         "hovertemplate": "<b>Dalton Schultz</b><br>%{y} rec TDs through week %{x}<extra></extra>",
         "line": {
          "color": "#002244"
         },
         "mode": "markers+lines",
         "name": "Dalton Schultz",
         "type": "scatter",
         "x": [
          1,
          2,
          3,
          4,
          5,
          6,
          8,
          9,
          10,
          11,
          12,
          13,
          14,
          15,
          16,
          17,
          18
         ],
         "y": [
          0,
          0,
          2,
          3,
          3,
          3,
          3,
          3,
          3,
          3,
          4,
          4,
          5,
          6,
          7,
          7,
          9
         ]
        },
        {
         "hovertemplate": "<b>Davante Adams</b><br>%{y} rec TDs through week %{x}<extra></extra>",
         "line": {
          "color": "#203731"
         },
         "mode": "markers+lines",
         "name": "Davante Adams",
         "type": "scatter",
         "x": [
          1,
          2,
          3,
          4,
          5,
          6,
          7,
          9,
          10,
          11,
          12,
          14,
          15,
          16,
          17,
          18
         ],
         "y": [
          0,
          0,
          1,
          1,
          2,
          2,
          3,
          3,
          3,
          5,
          5,
          7,
          8,
          10,
          11,
          11
         ]
        },
        {
         "hovertemplate": "<b>Dawson Knox</b><br>%{y} rec TDs through week %{x}<extra></extra>",
         "line": {
          "color": "#00338D"
         },
         "mode": "markers+lines",
         "name": "Dawson Knox",
         "type": "scatter",
         "x": [
          1,
          2,
          3,
          4,
          5,
          6,
          10,
          11,
          12,
          13,
          14,
          15,
          16,
          17,
          18
         ],
         "y": [
          0,
          1,
          2,
          4,
          5,
          5,
          5,
          5,
          7,
          7,
          8,
          8,
          9,
          9,
          9
         ]
        },
        {
         "hovertemplate": "<b>DeAndre Hopkins</b><br>%{y} rec TDs through week %{x}<extra></extra>",
         "line": {
          "color": "#97233F"
         },
         "mode": "markers+lines",
         "name": "DeAndre Hopkins",
         "type": "scatter",
         "x": [
          1,
          2,
          3,
          4,
          5,
          6,
          7,
          8,
          13,
          14
         ],
         "y": [
          2,
          3,
          3,
          3,
          4,
          6,
          7,
          7,
          8,
          8
         ]
        },
        {
         "hovertemplate": "<b>Diontae Johnson</b><br>%{y} rec TDs through week %{x}<extra></extra>",
         "line": {
          "color": "#000000"
         },
         "mode": "markers+lines",
         "name": "Diontae Johnson",
         "type": "scatter",
         "x": [
          1,
          2,
          4,
          5,
          6,
          8,
          9,
          10,
          11,
          12,
          13,
          14,
          15,
          16,
          17,
          18
         ],
         "y": [
          1,
          1,
          2,
          3,
          3,
          3,
          3,
          3,
          4,
          4,
          6,
          6,
          6,
          7,
          8,
          8
         ]
        },
        {
         "hovertemplate": "<b>Hunter Henry</b><br>%{y} rec TDs through week %{x}<extra></extra>",
         "line": {
          "color": "#002244"
         },
         "mode": "markers+lines",
         "name": "Hunter Henry",
         "type": "scatter",
         "x": [
          1,
          2,
          3,
          4,
          5,
          6,
          7,
          8,
          9,
          10,
          11,
          12,
          15,
          16,
          17,
          18
         ],
         "y": [
          0,
          0,
          0,
          1,
          2,
          3,
          4,
          4,
          5,
          7,
          7,
          7,
          9,
          9,
          9,
          9
         ]
        },
        {
         "hovertemplate": "<b>Hunter Renfrow</b><br>%{y} rec TDs through week %{x}<extra></extra>",
         "line": {
          "color": "#000000"
         },
         "mode": "markers+lines",
         "name": "Hunter Renfrow",
         "type": "scatter",
         "x": [
          1,
          2,
          3,
          4,
          5,
          6,
          7,
          9,
          10,
          11,
          12,
          13,
          14,
          15,
          16,
          17,
          18
         ],
         "y": [
          0,
          0,
          1,
          2,
          2,
          2,
          2,
          4,
          5,
          5,
          5,
          5,
          6,
          6,
          7,
          8,
          10
         ]
        },
        {
         "hovertemplate": "<b>Ja'Marr Chase</b><br>%{y} rec TDs through week %{x}<extra></extra>",
         "line": {
          "color": "#FB4F14"
         },
         "mode": "markers+lines",
         "name": "Ja'Marr Chase",
         "type": "scatter",
         "x": [
          1,
          2,
          3,
          4,
          5,
          6,
          7,
          8,
          9,
          11,
          12,
          13,
          14,
          15,
          16,
          17,
          18
         ],
         "y": [
          1,
          2,
          4,
          4,
          5,
          5,
          6,
          7,
          8,
          9,
          9,
          9,
          11,
          11,
          11,
          14,
          14
         ]
        },
        {
         "hovertemplate": "<b>Justin Jefferson</b><br>%{y} rec TDs through week %{x}<extra></extra>",
         "line": {
          "color": "#4F2683"
         },
         "mode": "markers+lines",
         "name": "Justin Jefferson",
         "type": "scatter",
         "x": [
          1,
          2,
          3,
          4,
          5,
          6,
          8,
          9,
          10,
          11,
          12,
          13,
          14,
          15,
          16,
          17,
          18
         ],
         "y": [
          0,
          1,
          2,
          3,
          3,
          3,
          3,
          4,
          4,
          6,
          6,
          7,
          8,
          9,
          9,
          9,
          10
         ]
        },
        {
         "hovertemplate": "<b>K.J. Osborn</b><br>%{y} rec TDs through week %{x}<extra></extra>",
         "line": {
          "color": "#4F2683"
         },
         "mode": "markers+lines",
         "name": "K.J. Osborn",
         "type": "scatter",
         "x": [
          1,
          2,
          3,
          4,
          5,
          6,
          8,
          9,
          10,
          11,
          12,
          13,
          14,
          15,
          16,
          17,
          18
         ],
         "y": [
          0,
          1,
          1,
          1,
          1,
          2,
          2,
          2,
          2,
          2,
          2,
          3,
          4,
          4,
          5,
          6,
          7
         ]
        },
        {
         "hovertemplate": "<b>Mark Andrews</b><br>%{y} rec TDs through week %{x}<extra></extra>",
         "line": {
          "color": "#241773"
         },
         "mode": "markers+lines",
         "name": "Mark Andrews",
         "type": "scatter",
         "x": [
          1,
          2,
          3,
          4,
          5,
          6,
          7,
          9,
          10,
          11,
          12,
          13,
          14,
          15,
          16,
          17,
          18
         ],
         "y": [
          0,
          0,
          0,
          0,
          2,
          3,
          3,
          3,
          4,
          4,
          5,
          5,
          6,
          8,
          9,
          9,
          9
         ]
        },
        {
         "hovertemplate": "<b>Mike Evans</b><br>%{y} rec TDs through week %{x}<extra></extra>",
         "line": {
          "color": "#A71930"
         },
         "mode": "markers+lines",
         "name": "Mike Evans",
         "type": "scatter",
         "x": [
          1,
          2,
          3,
          4,
          5,
          6,
          7,
          8,
          10,
          11,
          12,
          13,
          14,
          15,
          17,
          18
         ],
         "y": [
          0,
          2,
          2,
          2,
          4,
          4,
          7,
          8,
          9,
          10,
          10,
          10,
          11,
          11,
          12,
          14
         ]
        },
        {
         "hovertemplate": "<b>Mike Williams</b><br>%{y} rec TDs through week %{x}<extra></extra>",
         "line": {
          "color": "#007BC7"
         },
         "mode": "markers+lines",
         "name": "Mike Williams",
         "type": "scatter",
         "x": [
          1,
          2,
          3,
          4,
          5,
          6,
          8,
          9,
          10,
          11,
          12,
          13,
          14,
          15,
          17,
          18
         ],
         "y": [
          1,
          2,
          4,
          4,
          6,
          6,
          6,
          6,
          6,
          7,
          7,
          7,
          7,
          7,
          8,
          9
         ]
        },
        {
         "hovertemplate": "<b>Pat Freiermuth</b><br>%{y} rec TDs through week %{x}<extra></extra>",
         "line": {
          "color": "#000000"
         },
         "mode": "markers+lines",
         "name": "Pat Freiermuth",
         "type": "scatter",
         "x": [
          1,
          2,
          3,
          4,
          5,
          6,
          8,
          9,
          10,
          11,
          12,
          13,
          14,
          15,
          17,
          18
         ],
         "y": [
          0,
          0,
          1,
          1,
          1,
          1,
          2,
          4,
          4,
          5,
          6,
          6,
          7,
          7,
          7,
          7
         ]
        },
        {
         "hovertemplate": "<b>Stefon Diggs</b><br>%{y} rec TDs through week %{x}<extra></extra>",
         "line": {
          "color": "#00338D"
         },
         "mode": "markers+lines",
         "name": "Stefon Diggs",
         "type": "scatter",
         "x": [
          1,
          2,
          3,
          4,
          5,
          6,
          8,
          9,
          10,
          11,
          12,
          13,
          14,
          15,
          16,
          17,
          18
         ],
         "y": [
          0,
          1,
          1,
          1,
          1,
          2,
          3,
          3,
          4,
          6,
          7,
          7,
          7,
          8,
          9,
          9,
          10
         ]
        },
        {
         "hovertemplate": "<b>Travis Kelce</b><br>%{y} rec TDs through week %{x}<extra></extra>",
         "line": {
          "color": "#E31837"
         },
         "mode": "markers+lines",
         "name": "Travis Kelce",
         "type": "scatter",
         "x": [
          1,
          2,
          3,
          4,
          5,
          6,
          7,
          8,
          9,
          10,
          11,
          13,
          14,
          15,
          17,
          18
         ],
         "y": [
          2,
          3,
          3,
          3,
          4,
          4,
          4,
          4,
          5,
          5,
          5,
          5,
          5,
          7,
          8,
          9
         ]
        },
        {
         "hovertemplate": "<b>Tyler Higbee</b><br>%{y} rec TDs through week %{x}<extra></extra>",
         "line": {
          "color": "#003594"
         },
         "mode": "markers+lines",
         "name": "Tyler Higbee",
         "type": "scatter",
         "x": [
          1,
          2,
          3,
          4,
          5,
          6,
          7,
          8,
          9,
          10,
          12,
          13,
          16,
          17,
          18
         ],
         "y": [
          0,
          0,
          1,
          1,
          2,
          2,
          2,
          2,
          2,
          4,
          4,
          4,
          4,
          5,
          7
         ]
        },
        {
         "hovertemplate": "<b>Tyler Lockett</b><br>%{y} rec TDs through week %{x}<extra></extra>",
         "line": {
          "color": "#002244"
         },
         "mode": "markers+lines",
         "name": "Tyler Lockett",
         "type": "scatter",
         "x": [
          1,
          2,
          3,
          4,
          5,
          6,
          7,
          8,
          10,
          11,
          12,
          13,
          14,
          16,
          17,
          18
         ],
         "y": [
          2,
          3,
          3,
          3,
          3,
          3,
          3,
          3,
          3,
          3,
          3,
          4,
          5,
          5,
          6,
          8
         ]
        },
        {
         "hovertemplate": "<b>Tyreek Hill</b><br>%{y} rec TDs through week %{x}<extra></extra>",
         "line": {
          "color": "#E31837"
         },
         "mode": "markers+lines",
         "name": "Tyreek Hill",
         "type": "scatter",
         "x": [
          1,
          2,
          3,
          4,
          5,
          6,
          7,
          8,
          9,
          10,
          11,
          13,
          14,
          15,
          16,
          17,
          18
         ],
         "y": [
          1,
          1,
          1,
          4,
          5,
          6,
          6,
          7,
          7,
          9,
          9,
          9,
          9,
          10,
          10,
          10,
          10
         ]
        }
       ],
       "layout": {
        "font": {
         "family": "Averta, sans-serif"
        },
        "height": 1000,
        "hoverlabel": {
         "font": {
          "family": "Averta, sans-serif",
          "size": 16
         }
        },
        "legend": {
         "font": {
          "size": 16
         }
        },
        "template": {
         "data": {
          "bar": [
           {
            "error_x": {
             "color": "#2a3f5f"
            },
            "error_y": {
             "color": "#2a3f5f"
            },
            "marker": {
             "line": {
              "color": "#E5ECF6",
              "width": 0.5
             },
             "pattern": {
              "fillmode": "overlay",
              "size": 10,
              "solidity": 0.2
             }
            },
            "type": "bar"
           }
          ],
          "barpolar": [
           {
            "marker": {
             "line": {
              "color": "#E5ECF6",
              "width": 0.5
             },
             "pattern": {
              "fillmode": "overlay",
              "size": 10,
              "solidity": 0.2
             }
            },
            "type": "barpolar"
           }
          ],
          "carpet": [
           {
            "aaxis": {
             "endlinecolor": "#2a3f5f",
             "gridcolor": "white",
             "linecolor": "white",
             "minorgridcolor": "white",
             "startlinecolor": "#2a3f5f"
            },
            "baxis": {
             "endlinecolor": "#2a3f5f",
             "gridcolor": "white",
             "linecolor": "white",
             "minorgridcolor": "white",
             "startlinecolor": "#2a3f5f"
            },
            "type": "carpet"
           }
          ],
          "choropleth": [
           {
            "colorbar": {
             "outlinewidth": 0,
             "ticks": ""
            },
            "type": "choropleth"
           }
          ],
          "contour": [
           {
            "colorbar": {
             "outlinewidth": 0,
             "ticks": ""
            },
            "colorscale": [
             [
              0,
              "#0d0887"
             ],
             [
              0.1111111111111111,
              "#46039f"
             ],
             [
              0.2222222222222222,
              "#7201a8"
             ],
             [
              0.3333333333333333,
              "#9c179e"
             ],
             [
              0.4444444444444444,
              "#bd3786"
             ],
             [
              0.5555555555555556,
              "#d8576b"
             ],
             [
              0.6666666666666666,
              "#ed7953"
             ],
             [
              0.7777777777777778,
              "#fb9f3a"
             ],
             [
              0.8888888888888888,
              "#fdca26"
             ],
             [
              1,
              "#f0f921"
             ]
            ],
            "type": "contour"
           }
          ],
          "contourcarpet": [
           {
            "colorbar": {
             "outlinewidth": 0,
             "ticks": ""
            },
            "type": "contourcarpet"
           }
          ],
          "heatmap": [
           {
            "colorbar": {
             "outlinewidth": 0,
             "ticks": ""
            },
            "colorscale": [
             [
              0,
              "#0d0887"
             ],
             [
              0.1111111111111111,
              "#46039f"
             ],
             [
              0.2222222222222222,
              "#7201a8"
             ],
             [
              0.3333333333333333,
              "#9c179e"
             ],
             [
              0.4444444444444444,
              "#bd3786"
             ],
             [
              0.5555555555555556,
              "#d8576b"
             ],
             [
              0.6666666666666666,
              "#ed7953"
             ],
             [
              0.7777777777777778,
              "#fb9f3a"
             ],
             [
              0.8888888888888888,
              "#fdca26"
             ],
             [
              1,
              "#f0f921"
             ]
            ],
            "type": "heatmap"
           }
          ],
          "heatmapgl": [
           {
            "colorbar": {
             "outlinewidth": 0,
             "ticks": ""
            },
            "colorscale": [
             [
              0,
              "#0d0887"
             ],
             [
              0.1111111111111111,
              "#46039f"
             ],
             [
              0.2222222222222222,
              "#7201a8"
             ],
             [
              0.3333333333333333,
              "#9c179e"
             ],
             [
              0.4444444444444444,
              "#bd3786"
             ],
             [
              0.5555555555555556,
              "#d8576b"
             ],
             [
              0.6666666666666666,
              "#ed7953"
             ],
             [
              0.7777777777777778,
              "#fb9f3a"
             ],
             [
              0.8888888888888888,
              "#fdca26"
             ],
             [
              1,
              "#f0f921"
             ]
            ],
            "type": "heatmapgl"
           }
          ],
          "histogram": [
           {
            "marker": {
             "pattern": {
              "fillmode": "overlay",
              "size": 10,
              "solidity": 0.2
             }
            },
            "type": "histogram"
           }
          ],
          "histogram2d": [
           {
            "colorbar": {
             "outlinewidth": 0,
             "ticks": ""
            },
            "colorscale": [
             [
              0,
              "#0d0887"
             ],
             [
              0.1111111111111111,
              "#46039f"
             ],
             [
              0.2222222222222222,
              "#7201a8"
             ],
             [
              0.3333333333333333,
              "#9c179e"
             ],
             [
              0.4444444444444444,
              "#bd3786"
             ],
             [
              0.5555555555555556,
              "#d8576b"
             ],
             [
              0.6666666666666666,
              "#ed7953"
             ],
             [
              0.7777777777777778,
              "#fb9f3a"
             ],
             [
              0.8888888888888888,
              "#fdca26"
             ],
             [
              1,
              "#f0f921"
             ]
            ],
            "type": "histogram2d"
           }
          ],
          "histogram2dcontour": [
           {
            "colorbar": {
             "outlinewidth": 0,
             "ticks": ""
            },
            "colorscale": [
             [
              0,
              "#0d0887"
             ],
             [
              0.1111111111111111,
              "#46039f"
             ],
             [
              0.2222222222222222,
              "#7201a8"
             ],
             [
              0.3333333333333333,
              "#9c179e"
             ],
             [
              0.4444444444444444,
              "#bd3786"
             ],
             [
              0.5555555555555556,
              "#d8576b"
             ],
             [
              0.6666666666666666,
              "#ed7953"
             ],
             [
              0.7777777777777778,
              "#fb9f3a"
             ],
             [
              0.8888888888888888,
              "#fdca26"
             ],
             [
              1,
              "#f0f921"
             ]
            ],
            "type": "histogram2dcontour"
           }
          ],
          "mesh3d": [
           {
            "colorbar": {
             "outlinewidth": 0,
             "ticks": ""
            },
            "type": "mesh3d"
           }
          ],
          "parcoords": [
           {
            "line": {
             "colorbar": {
              "outlinewidth": 0,
              "ticks": ""
             }
            },
            "type": "parcoords"
           }
          ],
          "pie": [
           {
            "automargin": true,
            "type": "pie"
           }
          ],
          "scatter": [
           {
            "fillpattern": {
             "fillmode": "overlay",
             "size": 10,
             "solidity": 0.2
            },
            "type": "scatter"
           }
          ],
          "scatter3d": [
           {
            "line": {
             "colorbar": {
              "outlinewidth": 0,
              "ticks": ""
             }
            },
            "marker": {
             "colorbar": {
              "outlinewidth": 0,
              "ticks": ""
             }
            },
            "type": "scatter3d"
           }
          ],
          "scattercarpet": [
           {
            "marker": {
             "colorbar": {
              "outlinewidth": 0,
              "ticks": ""
             }
            },
            "type": "scattercarpet"
           }
          ],
          "scattergeo": [
           {
            "marker": {
             "colorbar": {
              "outlinewidth": 0,
              "ticks": ""
             }
            },
            "type": "scattergeo"
           }
          ],
          "scattergl": [
           {
            "marker": {
             "colorbar": {
              "outlinewidth": 0,
              "ticks": ""
             }
            },
            "type": "scattergl"
           }
          ],
          "scattermapbox": [
           {
            "marker": {
             "colorbar": {
              "outlinewidth": 0,
              "ticks": ""
             }
            },
            "type": "scattermapbox"
           }
          ],
          "scatterpolar": [
           {
            "marker": {
             "colorbar": {
              "outlinewidth": 0,
              "ticks": ""
             }
            },
            "type": "scatterpolar"
           }
          ],
          "scatterpolargl": [
           {
            "marker": {
             "colorbar": {
              "outlinewidth": 0,
              "ticks": ""
             }
            },
            "type": "scatterpolargl"
           }
          ],
          "scatterternary": [
           {
            "marker": {
             "colorbar": {
              "outlinewidth": 0,
              "ticks": ""
             }
            },
            "type": "scatterternary"
           }
          ],
          "surface": [
           {
            "colorbar": {
             "outlinewidth": 0,
             "ticks": ""
            },
            "colorscale": [
             [
              0,
              "#0d0887"
             ],
             [
              0.1111111111111111,
              "#46039f"
             ],
             [
              0.2222222222222222,
              "#7201a8"
             ],
             [
              0.3333333333333333,
              "#9c179e"
             ],
             [
              0.4444444444444444,
              "#bd3786"
             ],
             [
              0.5555555555555556,
              "#d8576b"
             ],
             [
              0.6666666666666666,
              "#ed7953"
             ],
             [
              0.7777777777777778,
              "#fb9f3a"
             ],
             [
              0.8888888888888888,
              "#fdca26"
             ],
             [
              1,
              "#f0f921"
             ]
            ],
            "type": "surface"
           }
          ],
          "table": [
           {
            "cells": {
             "fill": {
              "color": "#EBF0F8"
             },
             "line": {
              "color": "white"
             }
            },
            "header": {
             "fill": {
              "color": "#C8D4E3"
             },
             "line": {
              "color": "white"
             }
            },
            "type": "table"
           }
          ]
         },
         "layout": {
          "annotationdefaults": {
           "arrowcolor": "#2a3f5f",
           "arrowhead": 0,
           "arrowwidth": 1
          },
          "autotypenumbers": "strict",
          "coloraxis": {
           "colorbar": {
            "outlinewidth": 0,
            "ticks": ""
           }
          },
          "colorscale": {
           "diverging": [
            [
             0,
             "#8e0152"
            ],
            [
             0.1,
             "#c51b7d"
            ],
            [
             0.2,
             "#de77ae"
            ],
            [
             0.3,
             "#f1b6da"
            ],
            [
             0.4,
             "#fde0ef"
            ],
            [
             0.5,
             "#f7f7f7"
            ],
            [
             0.6,
             "#e6f5d0"
            ],
            [
             0.7,
             "#b8e186"
            ],
            [
             0.8,
             "#7fbc41"
            ],
            [
             0.9,
             "#4d9221"
            ],
            [
             1,
             "#276419"
            ]
           ],
           "sequential": [
            [
             0,
             "#0d0887"
            ],
            [
             0.1111111111111111,
             "#46039f"
            ],
            [
             0.2222222222222222,
             "#7201a8"
            ],
            [
             0.3333333333333333,
             "#9c179e"
            ],
            [
             0.4444444444444444,
             "#bd3786"
            ],
            [
             0.5555555555555556,
             "#d8576b"
            ],
            [
             0.6666666666666666,
             "#ed7953"
            ],
            [
             0.7777777777777778,
             "#fb9f3a"
            ],
            [
             0.8888888888888888,
             "#fdca26"
            ],
            [
             1,
             "#f0f921"
            ]
           ],
           "sequentialminus": [
            [
             0,
             "#0d0887"
            ],
            [
             0.1111111111111111,
             "#46039f"
            ],
            [
             0.2222222222222222,
             "#7201a8"
            ],
            [
             0.3333333333333333,
             "#9c179e"
            ],
            [
             0.4444444444444444,
             "#bd3786"
            ],
            [
             0.5555555555555556,
             "#d8576b"
            ],
            [
             0.6666666666666666,
             "#ed7953"
            ],
            [
             0.7777777777777778,
             "#fb9f3a"
            ],
            [
             0.8888888888888888,
             "#fdca26"
            ],
            [
             1,
             "#f0f921"
            ]
           ]
          },
          "colorway": [
           "#636efa",
           "#EF553B",
           "#00cc96",
           "#ab63fa",
           "#FFA15A",
           "#19d3f3",
           "#FF6692",
           "#B6E880",
           "#FF97FF",
           "#FECB52"
          ],
          "font": {
           "color": "#2a3f5f"
          },
          "geo": {
           "bgcolor": "white",
           "lakecolor": "white",
           "landcolor": "#E5ECF6",
           "showlakes": true,
           "showland": true,
           "subunitcolor": "white"
          },
          "hoverlabel": {
           "align": "left"
          },
          "hovermode": "closest",
          "mapbox": {
           "style": "light"
          },
          "paper_bgcolor": "white",
          "plot_bgcolor": "#E5ECF6",
          "polar": {
           "angularaxis": {
            "gridcolor": "white",
            "linecolor": "white",
            "ticks": ""
           },
           "bgcolor": "#E5ECF6",
           "radialaxis": {
            "gridcolor": "white",
            "linecolor": "white",
            "ticks": ""
           }
          },
          "scene": {
           "xaxis": {
            "backgroundcolor": "#E5ECF6",
            "gridcolor": "white",
            "gridwidth": 2,
            "linecolor": "white",
            "showbackground": true,
            "ticks": "",
            "zerolinecolor": "white"
           },
           "yaxis": {
            "backgroundcolor": "#E5ECF6",
            "gridcolor": "white",
            "gridwidth": 2,
            "linecolor": "white",
            "showbackground": true,
            "ticks": "",
            "zerolinecolor": "white"
           },
           "zaxis": {
            "backgroundcolor": "#E5ECF6",
            "gridcolor": "white",
            "gridwidth": 2,
            "linecolor": "white",
            "showbackground": true,
            "ticks": "",
            "zerolinecolor": "white"
           }
          },
          "shapedefaults": {
           "line": {
            "color": "#2a3f5f"
           }
          },
          "ternary": {
           "aaxis": {
            "gridcolor": "white",
            "linecolor": "white",
            "ticks": ""
           },
           "baxis": {
            "gridcolor": "white",
            "linecolor": "white",
            "ticks": ""
           },
           "bgcolor": "#E5ECF6",
           "caxis": {
            "gridcolor": "white",
            "linecolor": "white",
            "ticks": ""
           }
          },
          "title": {
           "x": 0.05
          },
          "xaxis": {
           "automargin": true,
           "gridcolor": "white",
           "linecolor": "white",
           "ticks": "",
           "title": {
            "standoff": 15
           },
           "zerolinecolor": "white",
           "zerolinewidth": 2
          },
          "yaxis": {
           "automargin": true,
           "gridcolor": "white",
           "linecolor": "white",
           "ticks": "",
           "title": {
            "standoff": 15
           },
           "zerolinecolor": "white",
           "zerolinewidth": 2
          }
         }
        },
        "width": 1000,
        "xaxis": {
         "tickfont": {
          "size": 16
         },
         "title": {
          "font": {
           "size": 18
          },
          "text": "Week"
         }
        },
        "yaxis": {
         "tickfont": {
          "size": 16
         },
         "title": {
          "font": {
           "size": 18
          },
          "text": "Receiving TDs"
         }
        }
       }
      },
      "text/html": [
       "<div>                            <div id=\"2d1c7e0d-54d5-47cb-888a-2a0f56ac3e4d\" class=\"plotly-graph-div\" style=\"height:1000px; width:1000px;\"></div>            <script type=\"text/javascript\">                require([\"plotly\"], function(Plotly) {                    window.PLOTLYENV=window.PLOTLYENV || {};                                    if (document.getElementById(\"2d1c7e0d-54d5-47cb-888a-2a0f56ac3e4d\")) {                    Plotly.newPlot(                        \"2d1c7e0d-54d5-47cb-888a-2a0f56ac3e4d\",                        [{\"hovertemplate\":\"<b>Adam Thielen</b><br>%{y} rec TDs through week %{x}<extra></extra>\",\"line\":{\"color\":\"#4F2683\"},\"mode\":\"markers+lines\",\"name\":\"Adam Thielen\",\"x\":[1,2,3,4,5,6,8,9,10,11,12,13,16],\"y\":[2.0,3.0,4.0,4.0,4.0,5.0,6.0,7.0,7.0,8.0,10.0,10.0,10.0],\"type\":\"scatter\"},{\"hovertemplate\":\"<b>Allen Lazard</b><br>%{y} rec TDs through week %{x}<extra></extra>\",\"line\":{\"color\":\"#203731\"},\"mode\":\"markers+lines\",\"name\":\"Allen Lazard\",\"x\":[1,3,4,5,6,7,9,10,12,14,15,16,17,18],\"y\":[0.0,0.0,0.0,0.0,1.0,2.0,3.0,3.0,3.0,4.0,4.0,5.0,6.0,8.0],\"type\":\"scatter\"},{\"hovertemplate\":\"<b>Amari Cooper</b><br>%{y} rec TDs through week %{x}<extra></extra>\",\"line\":{\"color\":\"#002244\"},\"mode\":\"markers+lines\",\"name\":\"Amari Cooper\",\"x\":[1,2,3,4,5,6,8,9,10,13,14,15,16,17,18],\"y\":[2.0,2.0,2.0,3.0,4.0,4.0,5.0,5.0,5.0,5.0,6.0,6.0,7.0,8.0,8.0],\"type\":\"scatter\"},{\"hovertemplate\":\"<b>Austin Ekeler</b><br>%{y} rec TDs through week %{x}<extra></extra>\",\"line\":{\"color\":\"#007BC7\"},\"mode\":\"markers+lines\",\"name\":\"Austin Ekeler\",\"x\":[2,3,4,5,6,8,9,10,11,12,13,14,15,17,18],\"y\":[0.0,1.0,2.0,3.0,3.0,3.0,3.0,4.0,6.0,8.0,8.0,8.0,8.0,8.0,9.0],\"type\":\"scatter\"},{\"hovertemplate\":\"<b>Cooper Kupp</b><br>%{y} rec TDs through week %{x}<extra></extra>\",\"line\":{\"color\":\"#003594\"},\"mode\":\"markers+lines\",\"name\":\"Cooper Kupp\",\"x\":[1,2,3,4,5,6,7,8,9,10,12,13,14,15,16,17,18],\"y\":[1.0,3.0,5.0,5.0,5.0,7.0,9.0,10.0,10.0,10.0,11.0,12.0,13.0,15.0,15.0,16.0,17.0],\"type\":\"scatter\"},{\"hovertemplate\":\"<b>DK Metcalf</b><br>%{y} rec TDs through week %{x}<extra></extra>\",\"line\":{\"color\":\"#002244\"},\"mode\":\"markers+lines\",\"name\":\"DK Metcalf\",\"x\":[1,2,3,4,5,6,7,8,10,11,12,13,14,15,16,17,18],\"y\":[1.0,1.0,2.0,3.0,5.0,5.0,6.0,8.0,8.0,8.0,8.0,8.0,8.0,8.0,9.0,12.0,12.0],\"type\":\"scatter\"},{\"hovertemplate\":\"<b>Dalton Schultz</b><br>%{y} rec TDs through week %{x}<extra></extra>\",\"line\":{\"color\":\"#002244\"},\"mode\":\"markers+lines\",\"name\":\"Dalton Schultz\",\"x\":[1,2,3,4,5,6,8,9,10,11,12,13,14,15,16,17,18],\"y\":[0.0,0.0,2.0,3.0,3.0,3.0,3.0,3.0,3.0,3.0,4.0,4.0,5.0,6.0,7.0,7.0,9.0],\"type\":\"scatter\"},{\"hovertemplate\":\"<b>Davante Adams</b><br>%{y} rec TDs through week %{x}<extra></extra>\",\"line\":{\"color\":\"#203731\"},\"mode\":\"markers+lines\",\"name\":\"Davante Adams\",\"x\":[1,2,3,4,5,6,7,9,10,11,12,14,15,16,17,18],\"y\":[0.0,0.0,1.0,1.0,2.0,2.0,3.0,3.0,3.0,5.0,5.0,7.0,8.0,10.0,11.0,11.0],\"type\":\"scatter\"},{\"hovertemplate\":\"<b>Dawson Knox</b><br>%{y} rec TDs through week %{x}<extra></extra>\",\"line\":{\"color\":\"#00338D\"},\"mode\":\"markers+lines\",\"name\":\"Dawson Knox\",\"x\":[1,2,3,4,5,6,10,11,12,13,14,15,16,17,18],\"y\":[0.0,1.0,2.0,4.0,5.0,5.0,5.0,5.0,7.0,7.0,8.0,8.0,9.0,9.0,9.0],\"type\":\"scatter\"},{\"hovertemplate\":\"<b>DeAndre Hopkins</b><br>%{y} rec TDs through week %{x}<extra></extra>\",\"line\":{\"color\":\"#97233F\"},\"mode\":\"markers+lines\",\"name\":\"DeAndre Hopkins\",\"x\":[1,2,3,4,5,6,7,8,13,14],\"y\":[2.0,3.0,3.0,3.0,4.0,6.0,7.0,7.0,8.0,8.0],\"type\":\"scatter\"},{\"hovertemplate\":\"<b>Diontae Johnson</b><br>%{y} rec TDs through week %{x}<extra></extra>\",\"line\":{\"color\":\"#000000\"},\"mode\":\"markers+lines\",\"name\":\"Diontae Johnson\",\"x\":[1,2,4,5,6,8,9,10,11,12,13,14,15,16,17,18],\"y\":[1.0,1.0,2.0,3.0,3.0,3.0,3.0,3.0,4.0,4.0,6.0,6.0,6.0,7.0,8.0,8.0],\"type\":\"scatter\"},{\"hovertemplate\":\"<b>Hunter Henry</b><br>%{y} rec TDs through week %{x}<extra></extra>\",\"line\":{\"color\":\"#002244\"},\"mode\":\"markers+lines\",\"name\":\"Hunter Henry\",\"x\":[1,2,3,4,5,6,7,8,9,10,11,12,15,16,17,18],\"y\":[0.0,0.0,0.0,1.0,2.0,3.0,4.0,4.0,5.0,7.0,7.0,7.0,9.0,9.0,9.0,9.0],\"type\":\"scatter\"},{\"hovertemplate\":\"<b>Hunter Renfrow</b><br>%{y} rec TDs through week %{x}<extra></extra>\",\"line\":{\"color\":\"#000000\"},\"mode\":\"markers+lines\",\"name\":\"Hunter Renfrow\",\"x\":[1,2,3,4,5,6,7,9,10,11,12,13,14,15,16,17,18],\"y\":[0.0,0.0,1.0,2.0,2.0,2.0,2.0,4.0,5.0,5.0,5.0,5.0,6.0,6.0,7.0,8.0,10.0],\"type\":\"scatter\"},{\"hovertemplate\":\"<b>Ja'Marr Chase</b><br>%{y} rec TDs through week %{x}<extra></extra>\",\"line\":{\"color\":\"#FB4F14\"},\"mode\":\"markers+lines\",\"name\":\"Ja'Marr Chase\",\"x\":[1,2,3,4,5,6,7,8,9,11,12,13,14,15,16,17,18],\"y\":[1.0,2.0,4.0,4.0,5.0,5.0,6.0,7.0,8.0,9.0,9.0,9.0,11.0,11.0,11.0,14.0,14.0],\"type\":\"scatter\"},{\"hovertemplate\":\"<b>Justin Jefferson</b><br>%{y} rec TDs through week %{x}<extra></extra>\",\"line\":{\"color\":\"#4F2683\"},\"mode\":\"markers+lines\",\"name\":\"Justin Jefferson\",\"x\":[1,2,3,4,5,6,8,9,10,11,12,13,14,15,16,17,18],\"y\":[0.0,1.0,2.0,3.0,3.0,3.0,3.0,4.0,4.0,6.0,6.0,7.0,8.0,9.0,9.0,9.0,10.0],\"type\":\"scatter\"},{\"hovertemplate\":\"<b>K.J. Osborn</b><br>%{y} rec TDs through week %{x}<extra></extra>\",\"line\":{\"color\":\"#4F2683\"},\"mode\":\"markers+lines\",\"name\":\"K.J. Osborn\",\"x\":[1,2,3,4,5,6,8,9,10,11,12,13,14,15,16,17,18],\"y\":[0.0,1.0,1.0,1.0,1.0,2.0,2.0,2.0,2.0,2.0,2.0,3.0,4.0,4.0,5.0,6.0,7.0],\"type\":\"scatter\"},{\"hovertemplate\":\"<b>Mark Andrews</b><br>%{y} rec TDs through week %{x}<extra></extra>\",\"line\":{\"color\":\"#241773\"},\"mode\":\"markers+lines\",\"name\":\"Mark Andrews\",\"x\":[1,2,3,4,5,6,7,9,10,11,12,13,14,15,16,17,18],\"y\":[0.0,0.0,0.0,0.0,2.0,3.0,3.0,3.0,4.0,4.0,5.0,5.0,6.0,8.0,9.0,9.0,9.0],\"type\":\"scatter\"},{\"hovertemplate\":\"<b>Mike Evans</b><br>%{y} rec TDs through week %{x}<extra></extra>\",\"line\":{\"color\":\"#A71930\"},\"mode\":\"markers+lines\",\"name\":\"Mike Evans\",\"x\":[1,2,3,4,5,6,7,8,10,11,12,13,14,15,17,18],\"y\":[0.0,2.0,2.0,2.0,4.0,4.0,7.0,8.0,9.0,10.0,10.0,10.0,11.0,11.0,12.0,14.0],\"type\":\"scatter\"},{\"hovertemplate\":\"<b>Mike Williams</b><br>%{y} rec TDs through week %{x}<extra></extra>\",\"line\":{\"color\":\"#007BC7\"},\"mode\":\"markers+lines\",\"name\":\"Mike Williams\",\"x\":[1,2,3,4,5,6,8,9,10,11,12,13,14,15,17,18],\"y\":[1.0,2.0,4.0,4.0,6.0,6.0,6.0,6.0,6.0,7.0,7.0,7.0,7.0,7.0,8.0,9.0],\"type\":\"scatter\"},{\"hovertemplate\":\"<b>Pat Freiermuth</b><br>%{y} rec TDs through week %{x}<extra></extra>\",\"line\":{\"color\":\"#000000\"},\"mode\":\"markers+lines\",\"name\":\"Pat Freiermuth\",\"x\":[1,2,3,4,5,6,8,9,10,11,12,13,14,15,17,18],\"y\":[0.0,0.0,1.0,1.0,1.0,1.0,2.0,4.0,4.0,5.0,6.0,6.0,7.0,7.0,7.0,7.0],\"type\":\"scatter\"},{\"hovertemplate\":\"<b>Stefon Diggs</b><br>%{y} rec TDs through week %{x}<extra></extra>\",\"line\":{\"color\":\"#00338D\"},\"mode\":\"markers+lines\",\"name\":\"Stefon Diggs\",\"x\":[1,2,3,4,5,6,8,9,10,11,12,13,14,15,16,17,18],\"y\":[0.0,1.0,1.0,1.0,1.0,2.0,3.0,3.0,4.0,6.0,7.0,7.0,7.0,8.0,9.0,9.0,10.0],\"type\":\"scatter\"},{\"hovertemplate\":\"<b>Travis Kelce</b><br>%{y} rec TDs through week %{x}<extra></extra>\",\"line\":{\"color\":\"#E31837\"},\"mode\":\"markers+lines\",\"name\":\"Travis Kelce\",\"x\":[1,2,3,4,5,6,7,8,9,10,11,13,14,15,17,18],\"y\":[2.0,3.0,3.0,3.0,4.0,4.0,4.0,4.0,5.0,5.0,5.0,5.0,5.0,7.0,8.0,9.0],\"type\":\"scatter\"},{\"hovertemplate\":\"<b>Tyler Higbee</b><br>%{y} rec TDs through week %{x}<extra></extra>\",\"line\":{\"color\":\"#003594\"},\"mode\":\"markers+lines\",\"name\":\"Tyler Higbee\",\"x\":[1,2,3,4,5,6,7,8,9,10,12,13,16,17,18],\"y\":[0.0,0.0,1.0,1.0,2.0,2.0,2.0,2.0,2.0,4.0,4.0,4.0,4.0,5.0,7.0],\"type\":\"scatter\"},{\"hovertemplate\":\"<b>Tyler Lockett</b><br>%{y} rec TDs through week %{x}<extra></extra>\",\"line\":{\"color\":\"#002244\"},\"mode\":\"markers+lines\",\"name\":\"Tyler Lockett\",\"x\":[1,2,3,4,5,6,7,8,10,11,12,13,14,16,17,18],\"y\":[2.0,3.0,3.0,3.0,3.0,3.0,3.0,3.0,3.0,3.0,3.0,4.0,5.0,5.0,6.0,8.0],\"type\":\"scatter\"},{\"hovertemplate\":\"<b>Tyreek Hill</b><br>%{y} rec TDs through week %{x}<extra></extra>\",\"line\":{\"color\":\"#E31837\"},\"mode\":\"markers+lines\",\"name\":\"Tyreek Hill\",\"x\":[1,2,3,4,5,6,7,8,9,10,11,13,14,15,16,17,18],\"y\":[1.0,1.0,1.0,4.0,5.0,6.0,6.0,7.0,7.0,9.0,9.0,9.0,9.0,10.0,10.0,10.0,10.0],\"type\":\"scatter\"}],                        {\"template\":{\"data\":{\"histogram2dcontour\":[{\"type\":\"histogram2dcontour\",\"colorbar\":{\"outlinewidth\":0,\"ticks\":\"\"},\"colorscale\":[[0.0,\"#0d0887\"],[0.1111111111111111,\"#46039f\"],[0.2222222222222222,\"#7201a8\"],[0.3333333333333333,\"#9c179e\"],[0.4444444444444444,\"#bd3786\"],[0.5555555555555556,\"#d8576b\"],[0.6666666666666666,\"#ed7953\"],[0.7777777777777778,\"#fb9f3a\"],[0.8888888888888888,\"#fdca26\"],[1.0,\"#f0f921\"]]}],\"choropleth\":[{\"type\":\"choropleth\",\"colorbar\":{\"outlinewidth\":0,\"ticks\":\"\"}}],\"histogram2d\":[{\"type\":\"histogram2d\",\"colorbar\":{\"outlinewidth\":0,\"ticks\":\"\"},\"colorscale\":[[0.0,\"#0d0887\"],[0.1111111111111111,\"#46039f\"],[0.2222222222222222,\"#7201a8\"],[0.3333333333333333,\"#9c179e\"],[0.4444444444444444,\"#bd3786\"],[0.5555555555555556,\"#d8576b\"],[0.6666666666666666,\"#ed7953\"],[0.7777777777777778,\"#fb9f3a\"],[0.8888888888888888,\"#fdca26\"],[1.0,\"#f0f921\"]]}],\"heatmap\":[{\"type\":\"heatmap\",\"colorbar\":{\"outlinewidth\":0,\"ticks\":\"\"},\"colorscale\":[[0.0,\"#0d0887\"],[0.1111111111111111,\"#46039f\"],[0.2222222222222222,\"#7201a8\"],[0.3333333333333333,\"#9c179e\"],[0.4444444444444444,\"#bd3786\"],[0.5555555555555556,\"#d8576b\"],[0.6666666666666666,\"#ed7953\"],[0.7777777777777778,\"#fb9f3a\"],[0.8888888888888888,\"#fdca26\"],[1.0,\"#f0f921\"]]}],\"heatmapgl\":[{\"type\":\"heatmapgl\",\"colorbar\":{\"outlinewidth\":0,\"ticks\":\"\"},\"colorscale\":[[0.0,\"#0d0887\"],[0.1111111111111111,\"#46039f\"],[0.2222222222222222,\"#7201a8\"],[0.3333333333333333,\"#9c179e\"],[0.4444444444444444,\"#bd3786\"],[0.5555555555555556,\"#d8576b\"],[0.6666666666666666,\"#ed7953\"],[0.7777777777777778,\"#fb9f3a\"],[0.8888888888888888,\"#fdca26\"],[1.0,\"#f0f921\"]]}],\"contourcarpet\":[{\"type\":\"contourcarpet\",\"colorbar\":{\"outlinewidth\":0,\"ticks\":\"\"}}],\"contour\":[{\"type\":\"contour\",\"colorbar\":{\"outlinewidth\":0,\"ticks\":\"\"},\"colorscale\":[[0.0,\"#0d0887\"],[0.1111111111111111,\"#46039f\"],[0.2222222222222222,\"#7201a8\"],[0.3333333333333333,\"#9c179e\"],[0.4444444444444444,\"#bd3786\"],[0.5555555555555556,\"#d8576b\"],[0.6666666666666666,\"#ed7953\"],[0.7777777777777778,\"#fb9f3a\"],[0.8888888888888888,\"#fdca26\"],[1.0,\"#f0f921\"]]}],\"surface\":[{\"type\":\"surface\",\"colorbar\":{\"outlinewidth\":0,\"ticks\":\"\"},\"colorscale\":[[0.0,\"#0d0887\"],[0.1111111111111111,\"#46039f\"],[0.2222222222222222,\"#7201a8\"],[0.3333333333333333,\"#9c179e\"],[0.4444444444444444,\"#bd3786\"],[0.5555555555555556,\"#d8576b\"],[0.6666666666666666,\"#ed7953\"],[0.7777777777777778,\"#fb9f3a\"],[0.8888888888888888,\"#fdca26\"],[1.0,\"#f0f921\"]]}],\"mesh3d\":[{\"type\":\"mesh3d\",\"colorbar\":{\"outlinewidth\":0,\"ticks\":\"\"}}],\"scatter\":[{\"fillpattern\":{\"fillmode\":\"overlay\",\"size\":10,\"solidity\":0.2},\"type\":\"scatter\"}],\"parcoords\":[{\"type\":\"parcoords\",\"line\":{\"colorbar\":{\"outlinewidth\":0,\"ticks\":\"\"}}}],\"scatterpolargl\":[{\"type\":\"scatterpolargl\",\"marker\":{\"colorbar\":{\"outlinewidth\":0,\"ticks\":\"\"}}}],\"bar\":[{\"error_x\":{\"color\":\"#2a3f5f\"},\"error_y\":{\"color\":\"#2a3f5f\"},\"marker\":{\"line\":{\"color\":\"#E5ECF6\",\"width\":0.5},\"pattern\":{\"fillmode\":\"overlay\",\"size\":10,\"solidity\":0.2}},\"type\":\"bar\"}],\"scattergeo\":[{\"type\":\"scattergeo\",\"marker\":{\"colorbar\":{\"outlinewidth\":0,\"ticks\":\"\"}}}],\"scatterpolar\":[{\"type\":\"scatterpolar\",\"marker\":{\"colorbar\":{\"outlinewidth\":0,\"ticks\":\"\"}}}],\"histogram\":[{\"marker\":{\"pattern\":{\"fillmode\":\"overlay\",\"size\":10,\"solidity\":0.2}},\"type\":\"histogram\"}],\"scattergl\":[{\"type\":\"scattergl\",\"marker\":{\"colorbar\":{\"outlinewidth\":0,\"ticks\":\"\"}}}],\"scatter3d\":[{\"type\":\"scatter3d\",\"line\":{\"colorbar\":{\"outlinewidth\":0,\"ticks\":\"\"}},\"marker\":{\"colorbar\":{\"outlinewidth\":0,\"ticks\":\"\"}}}],\"scattermapbox\":[{\"type\":\"scattermapbox\",\"marker\":{\"colorbar\":{\"outlinewidth\":0,\"ticks\":\"\"}}}],\"scatterternary\":[{\"type\":\"scatterternary\",\"marker\":{\"colorbar\":{\"outlinewidth\":0,\"ticks\":\"\"}}}],\"scattercarpet\":[{\"type\":\"scattercarpet\",\"marker\":{\"colorbar\":{\"outlinewidth\":0,\"ticks\":\"\"}}}],\"carpet\":[{\"aaxis\":{\"endlinecolor\":\"#2a3f5f\",\"gridcolor\":\"white\",\"linecolor\":\"white\",\"minorgridcolor\":\"white\",\"startlinecolor\":\"#2a3f5f\"},\"baxis\":{\"endlinecolor\":\"#2a3f5f\",\"gridcolor\":\"white\",\"linecolor\":\"white\",\"minorgridcolor\":\"white\",\"startlinecolor\":\"#2a3f5f\"},\"type\":\"carpet\"}],\"table\":[{\"cells\":{\"fill\":{\"color\":\"#EBF0F8\"},\"line\":{\"color\":\"white\"}},\"header\":{\"fill\":{\"color\":\"#C8D4E3\"},\"line\":{\"color\":\"white\"}},\"type\":\"table\"}],\"barpolar\":[{\"marker\":{\"line\":{\"color\":\"#E5ECF6\",\"width\":0.5},\"pattern\":{\"fillmode\":\"overlay\",\"size\":10,\"solidity\":0.2}},\"type\":\"barpolar\"}],\"pie\":[{\"automargin\":true,\"type\":\"pie\"}]},\"layout\":{\"autotypenumbers\":\"strict\",\"colorway\":[\"#636efa\",\"#EF553B\",\"#00cc96\",\"#ab63fa\",\"#FFA15A\",\"#19d3f3\",\"#FF6692\",\"#B6E880\",\"#FF97FF\",\"#FECB52\"],\"font\":{\"color\":\"#2a3f5f\"},\"hovermode\":\"closest\",\"hoverlabel\":{\"align\":\"left\"},\"paper_bgcolor\":\"white\",\"plot_bgcolor\":\"#E5ECF6\",\"polar\":{\"bgcolor\":\"#E5ECF6\",\"angularaxis\":{\"gridcolor\":\"white\",\"linecolor\":\"white\",\"ticks\":\"\"},\"radialaxis\":{\"gridcolor\":\"white\",\"linecolor\":\"white\",\"ticks\":\"\"}},\"ternary\":{\"bgcolor\":\"#E5ECF6\",\"aaxis\":{\"gridcolor\":\"white\",\"linecolor\":\"white\",\"ticks\":\"\"},\"baxis\":{\"gridcolor\":\"white\",\"linecolor\":\"white\",\"ticks\":\"\"},\"caxis\":{\"gridcolor\":\"white\",\"linecolor\":\"white\",\"ticks\":\"\"}},\"coloraxis\":{\"colorbar\":{\"outlinewidth\":0,\"ticks\":\"\"}},\"colorscale\":{\"sequential\":[[0.0,\"#0d0887\"],[0.1111111111111111,\"#46039f\"],[0.2222222222222222,\"#7201a8\"],[0.3333333333333333,\"#9c179e\"],[0.4444444444444444,\"#bd3786\"],[0.5555555555555556,\"#d8576b\"],[0.6666666666666666,\"#ed7953\"],[0.7777777777777778,\"#fb9f3a\"],[0.8888888888888888,\"#fdca26\"],[1.0,\"#f0f921\"]],\"sequentialminus\":[[0.0,\"#0d0887\"],[0.1111111111111111,\"#46039f\"],[0.2222222222222222,\"#7201a8\"],[0.3333333333333333,\"#9c179e\"],[0.4444444444444444,\"#bd3786\"],[0.5555555555555556,\"#d8576b\"],[0.6666666666666666,\"#ed7953\"],[0.7777777777777778,\"#fb9f3a\"],[0.8888888888888888,\"#fdca26\"],[1.0,\"#f0f921\"]],\"diverging\":[[0,\"#8e0152\"],[0.1,\"#c51b7d\"],[0.2,\"#de77ae\"],[0.3,\"#f1b6da\"],[0.4,\"#fde0ef\"],[0.5,\"#f7f7f7\"],[0.6,\"#e6f5d0\"],[0.7,\"#b8e186\"],[0.8,\"#7fbc41\"],[0.9,\"#4d9221\"],[1,\"#276419\"]]},\"xaxis\":{\"gridcolor\":\"white\",\"linecolor\":\"white\",\"ticks\":\"\",\"title\":{\"standoff\":15},\"zerolinecolor\":\"white\",\"automargin\":true,\"zerolinewidth\":2},\"yaxis\":{\"gridcolor\":\"white\",\"linecolor\":\"white\",\"ticks\":\"\",\"title\":{\"standoff\":15},\"zerolinecolor\":\"white\",\"automargin\":true,\"zerolinewidth\":2},\"scene\":{\"xaxis\":{\"backgroundcolor\":\"#E5ECF6\",\"gridcolor\":\"white\",\"linecolor\":\"white\",\"showbackground\":true,\"ticks\":\"\",\"zerolinecolor\":\"white\",\"gridwidth\":2},\"yaxis\":{\"backgroundcolor\":\"#E5ECF6\",\"gridcolor\":\"white\",\"linecolor\":\"white\",\"showbackground\":true,\"ticks\":\"\",\"zerolinecolor\":\"white\",\"gridwidth\":2},\"zaxis\":{\"backgroundcolor\":\"#E5ECF6\",\"gridcolor\":\"white\",\"linecolor\":\"white\",\"showbackground\":true,\"ticks\":\"\",\"zerolinecolor\":\"white\",\"gridwidth\":2}},\"shapedefaults\":{\"line\":{\"color\":\"#2a3f5f\"}},\"annotationdefaults\":{\"arrowcolor\":\"#2a3f5f\",\"arrowhead\":0,\"arrowwidth\":1},\"geo\":{\"bgcolor\":\"white\",\"landcolor\":\"#E5ECF6\",\"subunitcolor\":\"white\",\"showland\":true,\"showlakes\":true,\"lakecolor\":\"white\"},\"title\":{\"x\":0.05},\"mapbox\":{\"style\":\"light\"}}},\"font\":{\"family\":\"Averta, sans-serif\"},\"hoverlabel\":{\"font\":{\"family\":\"Averta, sans-serif\",\"size\":16}},\"xaxis\":{\"title\":{\"font\":{\"size\":18},\"text\":\"Week\"},\"tickfont\":{\"size\":16}},\"yaxis\":{\"title\":{\"font\":{\"size\":18},\"text\":\"Receiving TDs\"},\"tickfont\":{\"size\":16}},\"legend\":{\"font\":{\"size\":16}},\"height\":1000,\"width\":1000},                        {\"responsive\": true}                    ).then(function(){\n",
       "                            \n",
       "var gd = document.getElementById('2d1c7e0d-54d5-47cb-888a-2a0f56ac3e4d');\n",
       "var x = new MutationObserver(function (mutations, observer) {{\n",
       "        var display = window.getComputedStyle(gd).display;\n",
       "        if (!display || display === 'none') {{\n",
       "            console.log([gd, 'removed!']);\n",
       "            Plotly.purge(gd);\n",
       "            observer.disconnect();\n",
       "        }}\n",
       "}});\n",
       "\n",
       "// Listen for the removal of the full notebook cells\n",
       "var notebookContainer = gd.closest('#notebook-container');\n",
       "if (notebookContainer) {{\n",
       "    x.observe(notebookContainer, {childList: true});\n",
       "}}\n",
       "\n",
       "// Listen for the clearing of the current output cell\n",
       "var outputEl = gd.closest('.output');\n",
       "if (outputEl) {{\n",
       "    x.observe(outputEl, {childList: true});\n",
       "}}\n",
       "\n",
       "                        })                };                });            </script>        </div>"
      ]
     },
     "metadata": {},
     "output_type": "display_data"
    }
   ],
   "source": [
    "fig = go.Figure()\n",
    "for name, values in df_agg.groupby(\"player_name\"):\n",
    "    if values[\"touchdown\"].sum() > 6:\n",
    "        fig.add_trace(\n",
    "            go.Scatter(\n",
    "                x=values[\"week\"], \n",
    "                y=values[\"touchdown\"].cumsum(), \n",
    "                name=name, \n",
    "                mode=\"markers+lines\", \n",
    "                line_color=values.iloc[0].team_color,\n",
    "                hovertemplate=f\"<b>{name}</b><br>%{{y}} rec TDs through week %{{x}}<extra></extra>\"\n",
    "            )\n",
    "        )\n",
    "    \n",
    "fig.update_layout(\n",
    "    font_family=\"Averta, sans-serif\",\n",
    "    hoverlabel_font_family=\"Averta, sans-serif\",\n",
    "    xaxis_title_text=\"Week\",\n",
    "    xaxis_title_font_size=18,\n",
    "    xaxis_tickfont_size=16,\n",
    "    yaxis_title_text=\"Receiving TDs\",\n",
    "    yaxis_title_font_size=18,\n",
    "    yaxis_tickfont_size=16,\n",
    "    hoverlabel_font_size=16,\n",
    "    legend_font_size=16,\n",
    "    height=1000,\n",
    "    width=1000\n",
    ")\n",
    "    \n",
    "fig.show()"
   ]
  },
  {
   "cell_type": "code",
   "execution_count": null,
   "id": "bba88db2",
   "metadata": {},
   "outputs": [],
   "source": []
  }
 ],
 "metadata": {
  "kernelspec": {
   "display_name": "PythonData",
   "language": "python",
   "name": "pythondata"
  },
  "language_info": {
   "codemirror_mode": {
    "name": "ipython",
    "version": 3
   },
   "file_extension": ".py",
   "mimetype": "text/x-python",
   "name": "python",
   "nbconvert_exporter": "python",
   "pygments_lexer": "ipython3",
   "version": "3.7.11"
  }
 },
 "nbformat": 4,
 "nbformat_minor": 5
}
