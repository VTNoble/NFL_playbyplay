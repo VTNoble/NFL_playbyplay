{
 "cells": [
  {
   "cell_type": "markdown",
   "id": "c895f6da",
   "metadata": {},
   "source": [
    "# NFL Play-by-Play Data Analysis\n",
    "\n",
    "### Assist from https://towardsdatascience.com/analyzing-and-plotting-nfl-data-with-nflfastpy-and-plotly-a170a09cad6"
   ]
  },
  {
   "cell_type": "code",
   "execution_count": 1,
   "id": "5f3fbfdb",
   "metadata": {},
   "outputs": [],
   "source": [
    "import nfl_data_py as nfl\n",
    "import pandas as pd\n",
    "import plotly.graph_objects as go"
   ]
  },
  {
   "cell_type": "code",
   "execution_count": 2,
   "id": "f0ce8fe0",
   "metadata": {},
   "outputs": [
    {
     "name": "stdout",
     "output_type": "stream",
     "text": [
      "2021 done.\n",
      "Downcasting floats.\n"
     ]
    }
   ],
   "source": [
    "df_2021 = nfl.import_pbp_data([2021])"
   ]
  },
  {
   "cell_type": "code",
   "execution_count": 3,
   "id": "418fec51",
   "metadata": {},
   "outputs": [],
   "source": [
    "cols = list(nfl.see_pbp_cols())"
   ]
  },
  {
   "cell_type": "code",
   "execution_count": 4,
   "id": "6c58f9b8",
   "metadata": {},
   "outputs": [
    {
     "data": {
      "text/plain": [
       "['play_id',\n",
       " 'game_id',\n",
       " 'old_game_id',\n",
       " 'home_team',\n",
       " 'away_team',\n",
       " 'season_type',\n",
       " 'week',\n",
       " 'posteam',\n",
       " 'posteam_type',\n",
       " 'defteam',\n",
       " 'side_of_field',\n",
       " 'yardline_100',\n",
       " 'game_date',\n",
       " 'quarter_seconds_remaining',\n",
       " 'half_seconds_remaining',\n",
       " 'game_seconds_remaining',\n",
       " 'game_half',\n",
       " 'quarter_end',\n",
       " 'drive',\n",
       " 'sp',\n",
       " 'qtr',\n",
       " 'down',\n",
       " 'goal_to_go',\n",
       " 'time',\n",
       " 'yrdln',\n",
       " 'ydstogo',\n",
       " 'ydsnet',\n",
       " 'desc',\n",
       " 'play_type',\n",
       " 'yards_gained',\n",
       " 'shotgun',\n",
       " 'no_huddle',\n",
       " 'qb_dropback',\n",
       " 'qb_kneel',\n",
       " 'qb_spike',\n",
       " 'qb_scramble',\n",
       " 'pass_length',\n",
       " 'pass_location',\n",
       " 'air_yards',\n",
       " 'yards_after_catch',\n",
       " 'run_location',\n",
       " 'run_gap',\n",
       " 'field_goal_result',\n",
       " 'kick_distance',\n",
       " 'extra_point_result',\n",
       " 'two_point_conv_result',\n",
       " 'home_timeouts_remaining',\n",
       " 'away_timeouts_remaining',\n",
       " 'timeout',\n",
       " 'timeout_team',\n",
       " 'td_team',\n",
       " 'td_player_name',\n",
       " 'td_player_id',\n",
       " 'posteam_timeouts_remaining',\n",
       " 'defteam_timeouts_remaining',\n",
       " 'total_home_score',\n",
       " 'total_away_score',\n",
       " 'posteam_score',\n",
       " 'defteam_score',\n",
       " 'score_differential',\n",
       " 'posteam_score_post',\n",
       " 'defteam_score_post',\n",
       " 'score_differential_post',\n",
       " 'no_score_prob',\n",
       " 'opp_fg_prob',\n",
       " 'opp_safety_prob',\n",
       " 'opp_td_prob',\n",
       " 'fg_prob',\n",
       " 'safety_prob',\n",
       " 'td_prob',\n",
       " 'extra_point_prob',\n",
       " 'two_point_conversion_prob',\n",
       " 'ep',\n",
       " 'epa',\n",
       " 'total_home_epa',\n",
       " 'total_away_epa',\n",
       " 'total_home_rush_epa',\n",
       " 'total_away_rush_epa',\n",
       " 'total_home_pass_epa',\n",
       " 'total_away_pass_epa',\n",
       " 'air_epa',\n",
       " 'yac_epa',\n",
       " 'comp_air_epa',\n",
       " 'comp_yac_epa',\n",
       " 'total_home_comp_air_epa',\n",
       " 'total_away_comp_air_epa',\n",
       " 'total_home_comp_yac_epa',\n",
       " 'total_away_comp_yac_epa',\n",
       " 'total_home_raw_air_epa',\n",
       " 'total_away_raw_air_epa',\n",
       " 'total_home_raw_yac_epa',\n",
       " 'total_away_raw_yac_epa',\n",
       " 'wp',\n",
       " 'def_wp',\n",
       " 'home_wp',\n",
       " 'away_wp',\n",
       " 'wpa',\n",
       " 'vegas_wpa',\n",
       " 'vegas_home_wpa',\n",
       " 'home_wp_post',\n",
       " 'away_wp_post',\n",
       " 'vegas_wp',\n",
       " 'vegas_home_wp',\n",
       " 'total_home_rush_wpa',\n",
       " 'total_away_rush_wpa',\n",
       " 'total_home_pass_wpa',\n",
       " 'total_away_pass_wpa',\n",
       " 'air_wpa',\n",
       " 'yac_wpa',\n",
       " 'comp_air_wpa',\n",
       " 'comp_yac_wpa',\n",
       " 'total_home_comp_air_wpa',\n",
       " 'total_away_comp_air_wpa',\n",
       " 'total_home_comp_yac_wpa',\n",
       " 'total_away_comp_yac_wpa',\n",
       " 'total_home_raw_air_wpa',\n",
       " 'total_away_raw_air_wpa',\n",
       " 'total_home_raw_yac_wpa',\n",
       " 'total_away_raw_yac_wpa',\n",
       " 'punt_blocked',\n",
       " 'first_down_rush',\n",
       " 'first_down_pass',\n",
       " 'first_down_penalty',\n",
       " 'third_down_converted',\n",
       " 'third_down_failed',\n",
       " 'fourth_down_converted',\n",
       " 'fourth_down_failed',\n",
       " 'incomplete_pass',\n",
       " 'touchback',\n",
       " 'interception',\n",
       " 'punt_inside_twenty',\n",
       " 'punt_in_endzone',\n",
       " 'punt_out_of_bounds',\n",
       " 'punt_downed',\n",
       " 'punt_fair_catch',\n",
       " 'kickoff_inside_twenty',\n",
       " 'kickoff_in_endzone',\n",
       " 'kickoff_out_of_bounds',\n",
       " 'kickoff_downed',\n",
       " 'kickoff_fair_catch',\n",
       " 'fumble_forced',\n",
       " 'fumble_not_forced',\n",
       " 'fumble_out_of_bounds',\n",
       " 'solo_tackle',\n",
       " 'safety',\n",
       " 'penalty',\n",
       " 'tackled_for_loss',\n",
       " 'fumble_lost',\n",
       " 'own_kickoff_recovery',\n",
       " 'own_kickoff_recovery_td',\n",
       " 'qb_hit',\n",
       " 'rush_attempt',\n",
       " 'pass_attempt',\n",
       " 'sack',\n",
       " 'touchdown',\n",
       " 'pass_touchdown',\n",
       " 'rush_touchdown',\n",
       " 'return_touchdown',\n",
       " 'extra_point_attempt',\n",
       " 'two_point_attempt',\n",
       " 'field_goal_attempt',\n",
       " 'kickoff_attempt',\n",
       " 'punt_attempt',\n",
       " 'fumble',\n",
       " 'complete_pass',\n",
       " 'assist_tackle',\n",
       " 'lateral_reception',\n",
       " 'lateral_rush',\n",
       " 'lateral_return',\n",
       " 'lateral_recovery',\n",
       " 'passer_player_id',\n",
       " 'passer_player_name',\n",
       " 'passing_yards',\n",
       " 'receiver_player_id',\n",
       " 'receiver_player_name',\n",
       " 'receiving_yards',\n",
       " 'rusher_player_id',\n",
       " 'rusher_player_name',\n",
       " 'rushing_yards',\n",
       " 'lateral_receiver_player_id',\n",
       " 'lateral_receiver_player_name',\n",
       " 'lateral_receiving_yards',\n",
       " 'lateral_rusher_player_id',\n",
       " 'lateral_rusher_player_name',\n",
       " 'lateral_rushing_yards',\n",
       " 'lateral_sack_player_id',\n",
       " 'lateral_sack_player_name',\n",
       " 'interception_player_id',\n",
       " 'interception_player_name',\n",
       " 'lateral_interception_player_id',\n",
       " 'lateral_interception_player_name',\n",
       " 'punt_returner_player_id',\n",
       " 'punt_returner_player_name',\n",
       " 'lateral_punt_returner_player_id',\n",
       " 'lateral_punt_returner_player_name',\n",
       " 'kickoff_returner_player_name',\n",
       " 'kickoff_returner_player_id',\n",
       " 'lateral_kickoff_returner_player_id',\n",
       " 'lateral_kickoff_returner_player_name',\n",
       " 'punter_player_id',\n",
       " 'punter_player_name',\n",
       " 'kicker_player_name',\n",
       " 'kicker_player_id',\n",
       " 'own_kickoff_recovery_player_id',\n",
       " 'own_kickoff_recovery_player_name',\n",
       " 'blocked_player_id',\n",
       " 'blocked_player_name',\n",
       " 'tackle_for_loss_1_player_id',\n",
       " 'tackle_for_loss_1_player_name',\n",
       " 'tackle_for_loss_2_player_id',\n",
       " 'tackle_for_loss_2_player_name',\n",
       " 'qb_hit_1_player_id',\n",
       " 'qb_hit_1_player_name',\n",
       " 'qb_hit_2_player_id',\n",
       " 'qb_hit_2_player_name',\n",
       " 'forced_fumble_player_1_team',\n",
       " 'forced_fumble_player_1_player_id',\n",
       " 'forced_fumble_player_1_player_name',\n",
       " 'forced_fumble_player_2_team',\n",
       " 'forced_fumble_player_2_player_id',\n",
       " 'forced_fumble_player_2_player_name',\n",
       " 'solo_tackle_1_team',\n",
       " 'solo_tackle_2_team',\n",
       " 'solo_tackle_1_player_id',\n",
       " 'solo_tackle_2_player_id',\n",
       " 'solo_tackle_1_player_name',\n",
       " 'solo_tackle_2_player_name',\n",
       " 'assist_tackle_1_player_id',\n",
       " 'assist_tackle_1_player_name',\n",
       " 'assist_tackle_1_team',\n",
       " 'assist_tackle_2_player_id',\n",
       " 'assist_tackle_2_player_name',\n",
       " 'assist_tackle_2_team',\n",
       " 'assist_tackle_3_player_id',\n",
       " 'assist_tackle_3_player_name',\n",
       " 'assist_tackle_3_team',\n",
       " 'assist_tackle_4_player_id',\n",
       " 'assist_tackle_4_player_name',\n",
       " 'assist_tackle_4_team',\n",
       " 'tackle_with_assist',\n",
       " 'tackle_with_assist_1_player_id',\n",
       " 'tackle_with_assist_1_player_name',\n",
       " 'tackle_with_assist_1_team',\n",
       " 'tackle_with_assist_2_player_id',\n",
       " 'tackle_with_assist_2_player_name',\n",
       " 'tackle_with_assist_2_team',\n",
       " 'pass_defense_1_player_id',\n",
       " 'pass_defense_1_player_name',\n",
       " 'pass_defense_2_player_id',\n",
       " 'pass_defense_2_player_name',\n",
       " 'fumbled_1_team',\n",
       " 'fumbled_1_player_id',\n",
       " 'fumbled_1_player_name',\n",
       " 'fumbled_2_player_id',\n",
       " 'fumbled_2_player_name',\n",
       " 'fumbled_2_team',\n",
       " 'fumble_recovery_1_team',\n",
       " 'fumble_recovery_1_yards',\n",
       " 'fumble_recovery_1_player_id',\n",
       " 'fumble_recovery_1_player_name',\n",
       " 'fumble_recovery_2_team',\n",
       " 'fumble_recovery_2_yards',\n",
       " 'fumble_recovery_2_player_id',\n",
       " 'fumble_recovery_2_player_name',\n",
       " 'sack_player_id',\n",
       " 'sack_player_name',\n",
       " 'half_sack_1_player_id',\n",
       " 'half_sack_1_player_name',\n",
       " 'half_sack_2_player_id',\n",
       " 'half_sack_2_player_name',\n",
       " 'return_team',\n",
       " 'return_yards',\n",
       " 'penalty_team',\n",
       " 'penalty_player_id',\n",
       " 'penalty_player_name',\n",
       " 'penalty_yards',\n",
       " 'replay_or_challenge',\n",
       " 'replay_or_challenge_result',\n",
       " 'penalty_type',\n",
       " 'defensive_two_point_attempt',\n",
       " 'defensive_two_point_conv',\n",
       " 'defensive_extra_point_attempt',\n",
       " 'defensive_extra_point_conv',\n",
       " 'safety_player_name',\n",
       " 'safety_player_id',\n",
       " 'season',\n",
       " 'cp',\n",
       " 'cpoe',\n",
       " 'series',\n",
       " 'series_success',\n",
       " 'series_result',\n",
       " 'order_sequence',\n",
       " 'start_time',\n",
       " 'time_of_day',\n",
       " 'stadium',\n",
       " 'weather',\n",
       " 'nfl_api_id',\n",
       " 'play_clock',\n",
       " 'play_deleted',\n",
       " 'play_type_nfl',\n",
       " 'special_teams_play',\n",
       " 'st_play_type',\n",
       " 'end_clock_time',\n",
       " 'end_yard_line',\n",
       " 'fixed_drive',\n",
       " 'fixed_drive_result',\n",
       " 'drive_real_start_time',\n",
       " 'drive_play_count',\n",
       " 'drive_time_of_possession',\n",
       " 'drive_first_downs',\n",
       " 'drive_inside20',\n",
       " 'drive_ended_with_score',\n",
       " 'drive_quarter_start',\n",
       " 'drive_quarter_end',\n",
       " 'drive_yards_penalized',\n",
       " 'drive_start_transition',\n",
       " 'drive_end_transition',\n",
       " 'drive_game_clock_start',\n",
       " 'drive_game_clock_end',\n",
       " 'drive_start_yard_line',\n",
       " 'drive_end_yard_line',\n",
       " 'drive_play_id_started',\n",
       " 'drive_play_id_ended',\n",
       " 'away_score',\n",
       " 'home_score',\n",
       " 'location',\n",
       " 'result',\n",
       " 'total',\n",
       " 'spread_line',\n",
       " 'total_line',\n",
       " 'div_game',\n",
       " 'roof',\n",
       " 'surface',\n",
       " 'temp',\n",
       " 'wind',\n",
       " 'home_coach',\n",
       " 'away_coach',\n",
       " 'stadium_id',\n",
       " 'game_stadium',\n",
       " 'aborted_play',\n",
       " 'success',\n",
       " 'passer',\n",
       " 'passer_jersey_number',\n",
       " 'rusher',\n",
       " 'rusher_jersey_number',\n",
       " 'receiver',\n",
       " 'receiver_jersey_number',\n",
       " 'pass',\n",
       " 'rush',\n",
       " 'first_down',\n",
       " 'special',\n",
       " 'play',\n",
       " 'passer_id',\n",
       " 'rusher_id',\n",
       " 'receiver_id',\n",
       " 'name',\n",
       " 'jersey_number',\n",
       " 'id',\n",
       " 'fantasy_player_name',\n",
       " 'fantasy_player_id',\n",
       " 'fantasy',\n",
       " 'fantasy_id',\n",
       " 'out_of_bounds',\n",
       " 'home_opening_kickoff',\n",
       " 'qb_epa',\n",
       " 'xyac_epa',\n",
       " 'xyac_mean_yardage',\n",
       " 'xyac_median_yardage',\n",
       " 'xyac_success',\n",
       " 'xyac_fd',\n",
       " 'xpass',\n",
       " 'pass_oe']"
      ]
     },
     "execution_count": 4,
     "metadata": {},
     "output_type": "execute_result"
    }
   ],
   "source": [
    "cols"
   ]
  },
  {
   "cell_type": "code",
   "execution_count": 5,
   "id": "a869a8fb",
   "metadata": {},
   "outputs": [],
   "source": [
    "# import rosters for future join\n",
    "rosters = nfl.import_rosters([2021])"
   ]
  },
  {
   "cell_type": "code",
   "execution_count": 6,
   "id": "4e33596c",
   "metadata": {},
   "outputs": [],
   "source": [
    "# import teams (with colors) for future join\n",
    "teams = nfl.import_team_desc()"
   ]
  },
  {
   "cell_type": "code",
   "execution_count": 7,
   "id": "b82eb49f",
   "metadata": {},
   "outputs": [],
   "source": [
    "# filter to regular season\n",
    "df_2021 = df_2021[df_2021[\"season_type\"] == \"REG\"]\n",
    "\n",
    "# remove two point attempts\n",
    "df_2021 = df_2021[df_2021[\"two_point_attempt\"] == False]\n",
    "\n",
    "# filter to pass plays\n",
    "df_2021 = df_2021[df_2021[\"play_type\"] == \"pass\"]"
   ]
  },
  {
   "cell_type": "code",
   "execution_count": 8,
   "id": "b7150636",
   "metadata": {},
   "outputs": [
    {
     "data": {
      "text/html": [
       "<div>\n",
       "<style scoped>\n",
       "    .dataframe tbody tr th:only-of-type {\n",
       "        vertical-align: middle;\n",
       "    }\n",
       "\n",
       "    .dataframe tbody tr th {\n",
       "        vertical-align: top;\n",
       "    }\n",
       "\n",
       "    .dataframe thead th {\n",
       "        text-align: right;\n",
       "    }\n",
       "</style>\n",
       "<table border=\"1\" class=\"dataframe\">\n",
       "  <thead>\n",
       "    <tr style=\"text-align: right;\">\n",
       "      <th></th>\n",
       "      <th>play_id</th>\n",
       "      <th>game_id</th>\n",
       "      <th>old_game_id</th>\n",
       "      <th>home_team</th>\n",
       "      <th>away_team</th>\n",
       "      <th>season_type</th>\n",
       "      <th>week</th>\n",
       "      <th>posteam</th>\n",
       "      <th>posteam_type</th>\n",
       "      <th>defteam</th>\n",
       "      <th>...</th>\n",
       "      <th>out_of_bounds</th>\n",
       "      <th>home_opening_kickoff</th>\n",
       "      <th>qb_epa</th>\n",
       "      <th>xyac_epa</th>\n",
       "      <th>xyac_mean_yardage</th>\n",
       "      <th>xyac_median_yardage</th>\n",
       "      <th>xyac_success</th>\n",
       "      <th>xyac_fd</th>\n",
       "      <th>xpass</th>\n",
       "      <th>pass_oe</th>\n",
       "    </tr>\n",
       "  </thead>\n",
       "  <tbody>\n",
       "    <tr>\n",
       "      <th>3</th>\n",
       "      <td>76.0</td>\n",
       "      <td>2021_01_ARI_TEN</td>\n",
       "      <td>2021091207</td>\n",
       "      <td>TEN</td>\n",
       "      <td>ARI</td>\n",
       "      <td>REG</td>\n",
       "      <td>1</td>\n",
       "      <td>TEN</td>\n",
       "      <td>home</td>\n",
       "      <td>ARI</td>\n",
       "      <td>...</td>\n",
       "      <td>0.0</td>\n",
       "      <td>1.0</td>\n",
       "      <td>0.032412</td>\n",
       "      <td>1.165133</td>\n",
       "      <td>5.803177</td>\n",
       "      <td>4.0</td>\n",
       "      <td>0.896654</td>\n",
       "      <td>0.125098</td>\n",
       "      <td>0.697346</td>\n",
       "      <td>30.265415</td>\n",
       "    </tr>\n",
       "    <tr>\n",
       "      <th>4</th>\n",
       "      <td>100.0</td>\n",
       "      <td>2021_01_ARI_TEN</td>\n",
       "      <td>2021091207</td>\n",
       "      <td>TEN</td>\n",
       "      <td>ARI</td>\n",
       "      <td>REG</td>\n",
       "      <td>1</td>\n",
       "      <td>TEN</td>\n",
       "      <td>home</td>\n",
       "      <td>ARI</td>\n",
       "      <td>...</td>\n",
       "      <td>0.0</td>\n",
       "      <td>1.0</td>\n",
       "      <td>-1.532898</td>\n",
       "      <td>0.256036</td>\n",
       "      <td>4.147637</td>\n",
       "      <td>2.0</td>\n",
       "      <td>0.965009</td>\n",
       "      <td>0.965009</td>\n",
       "      <td>0.978253</td>\n",
       "      <td>2.174652</td>\n",
       "    </tr>\n",
       "    <tr>\n",
       "      <th>6</th>\n",
       "      <td>152.0</td>\n",
       "      <td>2021_01_ARI_TEN</td>\n",
       "      <td>2021091207</td>\n",
       "      <td>TEN</td>\n",
       "      <td>ARI</td>\n",
       "      <td>REG</td>\n",
       "      <td>1</td>\n",
       "      <td>ARI</td>\n",
       "      <td>away</td>\n",
       "      <td>TEN</td>\n",
       "      <td>...</td>\n",
       "      <td>1.0</td>\n",
       "      <td>1.0</td>\n",
       "      <td>2.692890</td>\n",
       "      <td>0.567838</td>\n",
       "      <td>7.420427</td>\n",
       "      <td>4.0</td>\n",
       "      <td>1.000000</td>\n",
       "      <td>1.000000</td>\n",
       "      <td>0.458989</td>\n",
       "      <td>54.101131</td>\n",
       "    </tr>\n",
       "    <tr>\n",
       "      <th>8</th>\n",
       "      <td>218.0</td>\n",
       "      <td>2021_01_ARI_TEN</td>\n",
       "      <td>2021091207</td>\n",
       "      <td>TEN</td>\n",
       "      <td>ARI</td>\n",
       "      <td>REG</td>\n",
       "      <td>1</td>\n",
       "      <td>ARI</td>\n",
       "      <td>away</td>\n",
       "      <td>TEN</td>\n",
       "      <td>...</td>\n",
       "      <td>1.0</td>\n",
       "      <td>1.0</td>\n",
       "      <td>-0.511090</td>\n",
       "      <td>1.036891</td>\n",
       "      <td>10.339405</td>\n",
       "      <td>9.0</td>\n",
       "      <td>0.478471</td>\n",
       "      <td>0.079696</td>\n",
       "      <td>0.684949</td>\n",
       "      <td>31.505138</td>\n",
       "    </tr>\n",
       "    <tr>\n",
       "      <th>9</th>\n",
       "      <td>253.0</td>\n",
       "      <td>2021_01_ARI_TEN</td>\n",
       "      <td>2021091207</td>\n",
       "      <td>TEN</td>\n",
       "      <td>ARI</td>\n",
       "      <td>REG</td>\n",
       "      <td>1</td>\n",
       "      <td>ARI</td>\n",
       "      <td>away</td>\n",
       "      <td>TEN</td>\n",
       "      <td>...</td>\n",
       "      <td>1.0</td>\n",
       "      <td>1.0</td>\n",
       "      <td>2.182015</td>\n",
       "      <td>0.517965</td>\n",
       "      <td>3.045047</td>\n",
       "      <td>1.0</td>\n",
       "      <td>1.000000</td>\n",
       "      <td>0.998799</td>\n",
       "      <td>0.775463</td>\n",
       "      <td>22.453720</td>\n",
       "    </tr>\n",
       "  </tbody>\n",
       "</table>\n",
       "<p>5 rows × 372 columns</p>\n",
       "</div>"
      ],
      "text/plain": [
       "   play_id          game_id old_game_id home_team away_team season_type  week  \\\n",
       "3     76.0  2021_01_ARI_TEN  2021091207       TEN       ARI         REG     1   \n",
       "4    100.0  2021_01_ARI_TEN  2021091207       TEN       ARI         REG     1   \n",
       "6    152.0  2021_01_ARI_TEN  2021091207       TEN       ARI         REG     1   \n",
       "8    218.0  2021_01_ARI_TEN  2021091207       TEN       ARI         REG     1   \n",
       "9    253.0  2021_01_ARI_TEN  2021091207       TEN       ARI         REG     1   \n",
       "\n",
       "  posteam posteam_type defteam  ... out_of_bounds  home_opening_kickoff  \\\n",
       "3     TEN         home     ARI  ...           0.0                   1.0   \n",
       "4     TEN         home     ARI  ...           0.0                   1.0   \n",
       "6     ARI         away     TEN  ...           1.0                   1.0   \n",
       "8     ARI         away     TEN  ...           1.0                   1.0   \n",
       "9     ARI         away     TEN  ...           1.0                   1.0   \n",
       "\n",
       "     qb_epa  xyac_epa  xyac_mean_yardage  xyac_median_yardage xyac_success  \\\n",
       "3  0.032412  1.165133           5.803177                  4.0     0.896654   \n",
       "4 -1.532898  0.256036           4.147637                  2.0     0.965009   \n",
       "6  2.692890  0.567838           7.420427                  4.0     1.000000   \n",
       "8 -0.511090  1.036891          10.339405                  9.0     0.478471   \n",
       "9  2.182015  0.517965           3.045047                  1.0     1.000000   \n",
       "\n",
       "    xyac_fd     xpass    pass_oe  \n",
       "3  0.125098  0.697346  30.265415  \n",
       "4  0.965009  0.978253   2.174652  \n",
       "6  1.000000  0.458989  54.101131  \n",
       "8  0.079696  0.684949  31.505138  \n",
       "9  0.998799  0.775463  22.453720  \n",
       "\n",
       "[5 rows x 372 columns]"
      ]
     },
     "execution_count": 8,
     "metadata": {},
     "output_type": "execute_result"
    }
   ],
   "source": [
    "df_2021.head()"
   ]
  },
  {
   "cell_type": "code",
   "execution_count": 9,
   "id": "db5f4acb",
   "metadata": {},
   "outputs": [],
   "source": [
    "# join with the roster table to get player names\n",
    "df_2021 = df_2021.merge(rosters[[\"player_name\", \"player_id\"]], left_on=\"passer_player_id\", right_on=\"player_id\")"
   ]
  },
  {
   "cell_type": "code",
   "execution_count": 10,
   "id": "f2112480",
   "metadata": {},
   "outputs": [
    {
     "data": {
      "text/plain": [
       "array(['Ryan Tannehill', 'Kyler Murray', 'Matthias Farley', 'Derek Carr',\n",
       "       'Lamar Jackson', 'Andy Dalton', 'Justin Fields',\n",
       "       'Matthew Stafford', 'Baker Mayfield', 'Patrick Mahomes',\n",
       "       'Tom Brady', 'Dak Prescott', 'Daniel Jones', 'Teddy Bridgewater',\n",
       "       'Jameis Winston', 'Aaron Rodgers', 'Taysom Hill', 'Jordan Love',\n",
       "       'Tyrod Taylor', 'Trevor Lawrence', 'Justin Herbert',\n",
       "       'Ryan Fitzpatrick', 'Taylor Heinicke', 'Mac Jones',\n",
       "       'Tua Tagovailoa', 'Kirk Cousins', 'Joe Burrow', 'Justin Jefferson',\n",
       "       'Zach Wilson', 'Sam Darnold', 'Matt Ryan', 'Jalen Hurts',\n",
       "       'Josh Allen', 'Ben Roethlisberger', 'Carson Wentz',\n",
       "       'Russell Wilson', 'Jared Goff', 'Jimmy Garoppolo', 'Trey Lance',\n",
       "       'Josh Rosen', 'Jacoby Brissett', 'Davis Mills', 'Jacob Eason',\n",
       "       'Greg Ward', \"D'Andre Swift\", 'Mitchell Trubisky', 'Drew Lock',\n",
       "       'Ty Long', 'Jakobi Meyers', 'Geno Smith', 'Blaine Gabbert',\n",
       "       'Kadarius Toney', 'Mike Glennon', 'Cedrick Wilson',\n",
       "       'Cordarrelle Patterson', 'Case Keenum', 'Brandon Allen',\n",
       "       'John Wolford', 'Dante Pettis', 'Phillip Walker', 'Tyler Huntley',\n",
       "       'Jack Fox', 'Derrick Henry', 'Chad Henne', 'Kendrick Bourne',\n",
       "       'Mike White', 'Brian Hoyer', 'Tyler Boyd', 'Josh Johnson',\n",
       "       'Cooper Rush', 'Rex Burkhead', 'Cole Beasley', 'Gardner Minshew',\n",
       "       'David Blough', 'Chris Boswell', 'Trevor Siemian',\n",
       "       'Leonard Fournette', 'A.J. Brown', 'Colt McCoy', 'Christian Kirk',\n",
       "       'C.J. Beathard', 'Danny Amendola', 'Ezekiel Elliott',\n",
       "       'Albert Wilson', 'Joe Flacco', 'Cam Newton', 'Chris Streveler',\n",
       "       'Mason Rudolph', 'Tommy Townsend', 'Johnny Hekker', 'Tim Boyle',\n",
       "       'Feleipe Franks', 'Blake Gillikin', 'Jarvis Landry', 'Cooper Kupp',\n",
       "       'Kyle Allen', 'Riley Dixon', 'Deebo Samuel', 'Jake Fromm',\n",
       "       'Keenan Allen', 'Nick Mullens', 'Keelan Cole', 'Garrett Gilbert',\n",
       "       'Nick Foles', 'Ian Book', 'Chris Banjo', 'Stefon Diggs',\n",
       "       'Brett Rypien', 'Kendall Hinton', 'Marcus Mariota', 'Mike Gesicki',\n",
       "       'Sean Mannion', 'Kellen Mond', 'David Montgomery',\n",
       "       'Brandon Zylstra', 'Tom Kennedy', 'Courtland Sutton',\n",
       "       'Jamison Crowder', 'Sam Koch'], dtype=object)"
      ]
     },
     "execution_count": 10,
     "metadata": {},
     "output_type": "execute_result"
    }
   ],
   "source": [
    "df_2021[\"player_name\"].unique()"
   ]
  },
  {
   "cell_type": "code",
   "execution_count": 11,
   "id": "71e38ffe",
   "metadata": {},
   "outputs": [],
   "source": [
    "# join with team table to get team colors\n",
    "df_2021 = df_2021.merge(teams[[\"team_abbr\", \"team_color\"]], left_on=\"posteam\", right_on=\"team_abbr\")"
   ]
  },
  {
   "cell_type": "code",
   "execution_count": 12,
   "id": "9e053017",
   "metadata": {},
   "outputs": [],
   "source": [
    "# get total yards and touchdowns by week\n",
    "df_agg = (\n",
    "    df_2021.groupby([\"player_name\", \"team_abbr\", \"team_color\", \"week\"], as_index=False)\n",
    "    .agg({\"passing_yards\": \"sum\", \"pass_touchdown\": \"sum\"})\n",
    ")"
   ]
  },
  {
   "cell_type": "code",
   "execution_count": 13,
   "id": "6a7f97dd",
   "metadata": {},
   "outputs": [
    {
     "data": {
      "text/html": [
       "<div>\n",
       "<style scoped>\n",
       "    .dataframe tbody tr th:only-of-type {\n",
       "        vertical-align: middle;\n",
       "    }\n",
       "\n",
       "    .dataframe tbody tr th {\n",
       "        vertical-align: top;\n",
       "    }\n",
       "\n",
       "    .dataframe thead th {\n",
       "        text-align: right;\n",
       "    }\n",
       "</style>\n",
       "<table border=\"1\" class=\"dataframe\">\n",
       "  <thead>\n",
       "    <tr style=\"text-align: right;\">\n",
       "      <th></th>\n",
       "      <th>player_name</th>\n",
       "      <th>team_abbr</th>\n",
       "      <th>team_color</th>\n",
       "      <th>week</th>\n",
       "      <th>passing_yards</th>\n",
       "      <th>pass_touchdown</th>\n",
       "    </tr>\n",
       "  </thead>\n",
       "  <tbody>\n",
       "    <tr>\n",
       "      <th>299</th>\n",
       "      <td>Josh Allen</td>\n",
       "      <td>BUF</td>\n",
       "      <td>#00338D</td>\n",
       "      <td>1</td>\n",
       "      <td>270.0</td>\n",
       "      <td>1.0</td>\n",
       "    </tr>\n",
       "    <tr>\n",
       "      <th>300</th>\n",
       "      <td>Josh Allen</td>\n",
       "      <td>BUF</td>\n",
       "      <td>#00338D</td>\n",
       "      <td>2</td>\n",
       "      <td>179.0</td>\n",
       "      <td>2.0</td>\n",
       "    </tr>\n",
       "    <tr>\n",
       "      <th>301</th>\n",
       "      <td>Josh Allen</td>\n",
       "      <td>BUF</td>\n",
       "      <td>#00338D</td>\n",
       "      <td>3</td>\n",
       "      <td>358.0</td>\n",
       "      <td>4.0</td>\n",
       "    </tr>\n",
       "    <tr>\n",
       "      <th>302</th>\n",
       "      <td>Josh Allen</td>\n",
       "      <td>BUF</td>\n",
       "      <td>#00338D</td>\n",
       "      <td>4</td>\n",
       "      <td>248.0</td>\n",
       "      <td>2.0</td>\n",
       "    </tr>\n",
       "    <tr>\n",
       "      <th>303</th>\n",
       "      <td>Josh Allen</td>\n",
       "      <td>BUF</td>\n",
       "      <td>#00338D</td>\n",
       "      <td>5</td>\n",
       "      <td>315.0</td>\n",
       "      <td>3.0</td>\n",
       "    </tr>\n",
       "    <tr>\n",
       "      <th>304</th>\n",
       "      <td>Josh Allen</td>\n",
       "      <td>BUF</td>\n",
       "      <td>#00338D</td>\n",
       "      <td>6</td>\n",
       "      <td>353.0</td>\n",
       "      <td>3.0</td>\n",
       "    </tr>\n",
       "    <tr>\n",
       "      <th>305</th>\n",
       "      <td>Josh Allen</td>\n",
       "      <td>BUF</td>\n",
       "      <td>#00338D</td>\n",
       "      <td>8</td>\n",
       "      <td>249.0</td>\n",
       "      <td>2.0</td>\n",
       "    </tr>\n",
       "    <tr>\n",
       "      <th>306</th>\n",
       "      <td>Josh Allen</td>\n",
       "      <td>BUF</td>\n",
       "      <td>#00338D</td>\n",
       "      <td>9</td>\n",
       "      <td>264.0</td>\n",
       "      <td>0.0</td>\n",
       "    </tr>\n",
       "    <tr>\n",
       "      <th>307</th>\n",
       "      <td>Josh Allen</td>\n",
       "      <td>BUF</td>\n",
       "      <td>#00338D</td>\n",
       "      <td>10</td>\n",
       "      <td>366.0</td>\n",
       "      <td>2.0</td>\n",
       "    </tr>\n",
       "    <tr>\n",
       "      <th>308</th>\n",
       "      <td>Josh Allen</td>\n",
       "      <td>BUF</td>\n",
       "      <td>#00338D</td>\n",
       "      <td>11</td>\n",
       "      <td>209.0</td>\n",
       "      <td>2.0</td>\n",
       "    </tr>\n",
       "    <tr>\n",
       "      <th>309</th>\n",
       "      <td>Josh Allen</td>\n",
       "      <td>BUF</td>\n",
       "      <td>#00338D</td>\n",
       "      <td>12</td>\n",
       "      <td>260.0</td>\n",
       "      <td>4.0</td>\n",
       "    </tr>\n",
       "    <tr>\n",
       "      <th>310</th>\n",
       "      <td>Josh Allen</td>\n",
       "      <td>BUF</td>\n",
       "      <td>#00338D</td>\n",
       "      <td>13</td>\n",
       "      <td>145.0</td>\n",
       "      <td>1.0</td>\n",
       "    </tr>\n",
       "    <tr>\n",
       "      <th>311</th>\n",
       "      <td>Josh Allen</td>\n",
       "      <td>BUF</td>\n",
       "      <td>#00338D</td>\n",
       "      <td>14</td>\n",
       "      <td>308.0</td>\n",
       "      <td>2.0</td>\n",
       "    </tr>\n",
       "    <tr>\n",
       "      <th>312</th>\n",
       "      <td>Josh Allen</td>\n",
       "      <td>BUF</td>\n",
       "      <td>#00338D</td>\n",
       "      <td>15</td>\n",
       "      <td>210.0</td>\n",
       "      <td>3.0</td>\n",
       "    </tr>\n",
       "    <tr>\n",
       "      <th>313</th>\n",
       "      <td>Josh Allen</td>\n",
       "      <td>BUF</td>\n",
       "      <td>#00338D</td>\n",
       "      <td>16</td>\n",
       "      <td>314.0</td>\n",
       "      <td>3.0</td>\n",
       "    </tr>\n",
       "    <tr>\n",
       "      <th>314</th>\n",
       "      <td>Josh Allen</td>\n",
       "      <td>BUF</td>\n",
       "      <td>#00338D</td>\n",
       "      <td>17</td>\n",
       "      <td>120.0</td>\n",
       "      <td>0.0</td>\n",
       "    </tr>\n",
       "    <tr>\n",
       "      <th>315</th>\n",
       "      <td>Josh Allen</td>\n",
       "      <td>BUF</td>\n",
       "      <td>#00338D</td>\n",
       "      <td>18</td>\n",
       "      <td>239.0</td>\n",
       "      <td>2.0</td>\n",
       "    </tr>\n",
       "  </tbody>\n",
       "</table>\n",
       "</div>"
      ],
      "text/plain": [
       "    player_name team_abbr team_color  week  passing_yards  pass_touchdown\n",
       "299  Josh Allen       BUF    #00338D     1          270.0             1.0\n",
       "300  Josh Allen       BUF    #00338D     2          179.0             2.0\n",
       "301  Josh Allen       BUF    #00338D     3          358.0             4.0\n",
       "302  Josh Allen       BUF    #00338D     4          248.0             2.0\n",
       "303  Josh Allen       BUF    #00338D     5          315.0             3.0\n",
       "304  Josh Allen       BUF    #00338D     6          353.0             3.0\n",
       "305  Josh Allen       BUF    #00338D     8          249.0             2.0\n",
       "306  Josh Allen       BUF    #00338D     9          264.0             0.0\n",
       "307  Josh Allen       BUF    #00338D    10          366.0             2.0\n",
       "308  Josh Allen       BUF    #00338D    11          209.0             2.0\n",
       "309  Josh Allen       BUF    #00338D    12          260.0             4.0\n",
       "310  Josh Allen       BUF    #00338D    13          145.0             1.0\n",
       "311  Josh Allen       BUF    #00338D    14          308.0             2.0\n",
       "312  Josh Allen       BUF    #00338D    15          210.0             3.0\n",
       "313  Josh Allen       BUF    #00338D    16          314.0             3.0\n",
       "314  Josh Allen       BUF    #00338D    17          120.0             0.0\n",
       "315  Josh Allen       BUF    #00338D    18          239.0             2.0"
      ]
     },
     "execution_count": 13,
     "metadata": {},
     "output_type": "execute_result"
    }
   ],
   "source": [
    "# look at Josh Allen only\n",
    "df_agg[df_agg[\"player_name\"] == \"Josh Allen\"]"
   ]
  },
  {
   "cell_type": "code",
   "execution_count": 16,
   "id": "7ce05871",
   "metadata": {},
   "outputs": [
    {
     "data": {
      "application/vnd.plotly.v1+json": {
       "config": {
        "plotlyServerURL": "https://plot.ly"
       },
       "data": [
        {
         "hovertemplate": "<b>Aaron Rodgers</b><br>%{y} yds through week %{x}<extra></extra>",
         "line": {
          "color": "#203731"
         },
         "mode": "markers+lines",
         "name": "Aaron Rodgers",
         "type": "scatter",
         "x": [
          1,
          2,
          3,
          4,
          5,
          6,
          7,
          8,
          10,
          11,
          12,
          14,
          15,
          16,
          17,
          18
         ],
         "y": [
          133,
          388,
          649,
          897,
          1241,
          1436,
          1710,
          1894,
          2186,
          2571,
          2878,
          3219,
          3487,
          3689,
          3977,
          4115
         ]
        },
        {
         "hovertemplate": "<b>Andy Dalton</b><br>%{y} yds through week %{x}<extra></extra>",
         "line": {
          "color": "#0B162A"
         },
         "mode": "markers+lines",
         "name": "Andy Dalton",
         "type": "scatter",
         "x": [
          1,
          2,
          5,
          11,
          12,
          13,
          17,
          18
         ],
         "y": [
          206,
          262,
          270,
          471,
          788,
          1017,
          1190,
          1515
         ]
        },
        {
         "hovertemplate": "<b>Baker Mayfield</b><br>%{y} yds through week %{x}<extra></extra>",
         "line": {
          "color": "#FF3C00"
         },
         "mode": "markers+lines",
         "name": "Baker Mayfield",
         "type": "scatter",
         "x": [
          1,
          2,
          3,
          4,
          5,
          6,
          8,
          9,
          10,
          11,
          12,
          14,
          16,
          17
         ],
         "y": [
          321,
          534,
          780,
          935,
          1240,
          1474,
          1699,
          1917,
          1990,
          2166,
          2413,
          2603,
          2825,
          3010
         ]
        },
        {
         "hovertemplate": "<b>Ben Roethlisberger</b><br>%{y} yds through week %{x}<extra></extra>",
         "line": {
          "color": "#000000"
         },
         "mode": "markers+lines",
         "name": "Ben Roethlisberger",
         "type": "scatter",
         "x": [
          1,
          2,
          3,
          4,
          5,
          6,
          8,
          9,
          11,
          12,
          13,
          14,
          15,
          16,
          17,
          18
         ],
         "y": [
          188,
          483,
          801,
          1033,
          1286,
          1515,
          1781,
          1986,
          2259,
          2522,
          2758,
          3066,
          3214,
          3373,
          3496,
          3740
         ]
        },
        {
         "hovertemplate": "<b>Carson Wentz</b><br>%{y} yds through week %{x}<extra></extra>",
         "line": {
          "color": "#002C5F"
         },
         "mode": "markers+lines",
         "name": "Carson Wentz",
         "type": "scatter",
         "x": [
          1,
          2,
          3,
          4,
          5,
          6,
          7,
          8,
          9,
          10,
          11,
          12,
          13,
          15,
          16,
          17,
          18
         ],
         "y": [
          251,
          498,
          692,
          920,
          1322,
          1545,
          1695,
          1926,
          2198,
          2378,
          2484,
          2790,
          2948,
          3005,
          3230,
          3378,
          3563
         ]
        },
        {
         "hovertemplate": "<b>Dak Prescott</b><br>%{y} yds through week %{x}<extra></extra>",
         "line": {
          "color": "#002244"
         },
         "mode": "markers+lines",
         "name": "Dak Prescott",
         "type": "scatter",
         "x": [
          1,
          2,
          3,
          4,
          5,
          6,
          9,
          10,
          11,
          12,
          13,
          14,
          15,
          16,
          17,
          18
         ],
         "y": [
          403,
          640,
          878,
          1066,
          1368,
          1813,
          2045,
          2341,
          2557,
          2932,
          3170,
          3381,
          3598,
          3928,
          4154,
          4449
         ]
        },
        {
         "hovertemplate": "<b>Daniel Jones</b><br>%{y} yds through week %{x}<extra></extra>",
         "line": {
          "color": "#0B2265"
         },
         "mode": "markers+lines",
         "name": "Daniel Jones",
         "type": "scatter",
         "x": [
          1,
          2,
          3,
          4,
          5,
          6,
          7,
          8,
          9,
          11,
          12
         ],
         "y": [
          267,
          516,
          782,
          1184,
          1282,
          1524,
          1727,
          1949,
          2059,
          2226,
          2428
         ]
        },
        {
         "hovertemplate": "<b>Davis Mills</b><br>%{y} yds through week %{x}<extra></extra>",
         "line": {
          "color": "#03202F"
         },
         "mode": "markers+lines",
         "name": "Davis Mills",
         "type": "scatter",
         "x": [
          2,
          3,
          4,
          5,
          6,
          7,
          8,
          13,
          14,
          15,
          16,
          17,
          18
         ],
         "y": [
          102,
          270,
          357,
          669,
          912,
          1047,
          1357,
          1406,
          1737,
          1946,
          2200,
          2363,
          2664
         ]
        },
        {
         "hovertemplate": "<b>Derek Carr</b><br>%{y} yds through week %{x}<extra></extra>",
         "line": {
          "color": "#000000"
         },
         "mode": "markers+lines",
         "name": "Derek Carr",
         "type": "scatter",
         "x": [
          1,
          2,
          3,
          4,
          5,
          6,
          7,
          9,
          10,
          11,
          12,
          13,
          14,
          15,
          16,
          17,
          18
         ],
         "y": [
          435,
          817,
          1203,
          1399,
          1605,
          1946,
          2269,
          2565,
          2826,
          3041,
          3414,
          3663,
          3926,
          4162,
          4363,
          4618,
          4804
         ]
        },
        {
         "hovertemplate": "<b>Jacoby Brissett</b><br>%{y} yds through week %{x}<extra></extra>",
         "line": {
          "color": "#008E97"
         },
         "mode": "markers+lines",
         "name": "Jacoby Brissett",
         "type": "scatter",
         "x": [
          2,
          3,
          4,
          5,
          6,
          9,
          10,
          16
         ],
         "y": [
          169,
          384,
          583,
          858,
          883,
          1127,
          1283,
          1283
         ]
        },
        {
         "hovertemplate": "<b>Jalen Hurts</b><br>%{y} yds through week %{x}<extra></extra>",
         "line": {
          "color": "#004C54"
         },
         "mode": "markers+lines",
         "name": "Jalen Hurts",
         "type": "scatter",
         "x": [
          1,
          2,
          3,
          4,
          5,
          6,
          7,
          8,
          9,
          10,
          11,
          12,
          15,
          16,
          17
         ],
         "y": [
          264,
          454,
          780,
          1167,
          1365,
          1480,
          1716,
          1819,
          1981,
          2159,
          2306,
          2435,
          2731,
          2930,
          3144
         ]
        },
        {
         "hovertemplate": "<b>Jameis Winston</b><br>%{y} yds through week %{x}<extra></extra>",
         "line": {
          "color": "#D3BC8D"
         },
         "mode": "markers+lines",
         "name": "Jameis Winston",
         "type": "scatter",
         "x": [
          1,
          2,
          3,
          4,
          5,
          7,
          8
         ],
         "y": [
          148,
          259,
          387,
          613,
          892,
          1114,
          1170
         ]
        },
        {
         "hovertemplate": "<b>Jared Goff</b><br>%{y} yds through week %{x}<extra></extra>",
         "line": {
          "color": "#0076B6"
         },
         "mode": "markers+lines",
         "name": "Jared Goff",
         "type": "scatter",
         "x": [
          1,
          2,
          3,
          4,
          5,
          6,
          7,
          8,
          10,
          12,
          13,
          14,
          15,
          18
         ],
         "y": [
          338,
          584,
          801,
          1100,
          1303,
          1505,
          1773,
          1995,
          2109,
          2280,
          2576,
          2791,
          3007,
          3245
         ]
        },
        {
         "hovertemplate": "<b>Jimmy Garoppolo</b><br>%{y} yds through week %{x}<extra></extra>",
         "line": {
          "color": "#AA0000"
         },
         "mode": "markers+lines",
         "name": "Jimmy Garoppolo",
         "type": "scatter",
         "x": [
          1,
          2,
          3,
          4,
          7,
          8,
          9,
          10,
          11,
          12,
          13,
          14,
          15,
          16,
          18
         ],
         "y": [
          314,
          503,
          760,
          925,
          1106,
          1428,
          1754,
          1936,
          2112,
          2342,
          2641,
          2937,
          3172,
          3494,
          3810
         ]
        },
        {
         "hovertemplate": "<b>Joe Burrow</b><br>%{y} yds through week %{x}<extra></extra>",
         "line": {
          "color": "#FB4F14"
         },
         "mode": "markers+lines",
         "name": "Joe Burrow",
         "type": "scatter",
         "x": [
          1,
          2,
          3,
          4,
          5,
          6,
          7,
          8,
          9,
          11,
          12,
          13,
          14,
          15,
          16,
          17
         ],
         "y": [
          261,
          468,
          640,
          988,
          1269,
          1540,
          1956,
          2215,
          2497,
          2645,
          2835,
          3135,
          3483,
          3640,
          4165,
          4611
         ]
        },
        {
         "hovertemplate": "<b>Josh Allen</b><br>%{y} yds through week %{x}<extra></extra>",
         "line": {
          "color": "#00338D"
         },
         "mode": "markers+lines",
         "name": "Josh Allen",
         "type": "scatter",
         "x": [
          1,
          2,
          3,
          4,
          5,
          6,
          8,
          9,
          10,
          11,
          12,
          13,
          14,
          15,
          16,
          17,
          18
         ],
         "y": [
          270,
          449,
          807,
          1055,
          1370,
          1723,
          1972,
          2236,
          2602,
          2811,
          3071,
          3216,
          3524,
          3734,
          4048,
          4168,
          4407
         ]
        },
        {
         "hovertemplate": "<b>Justin Fields</b><br>%{y} yds through week %{x}<extra></extra>",
         "line": {
          "color": "#0B162A"
         },
         "mode": "markers+lines",
         "name": "Justin Fields",
         "type": "scatter",
         "x": [
          1,
          2,
          3,
          4,
          5,
          6,
          7,
          8,
          9,
          11,
          14,
          15
         ],
         "y": [
          10,
          70,
          138,
          347,
          458,
          632,
          816,
          991,
          1282,
          1361,
          1585,
          1870
         ]
        },
        {
         "hovertemplate": "<b>Justin Herbert</b><br>%{y} yds through week %{x}<extra></extra>",
         "line": {
          "color": "#007BC7"
         },
         "mode": "markers+lines",
         "name": "Justin Herbert",
         "type": "scatter",
         "x": [
          1,
          2,
          3,
          4,
          5,
          6,
          8,
          9,
          10,
          11,
          12,
          13,
          14,
          15,
          16,
          17,
          18
         ],
         "y": [
          337,
          675,
          956,
          1178,
          1576,
          1771,
          1994,
          2350,
          2545,
          2927,
          3230,
          3547,
          3822,
          4058,
          4394,
          4631,
          5014
         ]
        },
        {
         "hovertemplate": "<b>Kirk Cousins</b><br>%{y} yds through week %{x}<extra></extra>",
         "line": {
          "color": "#4F2683"
         },
         "mode": "markers+lines",
         "name": "Kirk Cousins",
         "type": "scatter",
         "x": [
          1,
          2,
          3,
          4,
          5,
          6,
          8,
          9,
          10,
          11,
          12,
          13,
          14,
          15,
          16,
          18
         ],
         "y": [
          351,
          595,
          918,
          1121,
          1396,
          1769,
          1953,
          2140,
          2434,
          2775,
          3013,
          3353,
          3569,
          3656,
          3971,
          4221
         ]
        },
        {
         "hovertemplate": "<b>Kyler Murray</b><br>%{y} yds through week %{x}<extra></extra>",
         "line": {
          "color": "#97233F"
         },
         "mode": "markers+lines",
         "name": "Kyler Murray",
         "type": "scatter",
         "x": [
          1,
          2,
          3,
          4,
          5,
          6,
          7,
          8,
          13,
          14,
          15,
          16,
          17,
          18
         ],
         "y": [
          289,
          689,
          1005,
          1273,
          1512,
          1741,
          2002,
          2276,
          2399,
          2782,
          3039,
          3284,
          3547,
          3787
         ]
        },
        {
         "hovertemplate": "<b>Lamar Jackson</b><br>%{y} yds through week %{x}<extra></extra>",
         "line": {
          "color": "#241773"
         },
         "mode": "markers+lines",
         "name": "Lamar Jackson",
         "type": "scatter",
         "x": [
          1,
          2,
          3,
          4,
          5,
          6,
          7,
          9,
          10,
          12,
          13,
          14
         ],
         "y": [
          235,
          474,
          761,
          1077,
          1519,
          1686,
          1943,
          2209,
          2447,
          2612,
          2865,
          2882
         ]
        },
        {
         "hovertemplate": "<b>Mac Jones</b><br>%{y} yds through week %{x}<extra></extra>",
         "line": {
          "color": "#002244"
         },
         "mode": "markers+lines",
         "name": "Mac Jones",
         "type": "scatter",
         "x": [
          1,
          2,
          3,
          4,
          5,
          6,
          7,
          8,
          9,
          10,
          11,
          12,
          13,
          15,
          16,
          17,
          18
         ],
         "y": [
          281,
          467,
          737,
          1012,
          1243,
          1472,
          1779,
          1996,
          2135,
          2333,
          2540,
          2850,
          2869,
          3168,
          3313,
          3540,
          3801
         ]
        },
        {
         "hovertemplate": "<b>Matt Ryan</b><br>%{y} yds through week %{x}<extra></extra>",
         "line": {
          "color": "#A71930"
         },
         "mode": "markers+lines",
         "name": "Matt Ryan",
         "type": "scatter",
         "x": [
          1,
          2,
          3,
          4,
          5,
          7,
          8,
          9,
          10,
          11,
          12,
          13,
          14,
          15,
          16,
          17,
          18
         ],
         "y": [
          164,
          464,
          707,
          990,
          1332,
          1668,
          1814,
          2157,
          2274,
          2427,
          2617,
          2914,
          3104,
          3340,
          3555,
          3752,
          3968
         ]
        },
        {
         "hovertemplate": "<b>Matthew Stafford</b><br>%{y} yds through week %{x}<extra></extra>",
         "line": {
          "color": "#003594"
         },
         "mode": "markers+lines",
         "name": "Matthew Stafford",
         "type": "scatter",
         "x": [
          1,
          2,
          3,
          4,
          5,
          6,
          7,
          8,
          9,
          10,
          12,
          13,
          14,
          15,
          16,
          17,
          18
         ],
         "y": [
          321,
          599,
          942,
          1222,
          1587,
          1838,
          2172,
          2477,
          2771,
          3014,
          3316,
          3611,
          3898,
          4142,
          4339,
          4648,
          4886
         ]
        },
        {
         "hovertemplate": "<b>Patrick Mahomes</b><br>%{y} yds through week %{x}<extra></extra>",
         "line": {
          "color": "#E31837"
         },
         "mode": "markers+lines",
         "name": "Patrick Mahomes",
         "type": "scatter",
         "x": [
          1,
          2,
          3,
          4,
          5,
          6,
          7,
          8,
          9,
          10,
          11,
          13,
          14,
          15,
          16,
          17,
          18
         ],
         "y": [
          337,
          680,
          940,
          1218,
          1490,
          1887,
          2093,
          2368,
          2534,
          2940,
          3200,
          3384,
          3642,
          4052,
          4310,
          4569,
          4839
         ]
        },
        {
         "hovertemplate": "<b>Russell Wilson</b><br>%{y} yds through week %{x}<extra></extra>",
         "line": {
          "color": "#002244"
         },
         "mode": "markers+lines",
         "name": "Russell Wilson",
         "type": "scatter",
         "x": [
          1,
          2,
          3,
          4,
          5,
          10,
          11,
          12,
          13,
          14,
          15,
          16,
          17,
          18
         ],
         "y": [
          254,
          597,
          895,
          1044,
          1196,
          1357,
          1564,
          1811,
          2042,
          2302,
          2458,
          2639,
          2875,
          3113
         ]
        },
        {
         "hovertemplate": "<b>Ryan Tannehill</b><br>%{y} yds through week %{x}<extra></extra>",
         "line": {
          "color": "#002244"
         },
         "mode": "markers+lines",
         "name": "Ryan Tannehill",
         "type": "scatter",
         "x": [
          1,
          2,
          3,
          4,
          5,
          6,
          7,
          8,
          9,
          10,
          11,
          12,
          14,
          15,
          16,
          17,
          18
         ],
         "y": [
          212,
          559,
          756,
          1054,
          1251,
          1467,
          1737,
          2002,
          2145,
          2358,
          2681,
          2774,
          2965,
          3118,
          3327,
          3447,
          3734
         ]
        },
        {
         "hovertemplate": "<b>Sam Darnold</b><br>%{y} yds through week %{x}<extra></extra>",
         "line": {
          "color": "#0085CA"
         },
         "mode": "markers+lines",
         "name": "Sam Darnold",
         "type": "scatter",
         "x": [
          1,
          2,
          3,
          4,
          5,
          6,
          7,
          8,
          9,
          16,
          17,
          18
         ],
         "y": [
          279,
          584,
          888,
          1189,
          1366,
          1573,
          1685,
          1814,
          1986,
          2176,
          2308,
          2527
         ]
        },
        {
         "hovertemplate": "<b>Taylor Heinicke</b><br>%{y} yds through week %{x}<extra></extra>",
         "line": {
          "color": "#5A1414"
         },
         "mode": "markers+lines",
         "name": "Taylor Heinicke",
         "type": "scatter",
         "x": [
          1,
          2,
          3,
          4,
          5,
          6,
          7,
          8,
          10,
          11,
          12,
          13,
          14,
          16,
          17,
          18
         ],
         "y": [
          122,
          458,
          670,
          960,
          1208,
          1390,
          1658,
          1928,
          2184,
          2390,
          2613,
          2809,
          2931,
          3052,
          3299,
          3419
         ]
        },
        {
         "hovertemplate": "<b>Teddy Bridgewater</b><br>%{y} yds through week %{x}<extra></extra>",
         "line": {
          "color": "#002244"
         },
         "mode": "markers+lines",
         "name": "Teddy Bridgewater",
         "type": "scatter",
         "x": [
          1,
          2,
          3,
          4,
          5,
          6,
          7,
          8,
          9,
          10,
          12,
          13,
          14,
          15
         ],
         "y": [
          264,
          592,
          827,
          892,
          1180,
          1514,
          1701,
          1914,
          2163,
          2389,
          2518,
          2775,
          2954,
          3052
         ]
        },
        {
         "hovertemplate": "<b>Tom Brady</b><br>%{y} yds through week %{x}<extra></extra>",
         "line": {
          "color": "#A71930"
         },
         "mode": "markers+lines",
         "name": "Tom Brady",
         "type": "scatter",
         "x": [
          1,
          2,
          3,
          4,
          5,
          6,
          7,
          8,
          10,
          11,
          12,
          13,
          14,
          15,
          16,
          17,
          18
         ],
         "y": [
          379,
          655,
          1087,
          1356,
          1767,
          2064,
          2275,
          2650,
          2870,
          3177,
          3403,
          3771,
          4134,
          4348,
          4580,
          4990,
          5316
         ]
        },
        {
         "hovertemplate": "<b>Trevor Lawrence</b><br>%{y} yds through week %{x}<extra></extra>",
         "line": {
          "color": "#006778"
         },
         "mode": "markers+lines",
         "name": "Trevor Lawrence",
         "type": "scatter",
         "x": [
          1,
          2,
          3,
          4,
          5,
          6,
          8,
          9,
          10,
          11,
          12,
          13,
          14,
          15,
          16,
          17,
          18
         ],
         "y": [
          332,
          450,
          669,
          873,
          1146,
          1465,
          1703,
          1821,
          1983,
          2141,
          2369,
          2514,
          2735,
          2945,
          3225,
          3418,
          3641
         ]
        },
        {
         "hovertemplate": "<b>Trevor Siemian</b><br>%{y} yds through week %{x}<extra></extra>",
         "line": {
          "color": "#D3BC8D"
         },
         "mode": "markers+lines",
         "name": "Trevor Siemian",
         "type": "scatter",
         "x": [
          8,
          9,
          10,
          11,
          12,
          18
         ],
         "y": [
          159,
          408,
          706,
          920,
          1083,
          1154
         ]
        },
        {
         "hovertemplate": "<b>Tua Tagovailoa</b><br>%{y} yds through week %{x}<extra></extra>",
         "line": {
          "color": "#008E97"
         },
         "mode": "markers+lines",
         "name": "Tua Tagovailoa",
         "type": "scatter",
         "x": [
          1,
          2,
          6,
          7,
          8,
          10,
          11,
          12,
          13,
          15,
          16,
          17,
          18
         ],
         "y": [
          202,
          215,
          544,
          835,
          1040,
          1198,
          1471,
          1701,
          1945,
          2141,
          2339,
          2544,
          2653
         ]
        },
        {
         "hovertemplate": "<b>Tyler Huntley</b><br>%{y} yds through week %{x}<extra></extra>",
         "line": {
          "color": "#241773"
         },
         "mode": "markers+lines",
         "name": "Tyler Huntley",
         "type": "scatter",
         "x": [
          7,
          11,
          14,
          15,
          17,
          18
         ],
         "y": [
          39,
          258,
          528,
          743,
          940,
          1081
         ]
        },
        {
         "hovertemplate": "<b>Zach Wilson</b><br>%{y} yds through week %{x}<extra></extra>",
         "line": {
          "color": "#003F2D"
         },
         "mode": "markers+lines",
         "name": "Zach Wilson",
         "type": "scatter",
         "x": [
          1,
          2,
          3,
          4,
          5,
          7,
          12,
          13,
          14,
          15,
          16,
          17,
          18
         ],
         "y": [
          258,
          468,
          628,
          925,
          1117,
          1168,
          1313,
          1539,
          1741,
          1911,
          2013,
          2247,
          2334
         ]
        }
       ],
       "layout": {
        "font": {
         "family": "Averta, sans-serif"
        },
        "height": 1000,
        "hoverlabel": {
         "font": {
          "family": "Averta, sans-serif",
          "size": 16
         }
        },
        "legend": {
         "font": {
          "size": 16
         }
        },
        "template": {
         "data": {
          "bar": [
           {
            "error_x": {
             "color": "#2a3f5f"
            },
            "error_y": {
             "color": "#2a3f5f"
            },
            "marker": {
             "line": {
              "color": "#E5ECF6",
              "width": 0.5
             },
             "pattern": {
              "fillmode": "overlay",
              "size": 10,
              "solidity": 0.2
             }
            },
            "type": "bar"
           }
          ],
          "barpolar": [
           {
            "marker": {
             "line": {
              "color": "#E5ECF6",
              "width": 0.5
             },
             "pattern": {
              "fillmode": "overlay",
              "size": 10,
              "solidity": 0.2
             }
            },
            "type": "barpolar"
           }
          ],
          "carpet": [
           {
            "aaxis": {
             "endlinecolor": "#2a3f5f",
             "gridcolor": "white",
             "linecolor": "white",
             "minorgridcolor": "white",
             "startlinecolor": "#2a3f5f"
            },
            "baxis": {
             "endlinecolor": "#2a3f5f",
             "gridcolor": "white",
             "linecolor": "white",
             "minorgridcolor": "white",
             "startlinecolor": "#2a3f5f"
            },
            "type": "carpet"
           }
          ],
          "choropleth": [
           {
            "colorbar": {
             "outlinewidth": 0,
             "ticks": ""
            },
            "type": "choropleth"
           }
          ],
          "contour": [
           {
            "colorbar": {
             "outlinewidth": 0,
             "ticks": ""
            },
            "colorscale": [
             [
              0,
              "#0d0887"
             ],
             [
              0.1111111111111111,
              "#46039f"
             ],
             [
              0.2222222222222222,
              "#7201a8"
             ],
             [
              0.3333333333333333,
              "#9c179e"
             ],
             [
              0.4444444444444444,
              "#bd3786"
             ],
             [
              0.5555555555555556,
              "#d8576b"
             ],
             [
              0.6666666666666666,
              "#ed7953"
             ],
             [
              0.7777777777777778,
              "#fb9f3a"
             ],
             [
              0.8888888888888888,
              "#fdca26"
             ],
             [
              1,
              "#f0f921"
             ]
            ],
            "type": "contour"
           }
          ],
          "contourcarpet": [
           {
            "colorbar": {
             "outlinewidth": 0,
             "ticks": ""
            },
            "type": "contourcarpet"
           }
          ],
          "heatmap": [
           {
            "colorbar": {
             "outlinewidth": 0,
             "ticks": ""
            },
            "colorscale": [
             [
              0,
              "#0d0887"
             ],
             [
              0.1111111111111111,
              "#46039f"
             ],
             [
              0.2222222222222222,
              "#7201a8"
             ],
             [
              0.3333333333333333,
              "#9c179e"
             ],
             [
              0.4444444444444444,
              "#bd3786"
             ],
             [
              0.5555555555555556,
              "#d8576b"
             ],
             [
              0.6666666666666666,
              "#ed7953"
             ],
             [
              0.7777777777777778,
              "#fb9f3a"
             ],
             [
              0.8888888888888888,
              "#fdca26"
             ],
             [
              1,
              "#f0f921"
             ]
            ],
            "type": "heatmap"
           }
          ],
          "heatmapgl": [
           {
            "colorbar": {
             "outlinewidth": 0,
             "ticks": ""
            },
            "colorscale": [
             [
              0,
              "#0d0887"
             ],
             [
              0.1111111111111111,
              "#46039f"
             ],
             [
              0.2222222222222222,
              "#7201a8"
             ],
             [
              0.3333333333333333,
              "#9c179e"
             ],
             [
              0.4444444444444444,
              "#bd3786"
             ],
             [
              0.5555555555555556,
              "#d8576b"
             ],
             [
              0.6666666666666666,
              "#ed7953"
             ],
             [
              0.7777777777777778,
              "#fb9f3a"
             ],
             [
              0.8888888888888888,
              "#fdca26"
             ],
             [
              1,
              "#f0f921"
             ]
            ],
            "type": "heatmapgl"
           }
          ],
          "histogram": [
           {
            "marker": {
             "pattern": {
              "fillmode": "overlay",
              "size": 10,
              "solidity": 0.2
             }
            },
            "type": "histogram"
           }
          ],
          "histogram2d": [
           {
            "colorbar": {
             "outlinewidth": 0,
             "ticks": ""
            },
            "colorscale": [
             [
              0,
              "#0d0887"
             ],
             [
              0.1111111111111111,
              "#46039f"
             ],
             [
              0.2222222222222222,
              "#7201a8"
             ],
             [
              0.3333333333333333,
              "#9c179e"
             ],
             [
              0.4444444444444444,
              "#bd3786"
             ],
             [
              0.5555555555555556,
              "#d8576b"
             ],
             [
              0.6666666666666666,
              "#ed7953"
             ],
             [
              0.7777777777777778,
              "#fb9f3a"
             ],
             [
              0.8888888888888888,
              "#fdca26"
             ],
             [
              1,
              "#f0f921"
             ]
            ],
            "type": "histogram2d"
           }
          ],
          "histogram2dcontour": [
           {
            "colorbar": {
             "outlinewidth": 0,
             "ticks": ""
            },
            "colorscale": [
             [
              0,
              "#0d0887"
             ],
             [
              0.1111111111111111,
              "#46039f"
             ],
             [
              0.2222222222222222,
              "#7201a8"
             ],
             [
              0.3333333333333333,
              "#9c179e"
             ],
             [
              0.4444444444444444,
              "#bd3786"
             ],
             [
              0.5555555555555556,
              "#d8576b"
             ],
             [
              0.6666666666666666,
              "#ed7953"
             ],
             [
              0.7777777777777778,
              "#fb9f3a"
             ],
             [
              0.8888888888888888,
              "#fdca26"
             ],
             [
              1,
              "#f0f921"
             ]
            ],
            "type": "histogram2dcontour"
           }
          ],
          "mesh3d": [
           {
            "colorbar": {
             "outlinewidth": 0,
             "ticks": ""
            },
            "type": "mesh3d"
           }
          ],
          "parcoords": [
           {
            "line": {
             "colorbar": {
              "outlinewidth": 0,
              "ticks": ""
             }
            },
            "type": "parcoords"
           }
          ],
          "pie": [
           {
            "automargin": true,
            "type": "pie"
           }
          ],
          "scatter": [
           {
            "fillpattern": {
             "fillmode": "overlay",
             "size": 10,
             "solidity": 0.2
            },
            "type": "scatter"
           }
          ],
          "scatter3d": [
           {
            "line": {
             "colorbar": {
              "outlinewidth": 0,
              "ticks": ""
             }
            },
            "marker": {
             "colorbar": {
              "outlinewidth": 0,
              "ticks": ""
             }
            },
            "type": "scatter3d"
           }
          ],
          "scattercarpet": [
           {
            "marker": {
             "colorbar": {
              "outlinewidth": 0,
              "ticks": ""
             }
            },
            "type": "scattercarpet"
           }
          ],
          "scattergeo": [
           {
            "marker": {
             "colorbar": {
              "outlinewidth": 0,
              "ticks": ""
             }
            },
            "type": "scattergeo"
           }
          ],
          "scattergl": [
           {
            "marker": {
             "colorbar": {
              "outlinewidth": 0,
              "ticks": ""
             }
            },
            "type": "scattergl"
           }
          ],
          "scattermapbox": [
           {
            "marker": {
             "colorbar": {
              "outlinewidth": 0,
              "ticks": ""
             }
            },
            "type": "scattermapbox"
           }
          ],
          "scatterpolar": [
           {
            "marker": {
             "colorbar": {
              "outlinewidth": 0,
              "ticks": ""
             }
            },
            "type": "scatterpolar"
           }
          ],
          "scatterpolargl": [
           {
            "marker": {
             "colorbar": {
              "outlinewidth": 0,
              "ticks": ""
             }
            },
            "type": "scatterpolargl"
           }
          ],
          "scatterternary": [
           {
            "marker": {
             "colorbar": {
              "outlinewidth": 0,
              "ticks": ""
             }
            },
            "type": "scatterternary"
           }
          ],
          "surface": [
           {
            "colorbar": {
             "outlinewidth": 0,
             "ticks": ""
            },
            "colorscale": [
             [
              0,
              "#0d0887"
             ],
             [
              0.1111111111111111,
              "#46039f"
             ],
             [
              0.2222222222222222,
              "#7201a8"
             ],
             [
              0.3333333333333333,
              "#9c179e"
             ],
             [
              0.4444444444444444,
              "#bd3786"
             ],
             [
              0.5555555555555556,
              "#d8576b"
             ],
             [
              0.6666666666666666,
              "#ed7953"
             ],
             [
              0.7777777777777778,
              "#fb9f3a"
             ],
             [
              0.8888888888888888,
              "#fdca26"
             ],
             [
              1,
              "#f0f921"
             ]
            ],
            "type": "surface"
           }
          ],
          "table": [
           {
            "cells": {
             "fill": {
              "color": "#EBF0F8"
             },
             "line": {
              "color": "white"
             }
            },
            "header": {
             "fill": {
              "color": "#C8D4E3"
             },
             "line": {
              "color": "white"
             }
            },
            "type": "table"
           }
          ]
         },
         "layout": {
          "annotationdefaults": {
           "arrowcolor": "#2a3f5f",
           "arrowhead": 0,
           "arrowwidth": 1
          },
          "autotypenumbers": "strict",
          "coloraxis": {
           "colorbar": {
            "outlinewidth": 0,
            "ticks": ""
           }
          },
          "colorscale": {
           "diverging": [
            [
             0,
             "#8e0152"
            ],
            [
             0.1,
             "#c51b7d"
            ],
            [
             0.2,
             "#de77ae"
            ],
            [
             0.3,
             "#f1b6da"
            ],
            [
             0.4,
             "#fde0ef"
            ],
            [
             0.5,
             "#f7f7f7"
            ],
            [
             0.6,
             "#e6f5d0"
            ],
            [
             0.7,
             "#b8e186"
            ],
            [
             0.8,
             "#7fbc41"
            ],
            [
             0.9,
             "#4d9221"
            ],
            [
             1,
             "#276419"
            ]
           ],
           "sequential": [
            [
             0,
             "#0d0887"
            ],
            [
             0.1111111111111111,
             "#46039f"
            ],
            [
             0.2222222222222222,
             "#7201a8"
            ],
            [
             0.3333333333333333,
             "#9c179e"
            ],
            [
             0.4444444444444444,
             "#bd3786"
            ],
            [
             0.5555555555555556,
             "#d8576b"
            ],
            [
             0.6666666666666666,
             "#ed7953"
            ],
            [
             0.7777777777777778,
             "#fb9f3a"
            ],
            [
             0.8888888888888888,
             "#fdca26"
            ],
            [
             1,
             "#f0f921"
            ]
           ],
           "sequentialminus": [
            [
             0,
             "#0d0887"
            ],
            [
             0.1111111111111111,
             "#46039f"
            ],
            [
             0.2222222222222222,
             "#7201a8"
            ],
            [
             0.3333333333333333,
             "#9c179e"
            ],
            [
             0.4444444444444444,
             "#bd3786"
            ],
            [
             0.5555555555555556,
             "#d8576b"
            ],
            [
             0.6666666666666666,
             "#ed7953"
            ],
            [
             0.7777777777777778,
             "#fb9f3a"
            ],
            [
             0.8888888888888888,
             "#fdca26"
            ],
            [
             1,
             "#f0f921"
            ]
           ]
          },
          "colorway": [
           "#636efa",
           "#EF553B",
           "#00cc96",
           "#ab63fa",
           "#FFA15A",
           "#19d3f3",
           "#FF6692",
           "#B6E880",
           "#FF97FF",
           "#FECB52"
          ],
          "font": {
           "color": "#2a3f5f"
          },
          "geo": {
           "bgcolor": "white",
           "lakecolor": "white",
           "landcolor": "#E5ECF6",
           "showlakes": true,
           "showland": true,
           "subunitcolor": "white"
          },
          "hoverlabel": {
           "align": "left"
          },
          "hovermode": "closest",
          "mapbox": {
           "style": "light"
          },
          "paper_bgcolor": "white",
          "plot_bgcolor": "#E5ECF6",
          "polar": {
           "angularaxis": {
            "gridcolor": "white",
            "linecolor": "white",
            "ticks": ""
           },
           "bgcolor": "#E5ECF6",
           "radialaxis": {
            "gridcolor": "white",
            "linecolor": "white",
            "ticks": ""
           }
          },
          "scene": {
           "xaxis": {
            "backgroundcolor": "#E5ECF6",
            "gridcolor": "white",
            "gridwidth": 2,
            "linecolor": "white",
            "showbackground": true,
            "ticks": "",
            "zerolinecolor": "white"
           },
           "yaxis": {
            "backgroundcolor": "#E5ECF6",
            "gridcolor": "white",
            "gridwidth": 2,
            "linecolor": "white",
            "showbackground": true,
            "ticks": "",
            "zerolinecolor": "white"
           },
           "zaxis": {
            "backgroundcolor": "#E5ECF6",
            "gridcolor": "white",
            "gridwidth": 2,
            "linecolor": "white",
            "showbackground": true,
            "ticks": "",
            "zerolinecolor": "white"
           }
          },
          "shapedefaults": {
           "line": {
            "color": "#2a3f5f"
           }
          },
          "ternary": {
           "aaxis": {
            "gridcolor": "white",
            "linecolor": "white",
            "ticks": ""
           },
           "baxis": {
            "gridcolor": "white",
            "linecolor": "white",
            "ticks": ""
           },
           "bgcolor": "#E5ECF6",
           "caxis": {
            "gridcolor": "white",
            "linecolor": "white",
            "ticks": ""
           }
          },
          "title": {
           "x": 0.05
          },
          "xaxis": {
           "automargin": true,
           "gridcolor": "white",
           "linecolor": "white",
           "ticks": "",
           "title": {
            "standoff": 15
           },
           "zerolinecolor": "white",
           "zerolinewidth": 2
          },
          "yaxis": {
           "automargin": true,
           "gridcolor": "white",
           "linecolor": "white",
           "ticks": "",
           "title": {
            "standoff": 15
           },
           "zerolinecolor": "white",
           "zerolinewidth": 2
          }
         }
        },
        "width": 1000,
        "xaxis": {
         "tickfont": {
          "size": 16
         },
         "title": {
          "font": {
           "size": 18
          },
          "text": "Week"
         }
        },
        "yaxis": {
         "tickfont": {
          "size": 16
         },
         "title": {
          "font": {
           "size": 18
          },
          "text": "Passing Yards"
         }
        }
       }
      },
      "text/html": [
       "<div>                            <div id=\"0b6e48cb-c812-43aa-8b79-79924ee87e9b\" class=\"plotly-graph-div\" style=\"height:1000px; width:1000px;\"></div>            <script type=\"text/javascript\">                require([\"plotly\"], function(Plotly) {                    window.PLOTLYENV=window.PLOTLYENV || {};                                    if (document.getElementById(\"0b6e48cb-c812-43aa-8b79-79924ee87e9b\")) {                    Plotly.newPlot(                        \"0b6e48cb-c812-43aa-8b79-79924ee87e9b\",                        [{\"hovertemplate\":\"<b>Aaron Rodgers</b><br>%{y} yds through week %{x}<extra></extra>\",\"line\":{\"color\":\"#203731\"},\"mode\":\"markers+lines\",\"name\":\"Aaron Rodgers\",\"x\":[1,2,3,4,5,6,7,8,10,11,12,14,15,16,17,18],\"y\":[133.0,388.0,649.0,897.0,1241.0,1436.0,1710.0,1894.0,2186.0,2571.0,2878.0,3219.0,3487.0,3689.0,3977.0,4115.0],\"type\":\"scatter\"},{\"hovertemplate\":\"<b>Andy Dalton</b><br>%{y} yds through week %{x}<extra></extra>\",\"line\":{\"color\":\"#0B162A\"},\"mode\":\"markers+lines\",\"name\":\"Andy Dalton\",\"x\":[1,2,5,11,12,13,17,18],\"y\":[206.0,262.0,270.0,471.0,788.0,1017.0,1190.0,1515.0],\"type\":\"scatter\"},{\"hovertemplate\":\"<b>Baker Mayfield</b><br>%{y} yds through week %{x}<extra></extra>\",\"line\":{\"color\":\"#FF3C00\"},\"mode\":\"markers+lines\",\"name\":\"Baker Mayfield\",\"x\":[1,2,3,4,5,6,8,9,10,11,12,14,16,17],\"y\":[321.0,534.0,780.0,935.0,1240.0,1474.0,1699.0,1917.0,1990.0,2166.0,2413.0,2603.0,2825.0,3010.0],\"type\":\"scatter\"},{\"hovertemplate\":\"<b>Ben Roethlisberger</b><br>%{y} yds through week %{x}<extra></extra>\",\"line\":{\"color\":\"#000000\"},\"mode\":\"markers+lines\",\"name\":\"Ben Roethlisberger\",\"x\":[1,2,3,4,5,6,8,9,11,12,13,14,15,16,17,18],\"y\":[188.0,483.0,801.0,1033.0,1286.0,1515.0,1781.0,1986.0,2259.0,2522.0,2758.0,3066.0,3214.0,3373.0,3496.0,3740.0],\"type\":\"scatter\"},{\"hovertemplate\":\"<b>Carson Wentz</b><br>%{y} yds through week %{x}<extra></extra>\",\"line\":{\"color\":\"#002C5F\"},\"mode\":\"markers+lines\",\"name\":\"Carson Wentz\",\"x\":[1,2,3,4,5,6,7,8,9,10,11,12,13,15,16,17,18],\"y\":[251.0,498.0,692.0,920.0,1322.0,1545.0,1695.0,1926.0,2198.0,2378.0,2484.0,2790.0,2948.0,3005.0,3230.0,3378.0,3563.0],\"type\":\"scatter\"},{\"hovertemplate\":\"<b>Dak Prescott</b><br>%{y} yds through week %{x}<extra></extra>\",\"line\":{\"color\":\"#002244\"},\"mode\":\"markers+lines\",\"name\":\"Dak Prescott\",\"x\":[1,2,3,4,5,6,9,10,11,12,13,14,15,16,17,18],\"y\":[403.0,640.0,878.0,1066.0,1368.0,1813.0,2045.0,2341.0,2557.0,2932.0,3170.0,3381.0,3598.0,3928.0,4154.0,4449.0],\"type\":\"scatter\"},{\"hovertemplate\":\"<b>Daniel Jones</b><br>%{y} yds through week %{x}<extra></extra>\",\"line\":{\"color\":\"#0B2265\"},\"mode\":\"markers+lines\",\"name\":\"Daniel Jones\",\"x\":[1,2,3,4,5,6,7,8,9,11,12],\"y\":[267.0,516.0,782.0,1184.0,1282.0,1524.0,1727.0,1949.0,2059.0,2226.0,2428.0],\"type\":\"scatter\"},{\"hovertemplate\":\"<b>Davis Mills</b><br>%{y} yds through week %{x}<extra></extra>\",\"line\":{\"color\":\"#03202F\"},\"mode\":\"markers+lines\",\"name\":\"Davis Mills\",\"x\":[2,3,4,5,6,7,8,13,14,15,16,17,18],\"y\":[102.0,270.0,357.0,669.0,912.0,1047.0,1357.0,1406.0,1737.0,1946.0,2200.0,2363.0,2664.0],\"type\":\"scatter\"},{\"hovertemplate\":\"<b>Derek Carr</b><br>%{y} yds through week %{x}<extra></extra>\",\"line\":{\"color\":\"#000000\"},\"mode\":\"markers+lines\",\"name\":\"Derek Carr\",\"x\":[1,2,3,4,5,6,7,9,10,11,12,13,14,15,16,17,18],\"y\":[435.0,817.0,1203.0,1399.0,1605.0,1946.0,2269.0,2565.0,2826.0,3041.0,3414.0,3663.0,3926.0,4162.0,4363.0,4618.0,4804.0],\"type\":\"scatter\"},{\"hovertemplate\":\"<b>Jacoby Brissett</b><br>%{y} yds through week %{x}<extra></extra>\",\"line\":{\"color\":\"#008E97\"},\"mode\":\"markers+lines\",\"name\":\"Jacoby Brissett\",\"x\":[2,3,4,5,6,9,10,16],\"y\":[169.0,384.0,583.0,858.0,883.0,1127.0,1283.0,1283.0],\"type\":\"scatter\"},{\"hovertemplate\":\"<b>Jalen Hurts</b><br>%{y} yds through week %{x}<extra></extra>\",\"line\":{\"color\":\"#004C54\"},\"mode\":\"markers+lines\",\"name\":\"Jalen Hurts\",\"x\":[1,2,3,4,5,6,7,8,9,10,11,12,15,16,17],\"y\":[264.0,454.0,780.0,1167.0,1365.0,1480.0,1716.0,1819.0,1981.0,2159.0,2306.0,2435.0,2731.0,2930.0,3144.0],\"type\":\"scatter\"},{\"hovertemplate\":\"<b>Jameis Winston</b><br>%{y} yds through week %{x}<extra></extra>\",\"line\":{\"color\":\"#D3BC8D\"},\"mode\":\"markers+lines\",\"name\":\"Jameis Winston\",\"x\":[1,2,3,4,5,7,8],\"y\":[148.0,259.0,387.0,613.0,892.0,1114.0,1170.0],\"type\":\"scatter\"},{\"hovertemplate\":\"<b>Jared Goff</b><br>%{y} yds through week %{x}<extra></extra>\",\"line\":{\"color\":\"#0076B6\"},\"mode\":\"markers+lines\",\"name\":\"Jared Goff\",\"x\":[1,2,3,4,5,6,7,8,10,12,13,14,15,18],\"y\":[338.0,584.0,801.0,1100.0,1303.0,1505.0,1773.0,1995.0,2109.0,2280.0,2576.0,2791.0,3007.0,3245.0],\"type\":\"scatter\"},{\"hovertemplate\":\"<b>Jimmy Garoppolo</b><br>%{y} yds through week %{x}<extra></extra>\",\"line\":{\"color\":\"#AA0000\"},\"mode\":\"markers+lines\",\"name\":\"Jimmy Garoppolo\",\"x\":[1,2,3,4,7,8,9,10,11,12,13,14,15,16,18],\"y\":[314.0,503.0,760.0,925.0,1106.0,1428.0,1754.0,1936.0,2112.0,2342.0,2641.0,2937.0,3172.0,3494.0,3810.0],\"type\":\"scatter\"},{\"hovertemplate\":\"<b>Joe Burrow</b><br>%{y} yds through week %{x}<extra></extra>\",\"line\":{\"color\":\"#FB4F14\"},\"mode\":\"markers+lines\",\"name\":\"Joe Burrow\",\"x\":[1,2,3,4,5,6,7,8,9,11,12,13,14,15,16,17],\"y\":[261.0,468.0,640.0,988.0,1269.0,1540.0,1956.0,2215.0,2497.0,2645.0,2835.0,3135.0,3483.0,3640.0,4165.0,4611.0],\"type\":\"scatter\"},{\"hovertemplate\":\"<b>Josh Allen</b><br>%{y} yds through week %{x}<extra></extra>\",\"line\":{\"color\":\"#00338D\"},\"mode\":\"markers+lines\",\"name\":\"Josh Allen\",\"x\":[1,2,3,4,5,6,8,9,10,11,12,13,14,15,16,17,18],\"y\":[270.0,449.0,807.0,1055.0,1370.0,1723.0,1972.0,2236.0,2602.0,2811.0,3071.0,3216.0,3524.0,3734.0,4048.0,4168.0,4407.0],\"type\":\"scatter\"},{\"hovertemplate\":\"<b>Justin Fields</b><br>%{y} yds through week %{x}<extra></extra>\",\"line\":{\"color\":\"#0B162A\"},\"mode\":\"markers+lines\",\"name\":\"Justin Fields\",\"x\":[1,2,3,4,5,6,7,8,9,11,14,15],\"y\":[10.0,70.0,138.0,347.0,458.0,632.0,816.0,991.0,1282.0,1361.0,1585.0,1870.0],\"type\":\"scatter\"},{\"hovertemplate\":\"<b>Justin Herbert</b><br>%{y} yds through week %{x}<extra></extra>\",\"line\":{\"color\":\"#007BC7\"},\"mode\":\"markers+lines\",\"name\":\"Justin Herbert\",\"x\":[1,2,3,4,5,6,8,9,10,11,12,13,14,15,16,17,18],\"y\":[337.0,675.0,956.0,1178.0,1576.0,1771.0,1994.0,2350.0,2545.0,2927.0,3230.0,3547.0,3822.0,4058.0,4394.0,4631.0,5014.0],\"type\":\"scatter\"},{\"hovertemplate\":\"<b>Kirk Cousins</b><br>%{y} yds through week %{x}<extra></extra>\",\"line\":{\"color\":\"#4F2683\"},\"mode\":\"markers+lines\",\"name\":\"Kirk Cousins\",\"x\":[1,2,3,4,5,6,8,9,10,11,12,13,14,15,16,18],\"y\":[351.0,595.0,918.0,1121.0,1396.0,1769.0,1953.0,2140.0,2434.0,2775.0,3013.0,3353.0,3569.0,3656.0,3971.0,4221.0],\"type\":\"scatter\"},{\"hovertemplate\":\"<b>Kyler Murray</b><br>%{y} yds through week %{x}<extra></extra>\",\"line\":{\"color\":\"#97233F\"},\"mode\":\"markers+lines\",\"name\":\"Kyler Murray\",\"x\":[1,2,3,4,5,6,7,8,13,14,15,16,17,18],\"y\":[289.0,689.0,1005.0,1273.0,1512.0,1741.0,2002.0,2276.0,2399.0,2782.0,3039.0,3284.0,3547.0,3787.0],\"type\":\"scatter\"},{\"hovertemplate\":\"<b>Lamar Jackson</b><br>%{y} yds through week %{x}<extra></extra>\",\"line\":{\"color\":\"#241773\"},\"mode\":\"markers+lines\",\"name\":\"Lamar Jackson\",\"x\":[1,2,3,4,5,6,7,9,10,12,13,14],\"y\":[235.0,474.0,761.0,1077.0,1519.0,1686.0,1943.0,2209.0,2447.0,2612.0,2865.0,2882.0],\"type\":\"scatter\"},{\"hovertemplate\":\"<b>Mac Jones</b><br>%{y} yds through week %{x}<extra></extra>\",\"line\":{\"color\":\"#002244\"},\"mode\":\"markers+lines\",\"name\":\"Mac Jones\",\"x\":[1,2,3,4,5,6,7,8,9,10,11,12,13,15,16,17,18],\"y\":[281.0,467.0,737.0,1012.0,1243.0,1472.0,1779.0,1996.0,2135.0,2333.0,2540.0,2850.0,2869.0,3168.0,3313.0,3540.0,3801.0],\"type\":\"scatter\"},{\"hovertemplate\":\"<b>Matt Ryan</b><br>%{y} yds through week %{x}<extra></extra>\",\"line\":{\"color\":\"#A71930\"},\"mode\":\"markers+lines\",\"name\":\"Matt Ryan\",\"x\":[1,2,3,4,5,7,8,9,10,11,12,13,14,15,16,17,18],\"y\":[164.0,464.0,707.0,990.0,1332.0,1668.0,1814.0,2157.0,2274.0,2427.0,2617.0,2914.0,3104.0,3340.0,3555.0,3752.0,3968.0],\"type\":\"scatter\"},{\"hovertemplate\":\"<b>Matthew Stafford</b><br>%{y} yds through week %{x}<extra></extra>\",\"line\":{\"color\":\"#003594\"},\"mode\":\"markers+lines\",\"name\":\"Matthew Stafford\",\"x\":[1,2,3,4,5,6,7,8,9,10,12,13,14,15,16,17,18],\"y\":[321.0,599.0,942.0,1222.0,1587.0,1838.0,2172.0,2477.0,2771.0,3014.0,3316.0,3611.0,3898.0,4142.0,4339.0,4648.0,4886.0],\"type\":\"scatter\"},{\"hovertemplate\":\"<b>Patrick Mahomes</b><br>%{y} yds through week %{x}<extra></extra>\",\"line\":{\"color\":\"#E31837\"},\"mode\":\"markers+lines\",\"name\":\"Patrick Mahomes\",\"x\":[1,2,3,4,5,6,7,8,9,10,11,13,14,15,16,17,18],\"y\":[337.0,680.0,940.0,1218.0,1490.0,1887.0,2093.0,2368.0,2534.0,2940.0,3200.0,3384.0,3642.0,4052.0,4310.0,4569.0,4839.0],\"type\":\"scatter\"},{\"hovertemplate\":\"<b>Russell Wilson</b><br>%{y} yds through week %{x}<extra></extra>\",\"line\":{\"color\":\"#002244\"},\"mode\":\"markers+lines\",\"name\":\"Russell Wilson\",\"x\":[1,2,3,4,5,10,11,12,13,14,15,16,17,18],\"y\":[254.0,597.0,895.0,1044.0,1196.0,1357.0,1564.0,1811.0,2042.0,2302.0,2458.0,2639.0,2875.0,3113.0],\"type\":\"scatter\"},{\"hovertemplate\":\"<b>Ryan Tannehill</b><br>%{y} yds through week %{x}<extra></extra>\",\"line\":{\"color\":\"#002244\"},\"mode\":\"markers+lines\",\"name\":\"Ryan Tannehill\",\"x\":[1,2,3,4,5,6,7,8,9,10,11,12,14,15,16,17,18],\"y\":[212.0,559.0,756.0,1054.0,1251.0,1467.0,1737.0,2002.0,2145.0,2358.0,2681.0,2774.0,2965.0,3118.0,3327.0,3447.0,3734.0],\"type\":\"scatter\"},{\"hovertemplate\":\"<b>Sam Darnold</b><br>%{y} yds through week %{x}<extra></extra>\",\"line\":{\"color\":\"#0085CA\"},\"mode\":\"markers+lines\",\"name\":\"Sam Darnold\",\"x\":[1,2,3,4,5,6,7,8,9,16,17,18],\"y\":[279.0,584.0,888.0,1189.0,1366.0,1573.0,1685.0,1814.0,1986.0,2176.0,2308.0,2527.0],\"type\":\"scatter\"},{\"hovertemplate\":\"<b>Taylor Heinicke</b><br>%{y} yds through week %{x}<extra></extra>\",\"line\":{\"color\":\"#5A1414\"},\"mode\":\"markers+lines\",\"name\":\"Taylor Heinicke\",\"x\":[1,2,3,4,5,6,7,8,10,11,12,13,14,16,17,18],\"y\":[122.0,458.0,670.0,960.0,1208.0,1390.0,1658.0,1928.0,2184.0,2390.0,2613.0,2809.0,2931.0,3052.0,3299.0,3419.0],\"type\":\"scatter\"},{\"hovertemplate\":\"<b>Teddy Bridgewater</b><br>%{y} yds through week %{x}<extra></extra>\",\"line\":{\"color\":\"#002244\"},\"mode\":\"markers+lines\",\"name\":\"Teddy Bridgewater\",\"x\":[1,2,3,4,5,6,7,8,9,10,12,13,14,15],\"y\":[264.0,592.0,827.0,892.0,1180.0,1514.0,1701.0,1914.0,2163.0,2389.0,2518.0,2775.0,2954.0,3052.0],\"type\":\"scatter\"},{\"hovertemplate\":\"<b>Tom Brady</b><br>%{y} yds through week %{x}<extra></extra>\",\"line\":{\"color\":\"#A71930\"},\"mode\":\"markers+lines\",\"name\":\"Tom Brady\",\"x\":[1,2,3,4,5,6,7,8,10,11,12,13,14,15,16,17,18],\"y\":[379.0,655.0,1087.0,1356.0,1767.0,2064.0,2275.0,2650.0,2870.0,3177.0,3403.0,3771.0,4134.0,4348.0,4580.0,4990.0,5316.0],\"type\":\"scatter\"},{\"hovertemplate\":\"<b>Trevor Lawrence</b><br>%{y} yds through week %{x}<extra></extra>\",\"line\":{\"color\":\"#006778\"},\"mode\":\"markers+lines\",\"name\":\"Trevor Lawrence\",\"x\":[1,2,3,4,5,6,8,9,10,11,12,13,14,15,16,17,18],\"y\":[332.0,450.0,669.0,873.0,1146.0,1465.0,1703.0,1821.0,1983.0,2141.0,2369.0,2514.0,2735.0,2945.0,3225.0,3418.0,3641.0],\"type\":\"scatter\"},{\"hovertemplate\":\"<b>Trevor Siemian</b><br>%{y} yds through week %{x}<extra></extra>\",\"line\":{\"color\":\"#D3BC8D\"},\"mode\":\"markers+lines\",\"name\":\"Trevor Siemian\",\"x\":[8,9,10,11,12,18],\"y\":[159.0,408.0,706.0,920.0,1083.0,1154.0],\"type\":\"scatter\"},{\"hovertemplate\":\"<b>Tua Tagovailoa</b><br>%{y} yds through week %{x}<extra></extra>\",\"line\":{\"color\":\"#008E97\"},\"mode\":\"markers+lines\",\"name\":\"Tua Tagovailoa\",\"x\":[1,2,6,7,8,10,11,12,13,15,16,17,18],\"y\":[202.0,215.0,544.0,835.0,1040.0,1198.0,1471.0,1701.0,1945.0,2141.0,2339.0,2544.0,2653.0],\"type\":\"scatter\"},{\"hovertemplate\":\"<b>Tyler Huntley</b><br>%{y} yds through week %{x}<extra></extra>\",\"line\":{\"color\":\"#241773\"},\"mode\":\"markers+lines\",\"name\":\"Tyler Huntley\",\"x\":[7,11,14,15,17,18],\"y\":[39.0,258.0,528.0,743.0,940.0,1081.0],\"type\":\"scatter\"},{\"hovertemplate\":\"<b>Zach Wilson</b><br>%{y} yds through week %{x}<extra></extra>\",\"line\":{\"color\":\"#003F2D\"},\"mode\":\"markers+lines\",\"name\":\"Zach Wilson\",\"x\":[1,2,3,4,5,7,12,13,14,15,16,17,18],\"y\":[258.0,468.0,628.0,925.0,1117.0,1168.0,1313.0,1539.0,1741.0,1911.0,2013.0,2247.0,2334.0],\"type\":\"scatter\"}],                        {\"template\":{\"data\":{\"histogram2dcontour\":[{\"type\":\"histogram2dcontour\",\"colorbar\":{\"outlinewidth\":0,\"ticks\":\"\"},\"colorscale\":[[0.0,\"#0d0887\"],[0.1111111111111111,\"#46039f\"],[0.2222222222222222,\"#7201a8\"],[0.3333333333333333,\"#9c179e\"],[0.4444444444444444,\"#bd3786\"],[0.5555555555555556,\"#d8576b\"],[0.6666666666666666,\"#ed7953\"],[0.7777777777777778,\"#fb9f3a\"],[0.8888888888888888,\"#fdca26\"],[1.0,\"#f0f921\"]]}],\"choropleth\":[{\"type\":\"choropleth\",\"colorbar\":{\"outlinewidth\":0,\"ticks\":\"\"}}],\"histogram2d\":[{\"type\":\"histogram2d\",\"colorbar\":{\"outlinewidth\":0,\"ticks\":\"\"},\"colorscale\":[[0.0,\"#0d0887\"],[0.1111111111111111,\"#46039f\"],[0.2222222222222222,\"#7201a8\"],[0.3333333333333333,\"#9c179e\"],[0.4444444444444444,\"#bd3786\"],[0.5555555555555556,\"#d8576b\"],[0.6666666666666666,\"#ed7953\"],[0.7777777777777778,\"#fb9f3a\"],[0.8888888888888888,\"#fdca26\"],[1.0,\"#f0f921\"]]}],\"heatmap\":[{\"type\":\"heatmap\",\"colorbar\":{\"outlinewidth\":0,\"ticks\":\"\"},\"colorscale\":[[0.0,\"#0d0887\"],[0.1111111111111111,\"#46039f\"],[0.2222222222222222,\"#7201a8\"],[0.3333333333333333,\"#9c179e\"],[0.4444444444444444,\"#bd3786\"],[0.5555555555555556,\"#d8576b\"],[0.6666666666666666,\"#ed7953\"],[0.7777777777777778,\"#fb9f3a\"],[0.8888888888888888,\"#fdca26\"],[1.0,\"#f0f921\"]]}],\"heatmapgl\":[{\"type\":\"heatmapgl\",\"colorbar\":{\"outlinewidth\":0,\"ticks\":\"\"},\"colorscale\":[[0.0,\"#0d0887\"],[0.1111111111111111,\"#46039f\"],[0.2222222222222222,\"#7201a8\"],[0.3333333333333333,\"#9c179e\"],[0.4444444444444444,\"#bd3786\"],[0.5555555555555556,\"#d8576b\"],[0.6666666666666666,\"#ed7953\"],[0.7777777777777778,\"#fb9f3a\"],[0.8888888888888888,\"#fdca26\"],[1.0,\"#f0f921\"]]}],\"contourcarpet\":[{\"type\":\"contourcarpet\",\"colorbar\":{\"outlinewidth\":0,\"ticks\":\"\"}}],\"contour\":[{\"type\":\"contour\",\"colorbar\":{\"outlinewidth\":0,\"ticks\":\"\"},\"colorscale\":[[0.0,\"#0d0887\"],[0.1111111111111111,\"#46039f\"],[0.2222222222222222,\"#7201a8\"],[0.3333333333333333,\"#9c179e\"],[0.4444444444444444,\"#bd3786\"],[0.5555555555555556,\"#d8576b\"],[0.6666666666666666,\"#ed7953\"],[0.7777777777777778,\"#fb9f3a\"],[0.8888888888888888,\"#fdca26\"],[1.0,\"#f0f921\"]]}],\"surface\":[{\"type\":\"surface\",\"colorbar\":{\"outlinewidth\":0,\"ticks\":\"\"},\"colorscale\":[[0.0,\"#0d0887\"],[0.1111111111111111,\"#46039f\"],[0.2222222222222222,\"#7201a8\"],[0.3333333333333333,\"#9c179e\"],[0.4444444444444444,\"#bd3786\"],[0.5555555555555556,\"#d8576b\"],[0.6666666666666666,\"#ed7953\"],[0.7777777777777778,\"#fb9f3a\"],[0.8888888888888888,\"#fdca26\"],[1.0,\"#f0f921\"]]}],\"mesh3d\":[{\"type\":\"mesh3d\",\"colorbar\":{\"outlinewidth\":0,\"ticks\":\"\"}}],\"scatter\":[{\"fillpattern\":{\"fillmode\":\"overlay\",\"size\":10,\"solidity\":0.2},\"type\":\"scatter\"}],\"parcoords\":[{\"type\":\"parcoords\",\"line\":{\"colorbar\":{\"outlinewidth\":0,\"ticks\":\"\"}}}],\"scatterpolargl\":[{\"type\":\"scatterpolargl\",\"marker\":{\"colorbar\":{\"outlinewidth\":0,\"ticks\":\"\"}}}],\"bar\":[{\"error_x\":{\"color\":\"#2a3f5f\"},\"error_y\":{\"color\":\"#2a3f5f\"},\"marker\":{\"line\":{\"color\":\"#E5ECF6\",\"width\":0.5},\"pattern\":{\"fillmode\":\"overlay\",\"size\":10,\"solidity\":0.2}},\"type\":\"bar\"}],\"scattergeo\":[{\"type\":\"scattergeo\",\"marker\":{\"colorbar\":{\"outlinewidth\":0,\"ticks\":\"\"}}}],\"scatterpolar\":[{\"type\":\"scatterpolar\",\"marker\":{\"colorbar\":{\"outlinewidth\":0,\"ticks\":\"\"}}}],\"histogram\":[{\"marker\":{\"pattern\":{\"fillmode\":\"overlay\",\"size\":10,\"solidity\":0.2}},\"type\":\"histogram\"}],\"scattergl\":[{\"type\":\"scattergl\",\"marker\":{\"colorbar\":{\"outlinewidth\":0,\"ticks\":\"\"}}}],\"scatter3d\":[{\"type\":\"scatter3d\",\"line\":{\"colorbar\":{\"outlinewidth\":0,\"ticks\":\"\"}},\"marker\":{\"colorbar\":{\"outlinewidth\":0,\"ticks\":\"\"}}}],\"scattermapbox\":[{\"type\":\"scattermapbox\",\"marker\":{\"colorbar\":{\"outlinewidth\":0,\"ticks\":\"\"}}}],\"scatterternary\":[{\"type\":\"scatterternary\",\"marker\":{\"colorbar\":{\"outlinewidth\":0,\"ticks\":\"\"}}}],\"scattercarpet\":[{\"type\":\"scattercarpet\",\"marker\":{\"colorbar\":{\"outlinewidth\":0,\"ticks\":\"\"}}}],\"carpet\":[{\"aaxis\":{\"endlinecolor\":\"#2a3f5f\",\"gridcolor\":\"white\",\"linecolor\":\"white\",\"minorgridcolor\":\"white\",\"startlinecolor\":\"#2a3f5f\"},\"baxis\":{\"endlinecolor\":\"#2a3f5f\",\"gridcolor\":\"white\",\"linecolor\":\"white\",\"minorgridcolor\":\"white\",\"startlinecolor\":\"#2a3f5f\"},\"type\":\"carpet\"}],\"table\":[{\"cells\":{\"fill\":{\"color\":\"#EBF0F8\"},\"line\":{\"color\":\"white\"}},\"header\":{\"fill\":{\"color\":\"#C8D4E3\"},\"line\":{\"color\":\"white\"}},\"type\":\"table\"}],\"barpolar\":[{\"marker\":{\"line\":{\"color\":\"#E5ECF6\",\"width\":0.5},\"pattern\":{\"fillmode\":\"overlay\",\"size\":10,\"solidity\":0.2}},\"type\":\"barpolar\"}],\"pie\":[{\"automargin\":true,\"type\":\"pie\"}]},\"layout\":{\"autotypenumbers\":\"strict\",\"colorway\":[\"#636efa\",\"#EF553B\",\"#00cc96\",\"#ab63fa\",\"#FFA15A\",\"#19d3f3\",\"#FF6692\",\"#B6E880\",\"#FF97FF\",\"#FECB52\"],\"font\":{\"color\":\"#2a3f5f\"},\"hovermode\":\"closest\",\"hoverlabel\":{\"align\":\"left\"},\"paper_bgcolor\":\"white\",\"plot_bgcolor\":\"#E5ECF6\",\"polar\":{\"bgcolor\":\"#E5ECF6\",\"angularaxis\":{\"gridcolor\":\"white\",\"linecolor\":\"white\",\"ticks\":\"\"},\"radialaxis\":{\"gridcolor\":\"white\",\"linecolor\":\"white\",\"ticks\":\"\"}},\"ternary\":{\"bgcolor\":\"#E5ECF6\",\"aaxis\":{\"gridcolor\":\"white\",\"linecolor\":\"white\",\"ticks\":\"\"},\"baxis\":{\"gridcolor\":\"white\",\"linecolor\":\"white\",\"ticks\":\"\"},\"caxis\":{\"gridcolor\":\"white\",\"linecolor\":\"white\",\"ticks\":\"\"}},\"coloraxis\":{\"colorbar\":{\"outlinewidth\":0,\"ticks\":\"\"}},\"colorscale\":{\"sequential\":[[0.0,\"#0d0887\"],[0.1111111111111111,\"#46039f\"],[0.2222222222222222,\"#7201a8\"],[0.3333333333333333,\"#9c179e\"],[0.4444444444444444,\"#bd3786\"],[0.5555555555555556,\"#d8576b\"],[0.6666666666666666,\"#ed7953\"],[0.7777777777777778,\"#fb9f3a\"],[0.8888888888888888,\"#fdca26\"],[1.0,\"#f0f921\"]],\"sequentialminus\":[[0.0,\"#0d0887\"],[0.1111111111111111,\"#46039f\"],[0.2222222222222222,\"#7201a8\"],[0.3333333333333333,\"#9c179e\"],[0.4444444444444444,\"#bd3786\"],[0.5555555555555556,\"#d8576b\"],[0.6666666666666666,\"#ed7953\"],[0.7777777777777778,\"#fb9f3a\"],[0.8888888888888888,\"#fdca26\"],[1.0,\"#f0f921\"]],\"diverging\":[[0,\"#8e0152\"],[0.1,\"#c51b7d\"],[0.2,\"#de77ae\"],[0.3,\"#f1b6da\"],[0.4,\"#fde0ef\"],[0.5,\"#f7f7f7\"],[0.6,\"#e6f5d0\"],[0.7,\"#b8e186\"],[0.8,\"#7fbc41\"],[0.9,\"#4d9221\"],[1,\"#276419\"]]},\"xaxis\":{\"gridcolor\":\"white\",\"linecolor\":\"white\",\"ticks\":\"\",\"title\":{\"standoff\":15},\"zerolinecolor\":\"white\",\"automargin\":true,\"zerolinewidth\":2},\"yaxis\":{\"gridcolor\":\"white\",\"linecolor\":\"white\",\"ticks\":\"\",\"title\":{\"standoff\":15},\"zerolinecolor\":\"white\",\"automargin\":true,\"zerolinewidth\":2},\"scene\":{\"xaxis\":{\"backgroundcolor\":\"#E5ECF6\",\"gridcolor\":\"white\",\"linecolor\":\"white\",\"showbackground\":true,\"ticks\":\"\",\"zerolinecolor\":\"white\",\"gridwidth\":2},\"yaxis\":{\"backgroundcolor\":\"#E5ECF6\",\"gridcolor\":\"white\",\"linecolor\":\"white\",\"showbackground\":true,\"ticks\":\"\",\"zerolinecolor\":\"white\",\"gridwidth\":2},\"zaxis\":{\"backgroundcolor\":\"#E5ECF6\",\"gridcolor\":\"white\",\"linecolor\":\"white\",\"showbackground\":true,\"ticks\":\"\",\"zerolinecolor\":\"white\",\"gridwidth\":2}},\"shapedefaults\":{\"line\":{\"color\":\"#2a3f5f\"}},\"annotationdefaults\":{\"arrowcolor\":\"#2a3f5f\",\"arrowhead\":0,\"arrowwidth\":1},\"geo\":{\"bgcolor\":\"white\",\"landcolor\":\"#E5ECF6\",\"subunitcolor\":\"white\",\"showland\":true,\"showlakes\":true,\"lakecolor\":\"white\"},\"title\":{\"x\":0.05},\"mapbox\":{\"style\":\"light\"}}},\"font\":{\"family\":\"Averta, sans-serif\"},\"hoverlabel\":{\"font\":{\"family\":\"Averta, sans-serif\",\"size\":16}},\"xaxis\":{\"title\":{\"font\":{\"size\":18},\"text\":\"Week\"},\"tickfont\":{\"size\":16}},\"yaxis\":{\"title\":{\"font\":{\"size\":18},\"text\":\"Passing Yards\"},\"tickfont\":{\"size\":16}},\"legend\":{\"font\":{\"size\":16}},\"height\":1000,\"width\":1000},                        {\"responsive\": true}                    ).then(function(){\n",
       "                            \n",
       "var gd = document.getElementById('0b6e48cb-c812-43aa-8b79-79924ee87e9b');\n",
       "var x = new MutationObserver(function (mutations, observer) {{\n",
       "        var display = window.getComputedStyle(gd).display;\n",
       "        if (!display || display === 'none') {{\n",
       "            console.log([gd, 'removed!']);\n",
       "            Plotly.purge(gd);\n",
       "            observer.disconnect();\n",
       "        }}\n",
       "}});\n",
       "\n",
       "// Listen for the removal of the full notebook cells\n",
       "var notebookContainer = gd.closest('#notebook-container');\n",
       "if (notebookContainer) {{\n",
       "    x.observe(notebookContainer, {childList: true});\n",
       "}}\n",
       "\n",
       "// Listen for the clearing of the current output cell\n",
       "var outputEl = gd.closest('.output');\n",
       "if (outputEl) {{\n",
       "    x.observe(outputEl, {childList: true});\n",
       "}}\n",
       "\n",
       "                        })                };                });            </script>        </div>"
      ]
     },
     "metadata": {},
     "output_type": "display_data"
    }
   ],
   "source": [
    "fig = go.Figure()\n",
    "for name, values in df_agg.groupby(\"player_name\"):\n",
    "    if values[\"passing_yards\"].sum() > 1000:\n",
    "        fig.add_trace(\n",
    "            go.Scatter(\n",
    "                x=values[\"week\"], \n",
    "                y=values[\"passing_yards\"].cumsum(), \n",
    "                name=name, \n",
    "                mode=\"markers+lines\", \n",
    "                line_color=values.iloc[0].team_color,\n",
    "                hovertemplate=f\"<b>{name}</b><br>%{{y}} yds through week %{{x}}<extra></extra>\"\n",
    "            )\n",
    "        )\n",
    "    \n",
    "fig.update_layout(\n",
    "    font_family=\"Averta, sans-serif\",\n",
    "    hoverlabel_font_family=\"Averta, sans-serif\",\n",
    "    xaxis_title_text=\"Week\",\n",
    "    xaxis_title_font_size=18,\n",
    "    xaxis_tickfont_size=16,\n",
    "    yaxis_title_text=\"Passing Yards\",\n",
    "    yaxis_title_font_size=18,\n",
    "    yaxis_tickfont_size=16,\n",
    "    hoverlabel_font_size=16,\n",
    "    legend_font_size=16,\n",
    "    height=1000,\n",
    "    width=1000\n",
    ")\n",
    "    \n",
    "fig.show()"
   ]
  },
  {
   "cell_type": "code",
   "execution_count": 15,
   "id": "55501f3b",
   "metadata": {},
   "outputs": [
    {
     "data": {
      "application/vnd.plotly.v1+json": {
       "config": {
        "plotlyServerURL": "https://plot.ly"
       },
       "data": [
        {
         "hovertemplate": "<b>Aaron Rodgers</b><br>%{y} pass TDs through week %{x}<extra></extra>",
         "line": {
          "color": "#203731"
         },
         "mode": "markers+lines",
         "name": "Aaron Rodgers",
         "type": "scatter",
         "x": [
          1,
          2,
          3,
          4,
          5,
          6,
          7,
          8,
          10,
          11,
          12,
          14,
          15,
          16,
          17,
          18
         ],
         "y": [
          0,
          4,
          6,
          8,
          10,
          12,
          15,
          17,
          17,
          21,
          23,
          27,
          30,
          33,
          35,
          37
         ]
        },
        {
         "hovertemplate": "<b>Andy Dalton</b><br>%{y} pass TDs through week %{x}<extra></extra>",
         "line": {
          "color": "#0B162A"
         },
         "mode": "markers+lines",
         "name": "Andy Dalton",
         "type": "scatter",
         "x": [
          1,
          2,
          5,
          11,
          12,
          13,
          17,
          18
         ],
         "y": [
          0,
          1,
          1,
          3,
          4,
          6,
          7,
          8
         ]
        },
        {
         "hovertemplate": "<b>Baker Mayfield</b><br>%{y} pass TDs through week %{x}<extra></extra>",
         "line": {
          "color": "#FF3C00"
         },
         "mode": "markers+lines",
         "name": "Baker Mayfield",
         "type": "scatter",
         "x": [
          1,
          2,
          3,
          4,
          5,
          6,
          8,
          9,
          10,
          11,
          12,
          14,
          16,
          17
         ],
         "y": [
          0,
          1,
          2,
          2,
          4,
          6,
          6,
          8,
          9,
          10,
          11,
          13,
          15,
          17
         ]
        },
        {
         "hovertemplate": "<b>Ben Roethlisberger</b><br>%{y} pass TDs through week %{x}<extra></extra>",
         "line": {
          "color": "#000000"
         },
         "mode": "markers+lines",
         "name": "Ben Roethlisberger",
         "type": "scatter",
         "x": [
          1,
          2,
          3,
          4,
          5,
          6,
          8,
          9,
          11,
          12,
          13,
          14,
          15,
          16,
          17,
          18
         ],
         "y": [
          1,
          2,
          3,
          4,
          6,
          7,
          8,
          10,
          13,
          14,
          16,
          19,
          19,
          20,
          21,
          22
         ]
        },
        {
         "hovertemplate": "<b>Carson Wentz</b><br>%{y} pass TDs through week %{x}<extra></extra>",
         "line": {
          "color": "#002C5F"
         },
         "mode": "markers+lines",
         "name": "Carson Wentz",
         "type": "scatter",
         "x": [
          1,
          2,
          3,
          4,
          5,
          6,
          7,
          8,
          9,
          10,
          11,
          12,
          13,
          15,
          16,
          17,
          18
         ],
         "y": [
          2,
          3,
          3,
          5,
          7,
          9,
          11,
          14,
          17,
          17,
          18,
          21,
          22,
          23,
          25,
          26,
          27
         ]
        },
        {
         "hovertemplate": "<b>Dak Prescott</b><br>%{y} pass TDs through week %{x}<extra></extra>",
         "line": {
          "color": "#002244"
         },
         "mode": "markers+lines",
         "name": "Dak Prescott",
         "type": "scatter",
         "x": [
          1,
          2,
          3,
          4,
          5,
          6,
          9,
          10,
          11,
          12,
          13,
          14,
          15,
          16,
          17,
          18
         ],
         "y": [
          3,
          3,
          6,
          10,
          13,
          16,
          18,
          20,
          20,
          22,
          23,
          24,
          25,
          29,
          32,
          37
         ]
        },
        {
         "hovertemplate": "<b>Daniel Jones</b><br>%{y} pass TDs through week %{x}<extra></extra>",
         "line": {
          "color": "#0B2265"
         },
         "mode": "markers+lines",
         "name": "Daniel Jones",
         "type": "scatter",
         "x": [
          1,
          2,
          3,
          4,
          5,
          6,
          7,
          8,
          9,
          11,
          12
         ],
         "y": [
          1,
          2,
          2,
          4,
          4,
          4,
          5,
          7,
          8,
          9,
          10
         ]
        },
        {
         "hovertemplate": "<b>Davis Mills</b><br>%{y} pass TDs through week %{x}<extra></extra>",
         "line": {
          "color": "#03202F"
         },
         "mode": "markers+lines",
         "name": "Davis Mills",
         "type": "scatter",
         "x": [
          2,
          3,
          4,
          5,
          6,
          7,
          8,
          13,
          14,
          15,
          16,
          17,
          18
         ],
         "y": [
          1,
          2,
          2,
          5,
          5,
          5,
          7,
          7,
          8,
          10,
          12,
          13,
          16
         ]
        },
        {
         "hovertemplate": "<b>Derek Carr</b><br>%{y} pass TDs through week %{x}<extra></extra>",
         "line": {
          "color": "#000000"
         },
         "mode": "markers+lines",
         "name": "Derek Carr",
         "type": "scatter",
         "x": [
          1,
          2,
          3,
          4,
          5,
          6,
          7,
          9,
          10,
          11,
          12,
          13,
          14,
          15,
          16,
          17,
          18
         ],
         "y": [
          2,
          4,
          6,
          8,
          8,
          10,
          12,
          13,
          15,
          16,
          17,
          17,
          18,
          19,
          20,
          21,
          23
         ]
        },
        {
         "hovertemplate": "<b>Jalen Hurts</b><br>%{y} pass TDs through week %{x}<extra></extra>",
         "line": {
          "color": "#004C54"
         },
         "mode": "markers+lines",
         "name": "Jalen Hurts",
         "type": "scatter",
         "x": [
          1,
          2,
          3,
          4,
          5,
          6,
          7,
          8,
          9,
          10,
          11,
          12,
          15,
          16,
          17
         ],
         "y": [
          3,
          3,
          5,
          7,
          7,
          8,
          10,
          10,
          11,
          13,
          13,
          13,
          14,
          16,
          16
         ]
        },
        {
         "hovertemplate": "<b>Jameis Winston</b><br>%{y} pass TDs through week %{x}<extra></extra>",
         "line": {
          "color": "#D3BC8D"
         },
         "mode": "markers+lines",
         "name": "Jameis Winston",
         "type": "scatter",
         "x": [
          1,
          2,
          3,
          4,
          5,
          7,
          8
         ],
         "y": [
          5,
          5,
          7,
          8,
          12,
          13,
          14
         ]
        },
        {
         "hovertemplate": "<b>Jared Goff</b><br>%{y} pass TDs through week %{x}<extra></extra>",
         "line": {
          "color": "#0076B6"
         },
         "mode": "markers+lines",
         "name": "Jared Goff",
         "type": "scatter",
         "x": [
          1,
          2,
          3,
          4,
          5,
          6,
          7,
          8,
          10,
          12,
          13,
          14,
          15,
          18
         ],
         "y": [
          3,
          5,
          5,
          7,
          7,
          7,
          8,
          8,
          8,
          10,
          13,
          14,
          17,
          19
         ]
        },
        {
         "hovertemplate": "<b>Jimmy Garoppolo</b><br>%{y} pass TDs through week %{x}<extra></extra>",
         "line": {
          "color": "#AA0000"
         },
         "mode": "markers+lines",
         "name": "Jimmy Garoppolo",
         "type": "scatter",
         "x": [
          1,
          2,
          3,
          4,
          7,
          8,
          9,
          10,
          11,
          12,
          13,
          14,
          15,
          16,
          18
         ],
         "y": [
          1,
          2,
          4,
          5,
          6,
          6,
          8,
          10,
          12,
          13,
          15,
          17,
          18,
          19,
          20
         ]
        },
        {
         "hovertemplate": "<b>Joe Burrow</b><br>%{y} pass TDs through week %{x}<extra></extra>",
         "line": {
          "color": "#FB4F14"
         },
         "mode": "markers+lines",
         "name": "Joe Burrow",
         "type": "scatter",
         "x": [
          1,
          2,
          3,
          4,
          5,
          6,
          7,
          8,
          9,
          11,
          12,
          13,
          14,
          15,
          16,
          17
         ],
         "y": [
          2,
          4,
          7,
          9,
          11,
          14,
          17,
          20,
          20,
          21,
          22,
          23,
          25,
          26,
          30,
          34
         ]
        },
        {
         "hovertemplate": "<b>Josh Allen</b><br>%{y} pass TDs through week %{x}<extra></extra>",
         "line": {
          "color": "#00338D"
         },
         "mode": "markers+lines",
         "name": "Josh Allen",
         "type": "scatter",
         "x": [
          1,
          2,
          3,
          4,
          5,
          6,
          8,
          9,
          10,
          11,
          12,
          13,
          14,
          15,
          16,
          17,
          18
         ],
         "y": [
          1,
          3,
          7,
          9,
          12,
          15,
          17,
          17,
          19,
          21,
          25,
          26,
          28,
          31,
          34,
          34,
          36
         ]
        },
        {
         "hovertemplate": "<b>Justin Fields</b><br>%{y} pass TDs through week %{x}<extra></extra>",
         "line": {
          "color": "#0B162A"
         },
         "mode": "markers+lines",
         "name": "Justin Fields",
         "type": "scatter",
         "x": [
          1,
          2,
          3,
          4,
          5,
          6,
          7,
          8,
          9,
          11,
          14,
          15
         ],
         "y": [
          0,
          0,
          0,
          0,
          1,
          2,
          2,
          3,
          4,
          4,
          6,
          7
         ]
        },
        {
         "hovertemplate": "<b>Justin Herbert</b><br>%{y} pass TDs through week %{x}<extra></extra>",
         "line": {
          "color": "#007BC7"
         },
         "mode": "markers+lines",
         "name": "Justin Herbert",
         "type": "scatter",
         "x": [
          1,
          2,
          3,
          4,
          5,
          6,
          8,
          9,
          10,
          11,
          12,
          13,
          14,
          15,
          16,
          17,
          18
         ],
         "y": [
          1,
          2,
          6,
          9,
          13,
          14,
          16,
          18,
          19,
          22,
          24,
          27,
          30,
          32,
          33,
          35,
          38
         ]
        },
        {
         "hovertemplate": "<b>Kirk Cousins</b><br>%{y} pass TDs through week %{x}<extra></extra>",
         "line": {
          "color": "#4F2683"
         },
         "mode": "markers+lines",
         "name": "Kirk Cousins",
         "type": "scatter",
         "x": [
          1,
          2,
          3,
          4,
          5,
          6,
          8,
          9,
          10,
          11,
          12,
          13,
          14,
          15,
          16,
          18
         ],
         "y": [
          2,
          5,
          8,
          9,
          10,
          13,
          14,
          16,
          18,
          21,
          23,
          25,
          27,
          29,
          30,
          33
         ]
        },
        {
         "hovertemplate": "<b>Kyler Murray</b><br>%{y} pass TDs through week %{x}<extra></extra>",
         "line": {
          "color": "#97233F"
         },
         "mode": "markers+lines",
         "name": "Kyler Murray",
         "type": "scatter",
         "x": [
          1,
          2,
          3,
          4,
          5,
          6,
          7,
          8,
          13,
          14,
          15,
          16,
          17,
          18
         ],
         "y": [
          4,
          7,
          7,
          9,
          10,
          14,
          17,
          17,
          19,
          19,
          20,
          21,
          23,
          24
         ]
        },
        {
         "hovertemplate": "<b>Lamar Jackson</b><br>%{y} pass TDs through week %{x}<extra></extra>",
         "line": {
          "color": "#241773"
         },
         "mode": "markers+lines",
         "name": "Lamar Jackson",
         "type": "scatter",
         "x": [
          1,
          2,
          3,
          4,
          5,
          6,
          7,
          9,
          10,
          12,
          13,
          14
         ],
         "y": [
          1,
          2,
          3,
          4,
          8,
          9,
          10,
          13,
          14,
          15,
          16,
          16
         ]
        },
        {
         "hovertemplate": "<b>Mac Jones</b><br>%{y} pass TDs through week %{x}<extra></extra>",
         "line": {
          "color": "#002244"
         },
         "mode": "markers+lines",
         "name": "Mac Jones",
         "type": "scatter",
         "x": [
          1,
          2,
          3,
          4,
          5,
          6,
          7,
          8,
          9,
          10,
          11,
          12,
          13,
          15,
          16,
          17,
          18
         ],
         "y": [
          1,
          1,
          2,
          4,
          5,
          7,
          9,
          9,
          10,
          13,
          14,
          16,
          16,
          18,
          18,
          21,
          22
         ]
        },
        {
         "hovertemplate": "<b>Matt Ryan</b><br>%{y} pass TDs through week %{x}<extra></extra>",
         "line": {
          "color": "#A71930"
         },
         "mode": "markers+lines",
         "name": "Matt Ryan",
         "type": "scatter",
         "x": [
          1,
          2,
          3,
          4,
          5,
          7,
          8,
          9,
          10,
          11,
          12,
          13,
          14,
          15,
          16,
          17,
          18
         ],
         "y": [
          0,
          2,
          4,
          8,
          10,
          12,
          13,
          15,
          15,
          15,
          16,
          16,
          17,
          18,
          19,
          19,
          20
         ]
        },
        {
         "hovertemplate": "<b>Matthew Stafford</b><br>%{y} pass TDs through week %{x}<extra></extra>",
         "line": {
          "color": "#003594"
         },
         "mode": "markers+lines",
         "name": "Matthew Stafford",
         "type": "scatter",
         "x": [
          1,
          2,
          3,
          4,
          5,
          6,
          7,
          8,
          9,
          10,
          12,
          13,
          14,
          15,
          16,
          17,
          18
         ],
         "y": [
          3,
          5,
          9,
          11,
          12,
          16,
          19,
          22,
          23,
          24,
          27,
          30,
          33,
          35,
          36,
          38,
          41
         ]
        },
        {
         "hovertemplate": "<b>Patrick Mahomes</b><br>%{y} pass TDs through week %{x}<extra></extra>",
         "line": {
          "color": "#E31837"
         },
         "mode": "markers+lines",
         "name": "Patrick Mahomes",
         "type": "scatter",
         "x": [
          1,
          2,
          3,
          4,
          5,
          6,
          7,
          8,
          9,
          10,
          11,
          13,
          14,
          15,
          16,
          17,
          18
         ],
         "y": [
          3,
          6,
          9,
          14,
          16,
          18,
          18,
          19,
          20,
          25,
          25,
          25,
          27,
          30,
          33,
          35,
          37
         ]
        },
        {
         "hovertemplate": "<b>Russell Wilson</b><br>%{y} pass TDs through week %{x}<extra></extra>",
         "line": {
          "color": "#002244"
         },
         "mode": "markers+lines",
         "name": "Russell Wilson",
         "type": "scatter",
         "x": [
          1,
          2,
          3,
          4,
          5,
          10,
          11,
          12,
          13,
          14,
          15,
          16,
          17,
          18
         ],
         "y": [
          4,
          6,
          7,
          9,
          10,
          10,
          10,
          12,
          14,
          16,
          16,
          18,
          22,
          25
         ]
        },
        {
         "hovertemplate": "<b>Ryan Tannehill</b><br>%{y} pass TDs through week %{x}<extra></extra>",
         "line": {
          "color": "#002244"
         },
         "mode": "markers+lines",
         "name": "Ryan Tannehill",
         "type": "scatter",
         "x": [
          1,
          2,
          3,
          4,
          5,
          6,
          7,
          8,
          9,
          10,
          11,
          12,
          14,
          15,
          16,
          17,
          18
         ],
         "y": [
          1,
          1,
          4,
          5,
          6,
          6,
          7,
          10,
          11,
          12,
          13,
          14,
          14,
          14,
          15,
          17,
          21
         ]
        },
        {
         "hovertemplate": "<b>Sam Darnold</b><br>%{y} pass TDs through week %{x}<extra></extra>",
         "line": {
          "color": "#0085CA"
         },
         "mode": "markers+lines",
         "name": "Sam Darnold",
         "type": "scatter",
         "x": [
          1,
          2,
          3,
          4,
          5,
          6,
          7,
          8,
          9,
          16,
          17,
          18
         ],
         "y": [
          1,
          3,
          3,
          5,
          6,
          7,
          7,
          7,
          7,
          7,
          7,
          9
         ]
        },
        {
         "hovertemplate": "<b>Taylor Heinicke</b><br>%{y} pass TDs through week %{x}<extra></extra>",
         "line": {
          "color": "#5A1414"
         },
         "mode": "markers+lines",
         "name": "Taylor Heinicke",
         "type": "scatter",
         "x": [
          1,
          2,
          3,
          4,
          5,
          6,
          7,
          8,
          10,
          11,
          12,
          13,
          14,
          16,
          17,
          18
         ],
         "y": [
          1,
          3,
          5,
          8,
          8,
          9,
          10,
          11,
          12,
          15,
          16,
          18,
          19,
          20,
          20,
          20
         ]
        },
        {
         "hovertemplate": "<b>Teddy Bridgewater</b><br>%{y} pass TDs through week %{x}<extra></extra>",
         "line": {
          "color": "#002244"
         },
         "mode": "markers+lines",
         "name": "Teddy Bridgewater",
         "type": "scatter",
         "x": [
          1,
          2,
          3,
          4,
          5,
          6,
          7,
          8,
          9,
          10,
          12,
          13,
          14,
          15
         ],
         "y": [
          2,
          4,
          4,
          5,
          7,
          10,
          12,
          13,
          14,
          14,
          15,
          16,
          18,
          18
         ]
        },
        {
         "hovertemplate": "<b>Tom Brady</b><br>%{y} pass TDs through week %{x}<extra></extra>",
         "line": {
          "color": "#A71930"
         },
         "mode": "markers+lines",
         "name": "Tom Brady",
         "type": "scatter",
         "x": [
          1,
          2,
          3,
          4,
          5,
          6,
          7,
          8,
          10,
          11,
          12,
          13,
          14,
          15,
          16,
          17,
          18
         ],
         "y": [
          4,
          9,
          10,
          10,
          15,
          17,
          21,
          25,
          27,
          29,
          30,
          34,
          36,
          36,
          37,
          40,
          43
         ]
        },
        {
         "hovertemplate": "<b>Trevor Lawrence</b><br>%{y} pass TDs through week %{x}<extra></extra>",
         "line": {
          "color": "#006778"
         },
         "mode": "markers+lines",
         "name": "Trevor Lawrence",
         "type": "scatter",
         "x": [
          1,
          2,
          3,
          4,
          5,
          6,
          8,
          9,
          10,
          11,
          12,
          13,
          14,
          15,
          16,
          17,
          18
         ],
         "y": [
          3,
          4,
          5,
          5,
          6,
          7,
          8,
          8,
          8,
          8,
          9,
          9,
          9,
          9,
          9,
          10,
          12
         ]
        },
        {
         "hovertemplate": "<b>Trevor Siemian</b><br>%{y} pass TDs through week %{x}<extra></extra>",
         "line": {
          "color": "#D3BC8D"
         },
         "mode": "markers+lines",
         "name": "Trevor Siemian",
         "type": "scatter",
         "x": [
          8,
          9,
          10,
          11,
          12,
          18
         ],
         "y": [
          1,
          3,
          5,
          8,
          9,
          11
         ]
        },
        {
         "hovertemplate": "<b>Tua Tagovailoa</b><br>%{y} pass TDs through week %{x}<extra></extra>",
         "line": {
          "color": "#008E97"
         },
         "mode": "markers+lines",
         "name": "Tua Tagovailoa",
         "type": "scatter",
         "x": [
          1,
          2,
          6,
          7,
          8,
          10,
          11,
          12,
          13,
          15,
          16,
          17,
          18
         ],
         "y": [
          1,
          1,
          3,
          7,
          7,
          7,
          9,
          10,
          12,
          14,
          15,
          15,
          16
         ]
        },
        {
         "hovertemplate": "<b>Zach Wilson</b><br>%{y} pass TDs through week %{x}<extra></extra>",
         "line": {
          "color": "#003F2D"
         },
         "mode": "markers+lines",
         "name": "Zach Wilson",
         "type": "scatter",
         "x": [
          1,
          2,
          3,
          4,
          5,
          7,
          12,
          13,
          14,
          15,
          16,
          17,
          18
         ],
         "y": [
          2,
          2,
          2,
          4,
          4,
          4,
          4,
          6,
          6,
          6,
          7,
          8,
          9
         ]
        }
       ],
       "layout": {
        "font": {
         "family": "Averta, sans-serif"
        },
        "height": 1000,
        "hoverlabel": {
         "font": {
          "family": "Averta, sans-serif",
          "size": 16
         }
        },
        "legend": {
         "font": {
          "size": 16
         }
        },
        "template": {
         "data": {
          "bar": [
           {
            "error_x": {
             "color": "#2a3f5f"
            },
            "error_y": {
             "color": "#2a3f5f"
            },
            "marker": {
             "line": {
              "color": "#E5ECF6",
              "width": 0.5
             },
             "pattern": {
              "fillmode": "overlay",
              "size": 10,
              "solidity": 0.2
             }
            },
            "type": "bar"
           }
          ],
          "barpolar": [
           {
            "marker": {
             "line": {
              "color": "#E5ECF6",
              "width": 0.5
             },
             "pattern": {
              "fillmode": "overlay",
              "size": 10,
              "solidity": 0.2
             }
            },
            "type": "barpolar"
           }
          ],
          "carpet": [
           {
            "aaxis": {
             "endlinecolor": "#2a3f5f",
             "gridcolor": "white",
             "linecolor": "white",
             "minorgridcolor": "white",
             "startlinecolor": "#2a3f5f"
            },
            "baxis": {
             "endlinecolor": "#2a3f5f",
             "gridcolor": "white",
             "linecolor": "white",
             "minorgridcolor": "white",
             "startlinecolor": "#2a3f5f"
            },
            "type": "carpet"
           }
          ],
          "choropleth": [
           {
            "colorbar": {
             "outlinewidth": 0,
             "ticks": ""
            },
            "type": "choropleth"
           }
          ],
          "contour": [
           {
            "colorbar": {
             "outlinewidth": 0,
             "ticks": ""
            },
            "colorscale": [
             [
              0,
              "#0d0887"
             ],
             [
              0.1111111111111111,
              "#46039f"
             ],
             [
              0.2222222222222222,
              "#7201a8"
             ],
             [
              0.3333333333333333,
              "#9c179e"
             ],
             [
              0.4444444444444444,
              "#bd3786"
             ],
             [
              0.5555555555555556,
              "#d8576b"
             ],
             [
              0.6666666666666666,
              "#ed7953"
             ],
             [
              0.7777777777777778,
              "#fb9f3a"
             ],
             [
              0.8888888888888888,
              "#fdca26"
             ],
             [
              1,
              "#f0f921"
             ]
            ],
            "type": "contour"
           }
          ],
          "contourcarpet": [
           {
            "colorbar": {
             "outlinewidth": 0,
             "ticks": ""
            },
            "type": "contourcarpet"
           }
          ],
          "heatmap": [
           {
            "colorbar": {
             "outlinewidth": 0,
             "ticks": ""
            },
            "colorscale": [
             [
              0,
              "#0d0887"
             ],
             [
              0.1111111111111111,
              "#46039f"
             ],
             [
              0.2222222222222222,
              "#7201a8"
             ],
             [
              0.3333333333333333,
              "#9c179e"
             ],
             [
              0.4444444444444444,
              "#bd3786"
             ],
             [
              0.5555555555555556,
              "#d8576b"
             ],
             [
              0.6666666666666666,
              "#ed7953"
             ],
             [
              0.7777777777777778,
              "#fb9f3a"
             ],
             [
              0.8888888888888888,
              "#fdca26"
             ],
             [
              1,
              "#f0f921"
             ]
            ],
            "type": "heatmap"
           }
          ],
          "heatmapgl": [
           {
            "colorbar": {
             "outlinewidth": 0,
             "ticks": ""
            },
            "colorscale": [
             [
              0,
              "#0d0887"
             ],
             [
              0.1111111111111111,
              "#46039f"
             ],
             [
              0.2222222222222222,
              "#7201a8"
             ],
             [
              0.3333333333333333,
              "#9c179e"
             ],
             [
              0.4444444444444444,
              "#bd3786"
             ],
             [
              0.5555555555555556,
              "#d8576b"
             ],
             [
              0.6666666666666666,
              "#ed7953"
             ],
             [
              0.7777777777777778,
              "#fb9f3a"
             ],
             [
              0.8888888888888888,
              "#fdca26"
             ],
             [
              1,
              "#f0f921"
             ]
            ],
            "type": "heatmapgl"
           }
          ],
          "histogram": [
           {
            "marker": {
             "pattern": {
              "fillmode": "overlay",
              "size": 10,
              "solidity": 0.2
             }
            },
            "type": "histogram"
           }
          ],
          "histogram2d": [
           {
            "colorbar": {
             "outlinewidth": 0,
             "ticks": ""
            },
            "colorscale": [
             [
              0,
              "#0d0887"
             ],
             [
              0.1111111111111111,
              "#46039f"
             ],
             [
              0.2222222222222222,
              "#7201a8"
             ],
             [
              0.3333333333333333,
              "#9c179e"
             ],
             [
              0.4444444444444444,
              "#bd3786"
             ],
             [
              0.5555555555555556,
              "#d8576b"
             ],
             [
              0.6666666666666666,
              "#ed7953"
             ],
             [
              0.7777777777777778,
              "#fb9f3a"
             ],
             [
              0.8888888888888888,
              "#fdca26"
             ],
             [
              1,
              "#f0f921"
             ]
            ],
            "type": "histogram2d"
           }
          ],
          "histogram2dcontour": [
           {
            "colorbar": {
             "outlinewidth": 0,
             "ticks": ""
            },
            "colorscale": [
             [
              0,
              "#0d0887"
             ],
             [
              0.1111111111111111,
              "#46039f"
             ],
             [
              0.2222222222222222,
              "#7201a8"
             ],
             [
              0.3333333333333333,
              "#9c179e"
             ],
             [
              0.4444444444444444,
              "#bd3786"
             ],
             [
              0.5555555555555556,
              "#d8576b"
             ],
             [
              0.6666666666666666,
              "#ed7953"
             ],
             [
              0.7777777777777778,
              "#fb9f3a"
             ],
             [
              0.8888888888888888,
              "#fdca26"
             ],
             [
              1,
              "#f0f921"
             ]
            ],
            "type": "histogram2dcontour"
           }
          ],
          "mesh3d": [
           {
            "colorbar": {
             "outlinewidth": 0,
             "ticks": ""
            },
            "type": "mesh3d"
           }
          ],
          "parcoords": [
           {
            "line": {
             "colorbar": {
              "outlinewidth": 0,
              "ticks": ""
             }
            },
            "type": "parcoords"
           }
          ],
          "pie": [
           {
            "automargin": true,
            "type": "pie"
           }
          ],
          "scatter": [
           {
            "fillpattern": {
             "fillmode": "overlay",
             "size": 10,
             "solidity": 0.2
            },
            "type": "scatter"
           }
          ],
          "scatter3d": [
           {
            "line": {
             "colorbar": {
              "outlinewidth": 0,
              "ticks": ""
             }
            },
            "marker": {
             "colorbar": {
              "outlinewidth": 0,
              "ticks": ""
             }
            },
            "type": "scatter3d"
           }
          ],
          "scattercarpet": [
           {
            "marker": {
             "colorbar": {
              "outlinewidth": 0,
              "ticks": ""
             }
            },
            "type": "scattercarpet"
           }
          ],
          "scattergeo": [
           {
            "marker": {
             "colorbar": {
              "outlinewidth": 0,
              "ticks": ""
             }
            },
            "type": "scattergeo"
           }
          ],
          "scattergl": [
           {
            "marker": {
             "colorbar": {
              "outlinewidth": 0,
              "ticks": ""
             }
            },
            "type": "scattergl"
           }
          ],
          "scattermapbox": [
           {
            "marker": {
             "colorbar": {
              "outlinewidth": 0,
              "ticks": ""
             }
            },
            "type": "scattermapbox"
           }
          ],
          "scatterpolar": [
           {
            "marker": {
             "colorbar": {
              "outlinewidth": 0,
              "ticks": ""
             }
            },
            "type": "scatterpolar"
           }
          ],
          "scatterpolargl": [
           {
            "marker": {
             "colorbar": {
              "outlinewidth": 0,
              "ticks": ""
             }
            },
            "type": "scatterpolargl"
           }
          ],
          "scatterternary": [
           {
            "marker": {
             "colorbar": {
              "outlinewidth": 0,
              "ticks": ""
             }
            },
            "type": "scatterternary"
           }
          ],
          "surface": [
           {
            "colorbar": {
             "outlinewidth": 0,
             "ticks": ""
            },
            "colorscale": [
             [
              0,
              "#0d0887"
             ],
             [
              0.1111111111111111,
              "#46039f"
             ],
             [
              0.2222222222222222,
              "#7201a8"
             ],
             [
              0.3333333333333333,
              "#9c179e"
             ],
             [
              0.4444444444444444,
              "#bd3786"
             ],
             [
              0.5555555555555556,
              "#d8576b"
             ],
             [
              0.6666666666666666,
              "#ed7953"
             ],
             [
              0.7777777777777778,
              "#fb9f3a"
             ],
             [
              0.8888888888888888,
              "#fdca26"
             ],
             [
              1,
              "#f0f921"
             ]
            ],
            "type": "surface"
           }
          ],
          "table": [
           {
            "cells": {
             "fill": {
              "color": "#EBF0F8"
             },
             "line": {
              "color": "white"
             }
            },
            "header": {
             "fill": {
              "color": "#C8D4E3"
             },
             "line": {
              "color": "white"
             }
            },
            "type": "table"
           }
          ]
         },
         "layout": {
          "annotationdefaults": {
           "arrowcolor": "#2a3f5f",
           "arrowhead": 0,
           "arrowwidth": 1
          },
          "autotypenumbers": "strict",
          "coloraxis": {
           "colorbar": {
            "outlinewidth": 0,
            "ticks": ""
           }
          },
          "colorscale": {
           "diverging": [
            [
             0,
             "#8e0152"
            ],
            [
             0.1,
             "#c51b7d"
            ],
            [
             0.2,
             "#de77ae"
            ],
            [
             0.3,
             "#f1b6da"
            ],
            [
             0.4,
             "#fde0ef"
            ],
            [
             0.5,
             "#f7f7f7"
            ],
            [
             0.6,
             "#e6f5d0"
            ],
            [
             0.7,
             "#b8e186"
            ],
            [
             0.8,
             "#7fbc41"
            ],
            [
             0.9,
             "#4d9221"
            ],
            [
             1,
             "#276419"
            ]
           ],
           "sequential": [
            [
             0,
             "#0d0887"
            ],
            [
             0.1111111111111111,
             "#46039f"
            ],
            [
             0.2222222222222222,
             "#7201a8"
            ],
            [
             0.3333333333333333,
             "#9c179e"
            ],
            [
             0.4444444444444444,
             "#bd3786"
            ],
            [
             0.5555555555555556,
             "#d8576b"
            ],
            [
             0.6666666666666666,
             "#ed7953"
            ],
            [
             0.7777777777777778,
             "#fb9f3a"
            ],
            [
             0.8888888888888888,
             "#fdca26"
            ],
            [
             1,
             "#f0f921"
            ]
           ],
           "sequentialminus": [
            [
             0,
             "#0d0887"
            ],
            [
             0.1111111111111111,
             "#46039f"
            ],
            [
             0.2222222222222222,
             "#7201a8"
            ],
            [
             0.3333333333333333,
             "#9c179e"
            ],
            [
             0.4444444444444444,
             "#bd3786"
            ],
            [
             0.5555555555555556,
             "#d8576b"
            ],
            [
             0.6666666666666666,
             "#ed7953"
            ],
            [
             0.7777777777777778,
             "#fb9f3a"
            ],
            [
             0.8888888888888888,
             "#fdca26"
            ],
            [
             1,
             "#f0f921"
            ]
           ]
          },
          "colorway": [
           "#636efa",
           "#EF553B",
           "#00cc96",
           "#ab63fa",
           "#FFA15A",
           "#19d3f3",
           "#FF6692",
           "#B6E880",
           "#FF97FF",
           "#FECB52"
          ],
          "font": {
           "color": "#2a3f5f"
          },
          "geo": {
           "bgcolor": "white",
           "lakecolor": "white",
           "landcolor": "#E5ECF6",
           "showlakes": true,
           "showland": true,
           "subunitcolor": "white"
          },
          "hoverlabel": {
           "align": "left"
          },
          "hovermode": "closest",
          "mapbox": {
           "style": "light"
          },
          "paper_bgcolor": "white",
          "plot_bgcolor": "#E5ECF6",
          "polar": {
           "angularaxis": {
            "gridcolor": "white",
            "linecolor": "white",
            "ticks": ""
           },
           "bgcolor": "#E5ECF6",
           "radialaxis": {
            "gridcolor": "white",
            "linecolor": "white",
            "ticks": ""
           }
          },
          "scene": {
           "xaxis": {
            "backgroundcolor": "#E5ECF6",
            "gridcolor": "white",
            "gridwidth": 2,
            "linecolor": "white",
            "showbackground": true,
            "ticks": "",
            "zerolinecolor": "white"
           },
           "yaxis": {
            "backgroundcolor": "#E5ECF6",
            "gridcolor": "white",
            "gridwidth": 2,
            "linecolor": "white",
            "showbackground": true,
            "ticks": "",
            "zerolinecolor": "white"
           },
           "zaxis": {
            "backgroundcolor": "#E5ECF6",
            "gridcolor": "white",
            "gridwidth": 2,
            "linecolor": "white",
            "showbackground": true,
            "ticks": "",
            "zerolinecolor": "white"
           }
          },
          "shapedefaults": {
           "line": {
            "color": "#2a3f5f"
           }
          },
          "ternary": {
           "aaxis": {
            "gridcolor": "white",
            "linecolor": "white",
            "ticks": ""
           },
           "baxis": {
            "gridcolor": "white",
            "linecolor": "white",
            "ticks": ""
           },
           "bgcolor": "#E5ECF6",
           "caxis": {
            "gridcolor": "white",
            "linecolor": "white",
            "ticks": ""
           }
          },
          "title": {
           "x": 0.05
          },
          "xaxis": {
           "automargin": true,
           "gridcolor": "white",
           "linecolor": "white",
           "ticks": "",
           "title": {
            "standoff": 15
           },
           "zerolinecolor": "white",
           "zerolinewidth": 2
          },
          "yaxis": {
           "automargin": true,
           "gridcolor": "white",
           "linecolor": "white",
           "ticks": "",
           "title": {
            "standoff": 15
           },
           "zerolinecolor": "white",
           "zerolinewidth": 2
          }
         }
        },
        "width": 1000,
        "xaxis": {
         "tickfont": {
          "size": 16
         },
         "title": {
          "font": {
           "size": 18
          },
          "text": "Week"
         }
        },
        "yaxis": {
         "tickfont": {
          "size": 16
         },
         "title": {
          "font": {
           "size": 18
          },
          "text": "Passing TDs"
         }
        }
       }
      },
      "text/html": [
       "<div>                            <div id=\"fdae9461-61ba-494e-881a-547d65948d11\" class=\"plotly-graph-div\" style=\"height:1000px; width:1000px;\"></div>            <script type=\"text/javascript\">                require([\"plotly\"], function(Plotly) {                    window.PLOTLYENV=window.PLOTLYENV || {};                                    if (document.getElementById(\"fdae9461-61ba-494e-881a-547d65948d11\")) {                    Plotly.newPlot(                        \"fdae9461-61ba-494e-881a-547d65948d11\",                        [{\"hovertemplate\":\"<b>Aaron Rodgers</b><br>%{y} pass TDs through week %{x}<extra></extra>\",\"line\":{\"color\":\"#203731\"},\"mode\":\"markers+lines\",\"name\":\"Aaron Rodgers\",\"x\":[1,2,3,4,5,6,7,8,10,11,12,14,15,16,17,18],\"y\":[0.0,4.0,6.0,8.0,10.0,12.0,15.0,17.0,17.0,21.0,23.0,27.0,30.0,33.0,35.0,37.0],\"type\":\"scatter\"},{\"hovertemplate\":\"<b>Andy Dalton</b><br>%{y} pass TDs through week %{x}<extra></extra>\",\"line\":{\"color\":\"#0B162A\"},\"mode\":\"markers+lines\",\"name\":\"Andy Dalton\",\"x\":[1,2,5,11,12,13,17,18],\"y\":[0.0,1.0,1.0,3.0,4.0,6.0,7.0,8.0],\"type\":\"scatter\"},{\"hovertemplate\":\"<b>Baker Mayfield</b><br>%{y} pass TDs through week %{x}<extra></extra>\",\"line\":{\"color\":\"#FF3C00\"},\"mode\":\"markers+lines\",\"name\":\"Baker Mayfield\",\"x\":[1,2,3,4,5,6,8,9,10,11,12,14,16,17],\"y\":[0.0,1.0,2.0,2.0,4.0,6.0,6.0,8.0,9.0,10.0,11.0,13.0,15.0,17.0],\"type\":\"scatter\"},{\"hovertemplate\":\"<b>Ben Roethlisberger</b><br>%{y} pass TDs through week %{x}<extra></extra>\",\"line\":{\"color\":\"#000000\"},\"mode\":\"markers+lines\",\"name\":\"Ben Roethlisberger\",\"x\":[1,2,3,4,5,6,8,9,11,12,13,14,15,16,17,18],\"y\":[1.0,2.0,3.0,4.0,6.0,7.0,8.0,10.0,13.0,14.0,16.0,19.0,19.0,20.0,21.0,22.0],\"type\":\"scatter\"},{\"hovertemplate\":\"<b>Carson Wentz</b><br>%{y} pass TDs through week %{x}<extra></extra>\",\"line\":{\"color\":\"#002C5F\"},\"mode\":\"markers+lines\",\"name\":\"Carson Wentz\",\"x\":[1,2,3,4,5,6,7,8,9,10,11,12,13,15,16,17,18],\"y\":[2.0,3.0,3.0,5.0,7.0,9.0,11.0,14.0,17.0,17.0,18.0,21.0,22.0,23.0,25.0,26.0,27.0],\"type\":\"scatter\"},{\"hovertemplate\":\"<b>Dak Prescott</b><br>%{y} pass TDs through week %{x}<extra></extra>\",\"line\":{\"color\":\"#002244\"},\"mode\":\"markers+lines\",\"name\":\"Dak Prescott\",\"x\":[1,2,3,4,5,6,9,10,11,12,13,14,15,16,17,18],\"y\":[3.0,3.0,6.0,10.0,13.0,16.0,18.0,20.0,20.0,22.0,23.0,24.0,25.0,29.0,32.0,37.0],\"type\":\"scatter\"},{\"hovertemplate\":\"<b>Daniel Jones</b><br>%{y} pass TDs through week %{x}<extra></extra>\",\"line\":{\"color\":\"#0B2265\"},\"mode\":\"markers+lines\",\"name\":\"Daniel Jones\",\"x\":[1,2,3,4,5,6,7,8,9,11,12],\"y\":[1.0,2.0,2.0,4.0,4.0,4.0,5.0,7.0,8.0,9.0,10.0],\"type\":\"scatter\"},{\"hovertemplate\":\"<b>Davis Mills</b><br>%{y} pass TDs through week %{x}<extra></extra>\",\"line\":{\"color\":\"#03202F\"},\"mode\":\"markers+lines\",\"name\":\"Davis Mills\",\"x\":[2,3,4,5,6,7,8,13,14,15,16,17,18],\"y\":[1.0,2.0,2.0,5.0,5.0,5.0,7.0,7.0,8.0,10.0,12.0,13.0,16.0],\"type\":\"scatter\"},{\"hovertemplate\":\"<b>Derek Carr</b><br>%{y} pass TDs through week %{x}<extra></extra>\",\"line\":{\"color\":\"#000000\"},\"mode\":\"markers+lines\",\"name\":\"Derek Carr\",\"x\":[1,2,3,4,5,6,7,9,10,11,12,13,14,15,16,17,18],\"y\":[2.0,4.0,6.0,8.0,8.0,10.0,12.0,13.0,15.0,16.0,17.0,17.0,18.0,19.0,20.0,21.0,23.0],\"type\":\"scatter\"},{\"hovertemplate\":\"<b>Jalen Hurts</b><br>%{y} pass TDs through week %{x}<extra></extra>\",\"line\":{\"color\":\"#004C54\"},\"mode\":\"markers+lines\",\"name\":\"Jalen Hurts\",\"x\":[1,2,3,4,5,6,7,8,9,10,11,12,15,16,17],\"y\":[3.0,3.0,5.0,7.0,7.0,8.0,10.0,10.0,11.0,13.0,13.0,13.0,14.0,16.0,16.0],\"type\":\"scatter\"},{\"hovertemplate\":\"<b>Jameis Winston</b><br>%{y} pass TDs through week %{x}<extra></extra>\",\"line\":{\"color\":\"#D3BC8D\"},\"mode\":\"markers+lines\",\"name\":\"Jameis Winston\",\"x\":[1,2,3,4,5,7,8],\"y\":[5.0,5.0,7.0,8.0,12.0,13.0,14.0],\"type\":\"scatter\"},{\"hovertemplate\":\"<b>Jared Goff</b><br>%{y} pass TDs through week %{x}<extra></extra>\",\"line\":{\"color\":\"#0076B6\"},\"mode\":\"markers+lines\",\"name\":\"Jared Goff\",\"x\":[1,2,3,4,5,6,7,8,10,12,13,14,15,18],\"y\":[3.0,5.0,5.0,7.0,7.0,7.0,8.0,8.0,8.0,10.0,13.0,14.0,17.0,19.0],\"type\":\"scatter\"},{\"hovertemplate\":\"<b>Jimmy Garoppolo</b><br>%{y} pass TDs through week %{x}<extra></extra>\",\"line\":{\"color\":\"#AA0000\"},\"mode\":\"markers+lines\",\"name\":\"Jimmy Garoppolo\",\"x\":[1,2,3,4,7,8,9,10,11,12,13,14,15,16,18],\"y\":[1.0,2.0,4.0,5.0,6.0,6.0,8.0,10.0,12.0,13.0,15.0,17.0,18.0,19.0,20.0],\"type\":\"scatter\"},{\"hovertemplate\":\"<b>Joe Burrow</b><br>%{y} pass TDs through week %{x}<extra></extra>\",\"line\":{\"color\":\"#FB4F14\"},\"mode\":\"markers+lines\",\"name\":\"Joe Burrow\",\"x\":[1,2,3,4,5,6,7,8,9,11,12,13,14,15,16,17],\"y\":[2.0,4.0,7.0,9.0,11.0,14.0,17.0,20.0,20.0,21.0,22.0,23.0,25.0,26.0,30.0,34.0],\"type\":\"scatter\"},{\"hovertemplate\":\"<b>Josh Allen</b><br>%{y} pass TDs through week %{x}<extra></extra>\",\"line\":{\"color\":\"#00338D\"},\"mode\":\"markers+lines\",\"name\":\"Josh Allen\",\"x\":[1,2,3,4,5,6,8,9,10,11,12,13,14,15,16,17,18],\"y\":[1.0,3.0,7.0,9.0,12.0,15.0,17.0,17.0,19.0,21.0,25.0,26.0,28.0,31.0,34.0,34.0,36.0],\"type\":\"scatter\"},{\"hovertemplate\":\"<b>Justin Fields</b><br>%{y} pass TDs through week %{x}<extra></extra>\",\"line\":{\"color\":\"#0B162A\"},\"mode\":\"markers+lines\",\"name\":\"Justin Fields\",\"x\":[1,2,3,4,5,6,7,8,9,11,14,15],\"y\":[0.0,0.0,0.0,0.0,1.0,2.0,2.0,3.0,4.0,4.0,6.0,7.0],\"type\":\"scatter\"},{\"hovertemplate\":\"<b>Justin Herbert</b><br>%{y} pass TDs through week %{x}<extra></extra>\",\"line\":{\"color\":\"#007BC7\"},\"mode\":\"markers+lines\",\"name\":\"Justin Herbert\",\"x\":[1,2,3,4,5,6,8,9,10,11,12,13,14,15,16,17,18],\"y\":[1.0,2.0,6.0,9.0,13.0,14.0,16.0,18.0,19.0,22.0,24.0,27.0,30.0,32.0,33.0,35.0,38.0],\"type\":\"scatter\"},{\"hovertemplate\":\"<b>Kirk Cousins</b><br>%{y} pass TDs through week %{x}<extra></extra>\",\"line\":{\"color\":\"#4F2683\"},\"mode\":\"markers+lines\",\"name\":\"Kirk Cousins\",\"x\":[1,2,3,4,5,6,8,9,10,11,12,13,14,15,16,18],\"y\":[2.0,5.0,8.0,9.0,10.0,13.0,14.0,16.0,18.0,21.0,23.0,25.0,27.0,29.0,30.0,33.0],\"type\":\"scatter\"},{\"hovertemplate\":\"<b>Kyler Murray</b><br>%{y} pass TDs through week %{x}<extra></extra>\",\"line\":{\"color\":\"#97233F\"},\"mode\":\"markers+lines\",\"name\":\"Kyler Murray\",\"x\":[1,2,3,4,5,6,7,8,13,14,15,16,17,18],\"y\":[4.0,7.0,7.0,9.0,10.0,14.0,17.0,17.0,19.0,19.0,20.0,21.0,23.0,24.0],\"type\":\"scatter\"},{\"hovertemplate\":\"<b>Lamar Jackson</b><br>%{y} pass TDs through week %{x}<extra></extra>\",\"line\":{\"color\":\"#241773\"},\"mode\":\"markers+lines\",\"name\":\"Lamar Jackson\",\"x\":[1,2,3,4,5,6,7,9,10,12,13,14],\"y\":[1.0,2.0,3.0,4.0,8.0,9.0,10.0,13.0,14.0,15.0,16.0,16.0],\"type\":\"scatter\"},{\"hovertemplate\":\"<b>Mac Jones</b><br>%{y} pass TDs through week %{x}<extra></extra>\",\"line\":{\"color\":\"#002244\"},\"mode\":\"markers+lines\",\"name\":\"Mac Jones\",\"x\":[1,2,3,4,5,6,7,8,9,10,11,12,13,15,16,17,18],\"y\":[1.0,1.0,2.0,4.0,5.0,7.0,9.0,9.0,10.0,13.0,14.0,16.0,16.0,18.0,18.0,21.0,22.0],\"type\":\"scatter\"},{\"hovertemplate\":\"<b>Matt Ryan</b><br>%{y} pass TDs through week %{x}<extra></extra>\",\"line\":{\"color\":\"#A71930\"},\"mode\":\"markers+lines\",\"name\":\"Matt Ryan\",\"x\":[1,2,3,4,5,7,8,9,10,11,12,13,14,15,16,17,18],\"y\":[0.0,2.0,4.0,8.0,10.0,12.0,13.0,15.0,15.0,15.0,16.0,16.0,17.0,18.0,19.0,19.0,20.0],\"type\":\"scatter\"},{\"hovertemplate\":\"<b>Matthew Stafford</b><br>%{y} pass TDs through week %{x}<extra></extra>\",\"line\":{\"color\":\"#003594\"},\"mode\":\"markers+lines\",\"name\":\"Matthew Stafford\",\"x\":[1,2,3,4,5,6,7,8,9,10,12,13,14,15,16,17,18],\"y\":[3.0,5.0,9.0,11.0,12.0,16.0,19.0,22.0,23.0,24.0,27.0,30.0,33.0,35.0,36.0,38.0,41.0],\"type\":\"scatter\"},{\"hovertemplate\":\"<b>Patrick Mahomes</b><br>%{y} pass TDs through week %{x}<extra></extra>\",\"line\":{\"color\":\"#E31837\"},\"mode\":\"markers+lines\",\"name\":\"Patrick Mahomes\",\"x\":[1,2,3,4,5,6,7,8,9,10,11,13,14,15,16,17,18],\"y\":[3.0,6.0,9.0,14.0,16.0,18.0,18.0,19.0,20.0,25.0,25.0,25.0,27.0,30.0,33.0,35.0,37.0],\"type\":\"scatter\"},{\"hovertemplate\":\"<b>Russell Wilson</b><br>%{y} pass TDs through week %{x}<extra></extra>\",\"line\":{\"color\":\"#002244\"},\"mode\":\"markers+lines\",\"name\":\"Russell Wilson\",\"x\":[1,2,3,4,5,10,11,12,13,14,15,16,17,18],\"y\":[4.0,6.0,7.0,9.0,10.0,10.0,10.0,12.0,14.0,16.0,16.0,18.0,22.0,25.0],\"type\":\"scatter\"},{\"hovertemplate\":\"<b>Ryan Tannehill</b><br>%{y} pass TDs through week %{x}<extra></extra>\",\"line\":{\"color\":\"#002244\"},\"mode\":\"markers+lines\",\"name\":\"Ryan Tannehill\",\"x\":[1,2,3,4,5,6,7,8,9,10,11,12,14,15,16,17,18],\"y\":[1.0,1.0,4.0,5.0,6.0,6.0,7.0,10.0,11.0,12.0,13.0,14.0,14.0,14.0,15.0,17.0,21.0],\"type\":\"scatter\"},{\"hovertemplate\":\"<b>Sam Darnold</b><br>%{y} pass TDs through week %{x}<extra></extra>\",\"line\":{\"color\":\"#0085CA\"},\"mode\":\"markers+lines\",\"name\":\"Sam Darnold\",\"x\":[1,2,3,4,5,6,7,8,9,16,17,18],\"y\":[1.0,3.0,3.0,5.0,6.0,7.0,7.0,7.0,7.0,7.0,7.0,9.0],\"type\":\"scatter\"},{\"hovertemplate\":\"<b>Taylor Heinicke</b><br>%{y} pass TDs through week %{x}<extra></extra>\",\"line\":{\"color\":\"#5A1414\"},\"mode\":\"markers+lines\",\"name\":\"Taylor Heinicke\",\"x\":[1,2,3,4,5,6,7,8,10,11,12,13,14,16,17,18],\"y\":[1.0,3.0,5.0,8.0,8.0,9.0,10.0,11.0,12.0,15.0,16.0,18.0,19.0,20.0,20.0,20.0],\"type\":\"scatter\"},{\"hovertemplate\":\"<b>Teddy Bridgewater</b><br>%{y} pass TDs through week %{x}<extra></extra>\",\"line\":{\"color\":\"#002244\"},\"mode\":\"markers+lines\",\"name\":\"Teddy Bridgewater\",\"x\":[1,2,3,4,5,6,7,8,9,10,12,13,14,15],\"y\":[2.0,4.0,4.0,5.0,7.0,10.0,12.0,13.0,14.0,14.0,15.0,16.0,18.0,18.0],\"type\":\"scatter\"},{\"hovertemplate\":\"<b>Tom Brady</b><br>%{y} pass TDs through week %{x}<extra></extra>\",\"line\":{\"color\":\"#A71930\"},\"mode\":\"markers+lines\",\"name\":\"Tom Brady\",\"x\":[1,2,3,4,5,6,7,8,10,11,12,13,14,15,16,17,18],\"y\":[4.0,9.0,10.0,10.0,15.0,17.0,21.0,25.0,27.0,29.0,30.0,34.0,36.0,36.0,37.0,40.0,43.0],\"type\":\"scatter\"},{\"hovertemplate\":\"<b>Trevor Lawrence</b><br>%{y} pass TDs through week %{x}<extra></extra>\",\"line\":{\"color\":\"#006778\"},\"mode\":\"markers+lines\",\"name\":\"Trevor Lawrence\",\"x\":[1,2,3,4,5,6,8,9,10,11,12,13,14,15,16,17,18],\"y\":[3.0,4.0,5.0,5.0,6.0,7.0,8.0,8.0,8.0,8.0,9.0,9.0,9.0,9.0,9.0,10.0,12.0],\"type\":\"scatter\"},{\"hovertemplate\":\"<b>Trevor Siemian</b><br>%{y} pass TDs through week %{x}<extra></extra>\",\"line\":{\"color\":\"#D3BC8D\"},\"mode\":\"markers+lines\",\"name\":\"Trevor Siemian\",\"x\":[8,9,10,11,12,18],\"y\":[1.0,3.0,5.0,8.0,9.0,11.0],\"type\":\"scatter\"},{\"hovertemplate\":\"<b>Tua Tagovailoa</b><br>%{y} pass TDs through week %{x}<extra></extra>\",\"line\":{\"color\":\"#008E97\"},\"mode\":\"markers+lines\",\"name\":\"Tua Tagovailoa\",\"x\":[1,2,6,7,8,10,11,12,13,15,16,17,18],\"y\":[1.0,1.0,3.0,7.0,7.0,7.0,9.0,10.0,12.0,14.0,15.0,15.0,16.0],\"type\":\"scatter\"},{\"hovertemplate\":\"<b>Zach Wilson</b><br>%{y} pass TDs through week %{x}<extra></extra>\",\"line\":{\"color\":\"#003F2D\"},\"mode\":\"markers+lines\",\"name\":\"Zach Wilson\",\"x\":[1,2,3,4,5,7,12,13,14,15,16,17,18],\"y\":[2.0,2.0,2.0,4.0,4.0,4.0,4.0,6.0,6.0,6.0,7.0,8.0,9.0],\"type\":\"scatter\"}],                        {\"template\":{\"data\":{\"histogram2dcontour\":[{\"type\":\"histogram2dcontour\",\"colorbar\":{\"outlinewidth\":0,\"ticks\":\"\"},\"colorscale\":[[0.0,\"#0d0887\"],[0.1111111111111111,\"#46039f\"],[0.2222222222222222,\"#7201a8\"],[0.3333333333333333,\"#9c179e\"],[0.4444444444444444,\"#bd3786\"],[0.5555555555555556,\"#d8576b\"],[0.6666666666666666,\"#ed7953\"],[0.7777777777777778,\"#fb9f3a\"],[0.8888888888888888,\"#fdca26\"],[1.0,\"#f0f921\"]]}],\"choropleth\":[{\"type\":\"choropleth\",\"colorbar\":{\"outlinewidth\":0,\"ticks\":\"\"}}],\"histogram2d\":[{\"type\":\"histogram2d\",\"colorbar\":{\"outlinewidth\":0,\"ticks\":\"\"},\"colorscale\":[[0.0,\"#0d0887\"],[0.1111111111111111,\"#46039f\"],[0.2222222222222222,\"#7201a8\"],[0.3333333333333333,\"#9c179e\"],[0.4444444444444444,\"#bd3786\"],[0.5555555555555556,\"#d8576b\"],[0.6666666666666666,\"#ed7953\"],[0.7777777777777778,\"#fb9f3a\"],[0.8888888888888888,\"#fdca26\"],[1.0,\"#f0f921\"]]}],\"heatmap\":[{\"type\":\"heatmap\",\"colorbar\":{\"outlinewidth\":0,\"ticks\":\"\"},\"colorscale\":[[0.0,\"#0d0887\"],[0.1111111111111111,\"#46039f\"],[0.2222222222222222,\"#7201a8\"],[0.3333333333333333,\"#9c179e\"],[0.4444444444444444,\"#bd3786\"],[0.5555555555555556,\"#d8576b\"],[0.6666666666666666,\"#ed7953\"],[0.7777777777777778,\"#fb9f3a\"],[0.8888888888888888,\"#fdca26\"],[1.0,\"#f0f921\"]]}],\"heatmapgl\":[{\"type\":\"heatmapgl\",\"colorbar\":{\"outlinewidth\":0,\"ticks\":\"\"},\"colorscale\":[[0.0,\"#0d0887\"],[0.1111111111111111,\"#46039f\"],[0.2222222222222222,\"#7201a8\"],[0.3333333333333333,\"#9c179e\"],[0.4444444444444444,\"#bd3786\"],[0.5555555555555556,\"#d8576b\"],[0.6666666666666666,\"#ed7953\"],[0.7777777777777778,\"#fb9f3a\"],[0.8888888888888888,\"#fdca26\"],[1.0,\"#f0f921\"]]}],\"contourcarpet\":[{\"type\":\"contourcarpet\",\"colorbar\":{\"outlinewidth\":0,\"ticks\":\"\"}}],\"contour\":[{\"type\":\"contour\",\"colorbar\":{\"outlinewidth\":0,\"ticks\":\"\"},\"colorscale\":[[0.0,\"#0d0887\"],[0.1111111111111111,\"#46039f\"],[0.2222222222222222,\"#7201a8\"],[0.3333333333333333,\"#9c179e\"],[0.4444444444444444,\"#bd3786\"],[0.5555555555555556,\"#d8576b\"],[0.6666666666666666,\"#ed7953\"],[0.7777777777777778,\"#fb9f3a\"],[0.8888888888888888,\"#fdca26\"],[1.0,\"#f0f921\"]]}],\"surface\":[{\"type\":\"surface\",\"colorbar\":{\"outlinewidth\":0,\"ticks\":\"\"},\"colorscale\":[[0.0,\"#0d0887\"],[0.1111111111111111,\"#46039f\"],[0.2222222222222222,\"#7201a8\"],[0.3333333333333333,\"#9c179e\"],[0.4444444444444444,\"#bd3786\"],[0.5555555555555556,\"#d8576b\"],[0.6666666666666666,\"#ed7953\"],[0.7777777777777778,\"#fb9f3a\"],[0.8888888888888888,\"#fdca26\"],[1.0,\"#f0f921\"]]}],\"mesh3d\":[{\"type\":\"mesh3d\",\"colorbar\":{\"outlinewidth\":0,\"ticks\":\"\"}}],\"scatter\":[{\"fillpattern\":{\"fillmode\":\"overlay\",\"size\":10,\"solidity\":0.2},\"type\":\"scatter\"}],\"parcoords\":[{\"type\":\"parcoords\",\"line\":{\"colorbar\":{\"outlinewidth\":0,\"ticks\":\"\"}}}],\"scatterpolargl\":[{\"type\":\"scatterpolargl\",\"marker\":{\"colorbar\":{\"outlinewidth\":0,\"ticks\":\"\"}}}],\"bar\":[{\"error_x\":{\"color\":\"#2a3f5f\"},\"error_y\":{\"color\":\"#2a3f5f\"},\"marker\":{\"line\":{\"color\":\"#E5ECF6\",\"width\":0.5},\"pattern\":{\"fillmode\":\"overlay\",\"size\":10,\"solidity\":0.2}},\"type\":\"bar\"}],\"scattergeo\":[{\"type\":\"scattergeo\",\"marker\":{\"colorbar\":{\"outlinewidth\":0,\"ticks\":\"\"}}}],\"scatterpolar\":[{\"type\":\"scatterpolar\",\"marker\":{\"colorbar\":{\"outlinewidth\":0,\"ticks\":\"\"}}}],\"histogram\":[{\"marker\":{\"pattern\":{\"fillmode\":\"overlay\",\"size\":10,\"solidity\":0.2}},\"type\":\"histogram\"}],\"scattergl\":[{\"type\":\"scattergl\",\"marker\":{\"colorbar\":{\"outlinewidth\":0,\"ticks\":\"\"}}}],\"scatter3d\":[{\"type\":\"scatter3d\",\"line\":{\"colorbar\":{\"outlinewidth\":0,\"ticks\":\"\"}},\"marker\":{\"colorbar\":{\"outlinewidth\":0,\"ticks\":\"\"}}}],\"scattermapbox\":[{\"type\":\"scattermapbox\",\"marker\":{\"colorbar\":{\"outlinewidth\":0,\"ticks\":\"\"}}}],\"scatterternary\":[{\"type\":\"scatterternary\",\"marker\":{\"colorbar\":{\"outlinewidth\":0,\"ticks\":\"\"}}}],\"scattercarpet\":[{\"type\":\"scattercarpet\",\"marker\":{\"colorbar\":{\"outlinewidth\":0,\"ticks\":\"\"}}}],\"carpet\":[{\"aaxis\":{\"endlinecolor\":\"#2a3f5f\",\"gridcolor\":\"white\",\"linecolor\":\"white\",\"minorgridcolor\":\"white\",\"startlinecolor\":\"#2a3f5f\"},\"baxis\":{\"endlinecolor\":\"#2a3f5f\",\"gridcolor\":\"white\",\"linecolor\":\"white\",\"minorgridcolor\":\"white\",\"startlinecolor\":\"#2a3f5f\"},\"type\":\"carpet\"}],\"table\":[{\"cells\":{\"fill\":{\"color\":\"#EBF0F8\"},\"line\":{\"color\":\"white\"}},\"header\":{\"fill\":{\"color\":\"#C8D4E3\"},\"line\":{\"color\":\"white\"}},\"type\":\"table\"}],\"barpolar\":[{\"marker\":{\"line\":{\"color\":\"#E5ECF6\",\"width\":0.5},\"pattern\":{\"fillmode\":\"overlay\",\"size\":10,\"solidity\":0.2}},\"type\":\"barpolar\"}],\"pie\":[{\"automargin\":true,\"type\":\"pie\"}]},\"layout\":{\"autotypenumbers\":\"strict\",\"colorway\":[\"#636efa\",\"#EF553B\",\"#00cc96\",\"#ab63fa\",\"#FFA15A\",\"#19d3f3\",\"#FF6692\",\"#B6E880\",\"#FF97FF\",\"#FECB52\"],\"font\":{\"color\":\"#2a3f5f\"},\"hovermode\":\"closest\",\"hoverlabel\":{\"align\":\"left\"},\"paper_bgcolor\":\"white\",\"plot_bgcolor\":\"#E5ECF6\",\"polar\":{\"bgcolor\":\"#E5ECF6\",\"angularaxis\":{\"gridcolor\":\"white\",\"linecolor\":\"white\",\"ticks\":\"\"},\"radialaxis\":{\"gridcolor\":\"white\",\"linecolor\":\"white\",\"ticks\":\"\"}},\"ternary\":{\"bgcolor\":\"#E5ECF6\",\"aaxis\":{\"gridcolor\":\"white\",\"linecolor\":\"white\",\"ticks\":\"\"},\"baxis\":{\"gridcolor\":\"white\",\"linecolor\":\"white\",\"ticks\":\"\"},\"caxis\":{\"gridcolor\":\"white\",\"linecolor\":\"white\",\"ticks\":\"\"}},\"coloraxis\":{\"colorbar\":{\"outlinewidth\":0,\"ticks\":\"\"}},\"colorscale\":{\"sequential\":[[0.0,\"#0d0887\"],[0.1111111111111111,\"#46039f\"],[0.2222222222222222,\"#7201a8\"],[0.3333333333333333,\"#9c179e\"],[0.4444444444444444,\"#bd3786\"],[0.5555555555555556,\"#d8576b\"],[0.6666666666666666,\"#ed7953\"],[0.7777777777777778,\"#fb9f3a\"],[0.8888888888888888,\"#fdca26\"],[1.0,\"#f0f921\"]],\"sequentialminus\":[[0.0,\"#0d0887\"],[0.1111111111111111,\"#46039f\"],[0.2222222222222222,\"#7201a8\"],[0.3333333333333333,\"#9c179e\"],[0.4444444444444444,\"#bd3786\"],[0.5555555555555556,\"#d8576b\"],[0.6666666666666666,\"#ed7953\"],[0.7777777777777778,\"#fb9f3a\"],[0.8888888888888888,\"#fdca26\"],[1.0,\"#f0f921\"]],\"diverging\":[[0,\"#8e0152\"],[0.1,\"#c51b7d\"],[0.2,\"#de77ae\"],[0.3,\"#f1b6da\"],[0.4,\"#fde0ef\"],[0.5,\"#f7f7f7\"],[0.6,\"#e6f5d0\"],[0.7,\"#b8e186\"],[0.8,\"#7fbc41\"],[0.9,\"#4d9221\"],[1,\"#276419\"]]},\"xaxis\":{\"gridcolor\":\"white\",\"linecolor\":\"white\",\"ticks\":\"\",\"title\":{\"standoff\":15},\"zerolinecolor\":\"white\",\"automargin\":true,\"zerolinewidth\":2},\"yaxis\":{\"gridcolor\":\"white\",\"linecolor\":\"white\",\"ticks\":\"\",\"title\":{\"standoff\":15},\"zerolinecolor\":\"white\",\"automargin\":true,\"zerolinewidth\":2},\"scene\":{\"xaxis\":{\"backgroundcolor\":\"#E5ECF6\",\"gridcolor\":\"white\",\"linecolor\":\"white\",\"showbackground\":true,\"ticks\":\"\",\"zerolinecolor\":\"white\",\"gridwidth\":2},\"yaxis\":{\"backgroundcolor\":\"#E5ECF6\",\"gridcolor\":\"white\",\"linecolor\":\"white\",\"showbackground\":true,\"ticks\":\"\",\"zerolinecolor\":\"white\",\"gridwidth\":2},\"zaxis\":{\"backgroundcolor\":\"#E5ECF6\",\"gridcolor\":\"white\",\"linecolor\":\"white\",\"showbackground\":true,\"ticks\":\"\",\"zerolinecolor\":\"white\",\"gridwidth\":2}},\"shapedefaults\":{\"line\":{\"color\":\"#2a3f5f\"}},\"annotationdefaults\":{\"arrowcolor\":\"#2a3f5f\",\"arrowhead\":0,\"arrowwidth\":1},\"geo\":{\"bgcolor\":\"white\",\"landcolor\":\"#E5ECF6\",\"subunitcolor\":\"white\",\"showland\":true,\"showlakes\":true,\"lakecolor\":\"white\"},\"title\":{\"x\":0.05},\"mapbox\":{\"style\":\"light\"}}},\"font\":{\"family\":\"Averta, sans-serif\"},\"hoverlabel\":{\"font\":{\"family\":\"Averta, sans-serif\",\"size\":16}},\"xaxis\":{\"title\":{\"font\":{\"size\":18},\"text\":\"Week\"},\"tickfont\":{\"size\":16}},\"yaxis\":{\"title\":{\"font\":{\"size\":18},\"text\":\"Passing TDs\"},\"tickfont\":{\"size\":16}},\"legend\":{\"font\":{\"size\":16}},\"height\":1000,\"width\":1000},                        {\"responsive\": true}                    ).then(function(){\n",
       "                            \n",
       "var gd = document.getElementById('fdae9461-61ba-494e-881a-547d65948d11');\n",
       "var x = new MutationObserver(function (mutations, observer) {{\n",
       "        var display = window.getComputedStyle(gd).display;\n",
       "        if (!display || display === 'none') {{\n",
       "            console.log([gd, 'removed!']);\n",
       "            Plotly.purge(gd);\n",
       "            observer.disconnect();\n",
       "        }}\n",
       "}});\n",
       "\n",
       "// Listen for the removal of the full notebook cells\n",
       "var notebookContainer = gd.closest('#notebook-container');\n",
       "if (notebookContainer) {{\n",
       "    x.observe(notebookContainer, {childList: true});\n",
       "}}\n",
       "\n",
       "// Listen for the clearing of the current output cell\n",
       "var outputEl = gd.closest('.output');\n",
       "if (outputEl) {{\n",
       "    x.observe(outputEl, {childList: true});\n",
       "}}\n",
       "\n",
       "                        })                };                });            </script>        </div>"
      ]
     },
     "metadata": {},
     "output_type": "display_data"
    }
   ],
   "source": [
    "fig = go.Figure()\n",
    "for name, values in df_agg.groupby(\"player_name\"):\n",
    "    if values[\"pass_touchdown\"].sum() > 5:\n",
    "        fig.add_trace(\n",
    "            go.Scatter(\n",
    "                x=values[\"week\"], \n",
    "                y=values[\"pass_touchdown\"].cumsum(), \n",
    "                name=name, \n",
    "                mode=\"markers+lines\", \n",
    "                line_color=values.iloc[0].team_color,\n",
    "                hovertemplate=f\"<b>{name}</b><br>%{{y}} pass TDs through week %{{x}}<extra></extra>\"\n",
    "            )\n",
    "        )\n",
    "    \n",
    "fig.update_layout(\n",
    "    font_family=\"Averta, sans-serif\",\n",
    "    hoverlabel_font_family=\"Averta, sans-serif\",\n",
    "    xaxis_title_text=\"Week\",\n",
    "    xaxis_title_font_size=18,\n",
    "    xaxis_tickfont_size=16,\n",
    "    yaxis_title_text=\"Passing TDs\",\n",
    "    yaxis_title_font_size=18,\n",
    "    yaxis_tickfont_size=16,\n",
    "    hoverlabel_font_size=16,\n",
    "    legend_font_size=16,\n",
    "    height=1000,\n",
    "    width=1000\n",
    ")\n",
    "    \n",
    "fig.show()"
   ]
  },
  {
   "cell_type": "code",
   "execution_count": null,
   "id": "bba88db2",
   "metadata": {},
   "outputs": [],
   "source": []
  }
 ],
 "metadata": {
  "kernelspec": {
   "display_name": "PythonData",
   "language": "python",
   "name": "pythondata"
  },
  "language_info": {
   "codemirror_mode": {
    "name": "ipython",
    "version": 3
   },
   "file_extension": ".py",
   "mimetype": "text/x-python",
   "name": "python",
   "nbconvert_exporter": "python",
   "pygments_lexer": "ipython3",
   "version": "3.7.11"
  }
 },
 "nbformat": 4,
 "nbformat_minor": 5
}
